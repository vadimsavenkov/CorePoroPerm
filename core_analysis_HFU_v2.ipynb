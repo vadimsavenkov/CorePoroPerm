{
 "cells": [
  {
   "cell_type": "markdown",
   "metadata": {},
   "source": [
    "# KMean Clustering Test\n",
    "\n"
   ]
  },
  {
   "cell_type": "markdown",
   "metadata": {
    "collapsed": true
   },
   "source": [
    "**The required libraries are imported as below.**"
   ]
  },
  {
   "cell_type": "code",
   "execution_count": 1,
   "metadata": {},
   "outputs": [],
   "source": [
    "import pandas as pd\n",
    "import numpy as np\n",
    "import matplotlib.pyplot as plt\n",
    "import seaborn as sns\n",
    "sns.set_style('whitegrid')\n",
    "%matplotlib inline\n",
    "from tabulate import tabulate"
   ]
  },
  {
   "cell_type": "code",
   "execution_count": 2,
   "metadata": {},
   "outputs": [],
   "source": [
    "#!pip install tabulate\n",
    "#the styles that you can use :\n",
    "\n",
    "#“plain”\n",
    "#“simple”\n",
    "#“github”\n",
    "#“grid”\n",
    "#“fancy_grid”\n",
    "#“pipe”\n",
    "#“orgtbl”\n",
    "#“jira”\n",
    "#“presto”\n",
    "#“pretty”\n",
    "#“psql”\n",
    "#“rst”\n",
    "#“mediawiki”\n",
    "#“moinmoin”\n",
    "#“youtrack”\n",
    "#“html”\n",
    "#“latex”\n",
    "#“latex_raw”\n",
    "#“latex_booktabs”\n",
    "#“textile”"
   ]
  },
  {
   "cell_type": "code",
   "execution_count": 3,
   "metadata": {},
   "outputs": [
    {
     "name": "stdout",
     "output_type": "stream",
     "text": [
      "<class 'pandas.core.frame.DataFrame'>\n",
      "RangeIndex: 194 entries, 0 to 193\n",
      "Data columns (total 4 columns):\n",
      " #   Column  Non-Null Count  Dtype  \n",
      "---  ------  --------------  -----  \n",
      " 0   DEPTH   194 non-null    float64\n",
      " 1   CPERM   194 non-null    float64\n",
      " 2   CPOR    194 non-null    float64\n",
      " 3   WELL    194 non-null    object \n",
      "dtypes: float64(3), object(1)\n",
      "memory usage: 6.2+ KB\n"
     ]
    }
   ],
   "source": [
    "df = pd.read_csv('Wells_Core.csv')\n",
    "#df.dropna(inplace=True)\n",
    "df.info()"
   ]
  },
  {
   "cell_type": "code",
   "execution_count": 4,
   "metadata": {},
   "outputs": [
    {
     "data": {
      "text/html": [
       "<div>\n",
       "<style scoped>\n",
       "    .dataframe tbody tr th:only-of-type {\n",
       "        vertical-align: middle;\n",
       "    }\n",
       "\n",
       "    .dataframe tbody tr th {\n",
       "        vertical-align: top;\n",
       "    }\n",
       "\n",
       "    .dataframe thead th {\n",
       "        text-align: right;\n",
       "    }\n",
       "</style>\n",
       "<table border=\"1\" class=\"dataframe\">\n",
       "  <thead>\n",
       "    <tr style=\"text-align: right;\">\n",
       "      <th></th>\n",
       "      <th>DEPTH</th>\n",
       "      <th>CPERM</th>\n",
       "      <th>CPOR</th>\n",
       "      <th>WELL</th>\n",
       "    </tr>\n",
       "  </thead>\n",
       "  <tbody>\n",
       "    <tr>\n",
       "      <th>0</th>\n",
       "      <td>3545.0</td>\n",
       "      <td>0.7</td>\n",
       "      <td>0.04</td>\n",
       "      <td>wb1</td>\n",
       "    </tr>\n",
       "    <tr>\n",
       "      <th>1</th>\n",
       "      <td>3547.0</td>\n",
       "      <td>2.2</td>\n",
       "      <td>0.10</td>\n",
       "      <td>wb1</td>\n",
       "    </tr>\n",
       "    <tr>\n",
       "      <th>2</th>\n",
       "      <td>3548.0</td>\n",
       "      <td>1.1</td>\n",
       "      <td>0.10</td>\n",
       "      <td>wb1</td>\n",
       "    </tr>\n",
       "    <tr>\n",
       "      <th>3</th>\n",
       "      <td>3550.0</td>\n",
       "      <td>1.3</td>\n",
       "      <td>0.10</td>\n",
       "      <td>wb1</td>\n",
       "    </tr>\n",
       "    <tr>\n",
       "      <th>4</th>\n",
       "      <td>3552.0</td>\n",
       "      <td>1.0</td>\n",
       "      <td>0.07</td>\n",
       "      <td>wb1</td>\n",
       "    </tr>\n",
       "  </tbody>\n",
       "</table>\n",
       "</div>"
      ],
      "text/plain": [
       "    DEPTH  CPERM  CPOR WELL\n",
       "0  3545.0    0.7  0.04  wb1\n",
       "1  3547.0    2.2  0.10  wb1\n",
       "2  3548.0    1.1  0.10  wb1\n",
       "3  3550.0    1.3  0.10  wb1\n",
       "4  3552.0    1.0  0.07  wb1"
      ]
     },
     "execution_count": 4,
     "metadata": {},
     "output_type": "execute_result"
    }
   ],
   "source": [
    "df = df[df.CPERM != 0]\n",
    "df.head()"
   ]
  },
  {
   "cell_type": "code",
   "execution_count": 5,
   "metadata": {},
   "outputs": [
    {
     "data": {
      "text/html": [
       "<div>\n",
       "<style scoped>\n",
       "    .dataframe tbody tr th:only-of-type {\n",
       "        vertical-align: middle;\n",
       "    }\n",
       "\n",
       "    .dataframe tbody tr th {\n",
       "        vertical-align: top;\n",
       "    }\n",
       "\n",
       "    .dataframe thead th {\n",
       "        text-align: right;\n",
       "    }\n",
       "</style>\n",
       "<table border=\"1\" class=\"dataframe\">\n",
       "  <thead>\n",
       "    <tr style=\"text-align: right;\">\n",
       "      <th></th>\n",
       "      <th>DEPTH</th>\n",
       "      <th>CPERM</th>\n",
       "      <th>CPOR</th>\n",
       "      <th>WELL</th>\n",
       "      <th>RQI</th>\n",
       "      <th>PHIz</th>\n",
       "      <th>FZI</th>\n",
       "      <th>LFZI</th>\n",
       "    </tr>\n",
       "  </thead>\n",
       "  <tbody>\n",
       "    <tr>\n",
       "      <th>189</th>\n",
       "      <td>3438.83</td>\n",
       "      <td>0.32</td>\n",
       "      <td>0.09</td>\n",
       "      <td>wb7</td>\n",
       "      <td>0.059208</td>\n",
       "      <td>0.098901</td>\n",
       "      <td>0.598663</td>\n",
       "      <td>-0.222818</td>\n",
       "    </tr>\n",
       "    <tr>\n",
       "      <th>190</th>\n",
       "      <td>3439.42</td>\n",
       "      <td>0.09</td>\n",
       "      <td>0.09</td>\n",
       "      <td>wb7</td>\n",
       "      <td>0.031400</td>\n",
       "      <td>0.098901</td>\n",
       "      <td>0.317489</td>\n",
       "      <td>-0.498271</td>\n",
       "    </tr>\n",
       "    <tr>\n",
       "      <th>191</th>\n",
       "      <td>3440.83</td>\n",
       "      <td>0.05</td>\n",
       "      <td>0.08</td>\n",
       "      <td>wb7</td>\n",
       "      <td>0.024824</td>\n",
       "      <td>0.086957</td>\n",
       "      <td>0.285475</td>\n",
       "      <td>-0.544433</td>\n",
       "    </tr>\n",
       "    <tr>\n",
       "      <th>192</th>\n",
       "      <td>3443.42</td>\n",
       "      <td>0.04</td>\n",
       "      <td>0.08</td>\n",
       "      <td>wb7</td>\n",
       "      <td>0.022203</td>\n",
       "      <td>0.086957</td>\n",
       "      <td>0.255336</td>\n",
       "      <td>-0.592888</td>\n",
       "    </tr>\n",
       "    <tr>\n",
       "      <th>193</th>\n",
       "      <td>3444.00</td>\n",
       "      <td>0.09</td>\n",
       "      <td>0.10</td>\n",
       "      <td>wb7</td>\n",
       "      <td>0.029789</td>\n",
       "      <td>0.111111</td>\n",
       "      <td>0.268098</td>\n",
       "      <td>-0.571707</td>\n",
       "    </tr>\n",
       "  </tbody>\n",
       "</table>\n",
       "</div>"
      ],
      "text/plain": [
       "       DEPTH  CPERM  CPOR WELL       RQI      PHIz       FZI      LFZI\n",
       "189  3438.83   0.32  0.09  wb7  0.059208  0.098901  0.598663 -0.222818\n",
       "190  3439.42   0.09  0.09  wb7  0.031400  0.098901  0.317489 -0.498271\n",
       "191  3440.83   0.05  0.08  wb7  0.024824  0.086957  0.285475 -0.544433\n",
       "192  3443.42   0.04  0.08  wb7  0.022203  0.086957  0.255336 -0.592888\n",
       "193  3444.00   0.09  0.10  wb7  0.029789  0.111111  0.268098 -0.571707"
      ]
     },
     "execution_count": 5,
     "metadata": {},
     "output_type": "execute_result"
    }
   ],
   "source": [
    "def rock_quality_index(core_permeability, core_porosity):\n",
    "    RQI = 0.0314*(np.sqrt(core_permeability/core_porosity))\n",
    "    return RQI\n",
    "df['RQI'] = rock_quality_index(df['CPERM'], df['CPOR'])\n",
    "\n",
    "def pore_grain_volume(core_porosity):\n",
    "    PHIz = core_porosity / (1 - core_porosity)\n",
    "    return PHIz\n",
    "df['PHIz'] = pore_grain_volume(df['CPOR'])\n",
    "\n",
    "def flow_zone_indicator(rock_quality_index, pore_grain_volume):\n",
    "    FZI = rock_quality_index / pore_grain_volume\n",
    "    return FZI\n",
    "df['FZI'] =flow_zone_indicator(df['RQI'], df['PHIz'] )\n",
    "\n",
    "def log_FZI(flow_zone_indicator):\n",
    "    LFZI = np.log10(flow_zone_indicator)\n",
    "    return LFZI\n",
    "df['LFZI'] = log_FZI(df['FZI'])\n",
    "\n",
    "df.tail()"
   ]
  },
  {
   "cell_type": "code",
   "execution_count": 6,
   "metadata": {},
   "outputs": [
    {
     "data": {
      "text/html": [
       "<div>\n",
       "<style scoped>\n",
       "    .dataframe tbody tr th:only-of-type {\n",
       "        vertical-align: middle;\n",
       "    }\n",
       "\n",
       "    .dataframe tbody tr th {\n",
       "        vertical-align: top;\n",
       "    }\n",
       "\n",
       "    .dataframe thead th {\n",
       "        text-align: right;\n",
       "    }\n",
       "</style>\n",
       "<table border=\"1\" class=\"dataframe\">\n",
       "  <thead>\n",
       "    <tr style=\"text-align: right;\">\n",
       "      <th></th>\n",
       "      <th>DEPTH</th>\n",
       "      <th>CPERM</th>\n",
       "      <th>CPOR</th>\n",
       "      <th>WELL</th>\n",
       "      <th>RQI</th>\n",
       "      <th>PHIz</th>\n",
       "      <th>FZI</th>\n",
       "      <th>LFZI</th>\n",
       "    </tr>\n",
       "  </thead>\n",
       "  <tbody>\n",
       "    <tr>\n",
       "      <th>24</th>\n",
       "      <td>3045.00</td>\n",
       "      <td>321.81</td>\n",
       "      <td>0.13</td>\n",
       "      <td>we1</td>\n",
       "      <td>1.562276</td>\n",
       "      <td>0.149425</td>\n",
       "      <td>10.455231</td>\n",
       "      <td>1.019334</td>\n",
       "    </tr>\n",
       "    <tr>\n",
       "      <th>22</th>\n",
       "      <td>3038.00</td>\n",
       "      <td>130.01</td>\n",
       "      <td>0.11</td>\n",
       "      <td>we1</td>\n",
       "      <td>1.079498</td>\n",
       "      <td>0.123596</td>\n",
       "      <td>8.734117</td>\n",
       "      <td>0.941219</td>\n",
       "    </tr>\n",
       "    <tr>\n",
       "      <th>96</th>\n",
       "      <td>4965.00</td>\n",
       "      <td>62.76</td>\n",
       "      <td>0.09</td>\n",
       "      <td>wf1</td>\n",
       "      <td>0.829182</td>\n",
       "      <td>0.098901</td>\n",
       "      <td>8.383951</td>\n",
       "      <td>0.923449</td>\n",
       "    </tr>\n",
       "    <tr>\n",
       "      <th>47</th>\n",
       "      <td>4872.00</td>\n",
       "      <td>0.06</td>\n",
       "      <td>0.01</td>\n",
       "      <td>wf1</td>\n",
       "      <td>0.076914</td>\n",
       "      <td>0.010101</td>\n",
       "      <td>7.614484</td>\n",
       "      <td>0.881640</td>\n",
       "    </tr>\n",
       "    <tr>\n",
       "      <th>23</th>\n",
       "      <td>3043.00</td>\n",
       "      <td>161.57</td>\n",
       "      <td>0.13</td>\n",
       "      <td>we1</td>\n",
       "      <td>1.106976</td>\n",
       "      <td>0.149425</td>\n",
       "      <td>7.408226</td>\n",
       "      <td>0.869714</td>\n",
       "    </tr>\n",
       "    <tr>\n",
       "      <th>...</th>\n",
       "      <td>...</td>\n",
       "      <td>...</td>\n",
       "      <td>...</td>\n",
       "      <td>...</td>\n",
       "      <td>...</td>\n",
       "      <td>...</td>\n",
       "      <td>...</td>\n",
       "      <td>...</td>\n",
       "    </tr>\n",
       "    <tr>\n",
       "      <th>140</th>\n",
       "      <td>3388.42</td>\n",
       "      <td>0.02</td>\n",
       "      <td>0.09</td>\n",
       "      <td>wb7</td>\n",
       "      <td>0.014802</td>\n",
       "      <td>0.098901</td>\n",
       "      <td>0.149666</td>\n",
       "      <td>-0.824878</td>\n",
       "    </tr>\n",
       "    <tr>\n",
       "      <th>28</th>\n",
       "      <td>3619.00</td>\n",
       "      <td>0.10</td>\n",
       "      <td>0.15</td>\n",
       "      <td>we1</td>\n",
       "      <td>0.025638</td>\n",
       "      <td>0.176471</td>\n",
       "      <td>0.145282</td>\n",
       "      <td>-0.837788</td>\n",
       "    </tr>\n",
       "    <tr>\n",
       "      <th>159</th>\n",
       "      <td>3406.75</td>\n",
       "      <td>0.01</td>\n",
       "      <td>0.08</td>\n",
       "      <td>wb7</td>\n",
       "      <td>0.011102</td>\n",
       "      <td>0.086957</td>\n",
       "      <td>0.127668</td>\n",
       "      <td>-0.893918</td>\n",
       "    </tr>\n",
       "    <tr>\n",
       "      <th>178</th>\n",
       "      <td>3427.42</td>\n",
       "      <td>0.02</td>\n",
       "      <td>0.10</td>\n",
       "      <td>wb7</td>\n",
       "      <td>0.014043</td>\n",
       "      <td>0.111111</td>\n",
       "      <td>0.126383</td>\n",
       "      <td>-0.898313</td>\n",
       "    </tr>\n",
       "    <tr>\n",
       "      <th>149</th>\n",
       "      <td>3397.58</td>\n",
       "      <td>0.02</td>\n",
       "      <td>0.10</td>\n",
       "      <td>wb7</td>\n",
       "      <td>0.014043</td>\n",
       "      <td>0.111111</td>\n",
       "      <td>0.126383</td>\n",
       "      <td>-0.898313</td>\n",
       "    </tr>\n",
       "  </tbody>\n",
       "</table>\n",
       "<p>163 rows × 8 columns</p>\n",
       "</div>"
      ],
      "text/plain": [
       "       DEPTH   CPERM  CPOR WELL       RQI      PHIz        FZI      LFZI\n",
       "24   3045.00  321.81  0.13  we1  1.562276  0.149425  10.455231  1.019334\n",
       "22   3038.00  130.01  0.11  we1  1.079498  0.123596   8.734117  0.941219\n",
       "96   4965.00   62.76  0.09  wf1  0.829182  0.098901   8.383951  0.923449\n",
       "47   4872.00    0.06  0.01  wf1  0.076914  0.010101   7.614484  0.881640\n",
       "23   3043.00  161.57  0.13  we1  1.106976  0.149425   7.408226  0.869714\n",
       "..       ...     ...   ...  ...       ...       ...        ...       ...\n",
       "140  3388.42    0.02  0.09  wb7  0.014802  0.098901   0.149666 -0.824878\n",
       "28   3619.00    0.10  0.15  we1  0.025638  0.176471   0.145282 -0.837788\n",
       "159  3406.75    0.01  0.08  wb7  0.011102  0.086957   0.127668 -0.893918\n",
       "178  3427.42    0.02  0.10  wb7  0.014043  0.111111   0.126383 -0.898313\n",
       "149  3397.58    0.02  0.10  wb7  0.014043  0.111111   0.126383 -0.898313\n",
       "\n",
       "[163 rows x 8 columns]"
      ]
     },
     "execution_count": 6,
     "metadata": {},
     "output_type": "execute_result"
    }
   ],
   "source": [
    "df.sort_values('FZI', ascending=False)"
   ]
  },
  {
   "cell_type": "code",
   "execution_count": 50,
   "metadata": {},
   "outputs": [
    {
     "name": "stdout",
     "output_type": "stream",
     "text": [
      "0.24 0.78 0.54 0.3 0.061 -0.179 -0.419 -0.659 -0.898\n"
     ]
    }
   ],
   "source": [
    "def flow_zone_number(lfzi_max, lfzi_min):\n",
    "    FZN = (lfzi_max - lfzi_min)/8\n",
    "    return round(FZN, 8)\n",
    "\n",
    "increment = flow_zone_number(df['LFZI'].max(), df['LFZI'].min())\n",
    "unit8 = df['LFZI'].max()-increment\n",
    "unit7 = unit8-increment\n",
    "unit6 = unit7-increment\n",
    "unit5 = unit6-increment\n",
    "unit4 = unit5-increment\n",
    "unit3 = unit4-increment\n",
    "unit2 = unit3-increment\n",
    "unit1 = unit2-increment\n",
    "\n",
    "print(round(increment, 3), round(unit8,3), round(unit7,3), round(unit6,3), round(unit5,3), round(unit4,3), round(unit3,3), round(unit2,3), round(unit1,3))\n",
    "\n"
   ]
  },
  {
   "cell_type": "code",
   "execution_count": 94,
   "metadata": {},
   "outputs": [],
   "source": [
    "def flow_zone_unit(value):\n",
    "    \n",
    "    increament = flow_zone_number(df['LFZI'].max(), df['LFZI'].min())\n",
    "    unit8 = df['LFZI'].max() - increament\n",
    "    unit7 = unit8 - increament\n",
    "    unit6 = unit7 - increament\n",
    "    unit5 = unit6 - increament\n",
    "    unit4 = unit5 - increament\n",
    "    unit3 = unit4 - increament\n",
    "    unit2 = unit3 - increament\n",
    "    unit1 = unit2 - increament\n",
    "    \n",
    "    if value['LFZI'] > unit8:\n",
    "        return 'HFU8'\n",
    "    elif value['LFZI'] <= unit8 and value['LFZI'] > unit7:\n",
    "        return 'HFU7'\n",
    "    elif value['LFZI'] <= unit7 and value['LFZI'] > unit6:\n",
    "        return 'HFU6'\n",
    "    elif value['LFZI'] <= unit6 and value['LFZI'] > unit5:\n",
    "        return 'HFU5'\n",
    "    elif value['LFZI'] <= unit5 and value['LFZI'] > unit4:\n",
    "        return 'HFU4'\n",
    "    elif value['LFZI'] <= unit4 and value['LFZI'] > unit3:\n",
    "        return 'HFU3'\n",
    "    elif value['LFZI'] <= unit3 and value['LFZI'] > unit2:\n",
    "        return 'HFU2'\n",
    "    else:\n",
    "        return 'HFU1'\n",
    "\n",
    "df['HFU'] = df.apply(lambda x : flow_zone_unit(x), axis=1)\n"
   ]
  },
  {
   "cell_type": "code",
   "execution_count": 95,
   "metadata": {},
   "outputs": [
    {
     "name": "stdout",
     "output_type": "stream",
     "text": [
      "+-----+---------+---------+--------+--------+-----------+-----------+-----------+-------------+-------+\n",
      "|     |   DEPTH |   CPERM |   CPOR | WELL   |       RQI |      PHIz |       FZI |        LFZI | HFU   |\n",
      "|-----+---------+---------+--------+--------+-----------+-----------+-----------+-------------+-------|\n",
      "|  24 | 3045    |  321.81 |   0.13 | we1    | 1.56228   | 0.149425  | 10.4552   |  1.01933    | HFU8  |\n",
      "|  22 | 3038    |  130.01 |   0.11 | we1    | 1.0795    | 0.123596  |  8.73412  |  0.941219   | HFU8  |\n",
      "|  96 | 4965    |   62.76 |   0.09 | wf1    | 0.829182  | 0.0989011 |  8.38395  |  0.923449   | HFU8  |\n",
      "|  47 | 4872    |    0.06 |   0.01 | wf1    | 0.076914  | 0.010101  |  7.61448  |  0.88164    | HFU8  |\n",
      "|  23 | 3043    |  161.57 |   0.13 | we1    | 1.10698   | 0.149425  |  7.40823  |  0.869714   | HFU8  |\n",
      "|  26 | 3051    |  102.65 |   0.12 | we1    | 0.918372  | 0.136364  |  6.73473  |  0.82832    | HFU8  |\n",
      "| 156 | 3403.5  |  132.98 |   0.13 | wb7    | 1.00427   | 0.149425  |  6.72089  |  0.827427   | HFU8  |\n",
      "|  95 | 4965    |   93.13 |   0.12 | wf1    | 0.87475   | 0.136364  |  6.41483  |  0.807185   | HFU8  |\n",
      "| 101 | 4971    |  238.51 |   0.16 | wf1    | 1.21234   | 0.190476  |  6.36476  |  0.803782   | HFU8  |\n",
      "|  40 | 4864    |  151.8  |   0.14 | wf1    | 1.03395   | 0.162791  |  6.35144  |  0.802872   | HFU8  |\n",
      "|  41 | 4865.5  |  118    |   0.13 | wf1    | 0.946017  | 0.149425  |  6.33104  |  0.801475   | HFU8  |\n",
      "|  39 | 4863    |  112.32 |   0.13 | wf1    | 0.922968  | 0.149425  |  6.17678  |  0.790762   | HFU8  |\n",
      "|  25 | 3049    |  176.82 |   0.15 | we1    | 1.07808   | 0.176471  |  6.1091   |  0.785977   | HFU8  |\n",
      "| 111 | 1170.75 |  365    |   0.19 | wn1    | 1.37626   | 0.234568  |  5.8672   |  0.768431   | HFU7  |\n",
      "|  45 | 4869    |  488.89 |   0.21 | wf1    | 1.51505   | 0.265823  |  5.69946  |  0.755833   | HFU7  |\n",
      "| 100 | 4970    |  146.16 |   0.15 | wf1    | 0.980163  | 0.176471  |  5.55426  |  0.744626   | HFU7  |\n",
      "|  98 | 4968    |   81.27 |   0.13 | wf1    | 0.785097  | 0.149425  |  5.25411  |  0.720499   | HFU7  |\n",
      "| 161 | 3408.17 |   99.64 |   0.14 | wb7    | 0.837688  | 0.162791  |  5.1458   |  0.711453   | HFU7  |\n",
      "|  99 | 4969    |   74.82 |   0.13 | wf1    | 0.753298  | 0.149425  |  5.0413   |  0.702543   | HFU7  |\n",
      "| 112 | 1177.5  |  362    |   0.21 | wn1    | 1.30369   | 0.265823  |  4.90436  |  0.690582   | HFU7  |\n",
      "| 153 | 3401.25 |  139.81 |   0.16 | wb7    | 0.928194  | 0.190476  |  4.87302  |  0.687798   | HFU7  |\n",
      "| 152 | 3400    |  138.46 |   0.16 | wb7    | 0.923702  | 0.190476  |  4.84943  |  0.685691   | HFU7  |\n",
      "|  37 | 4861    |   83.17 |   0.14 | wf1    | 0.76533   | 0.162791  |  4.70132  |  0.672219   | HFU7  |\n",
      "|  38 | 4862    |   94.4  |   0.15 | wf1    | 0.787717  | 0.176471  |  4.46373  |  0.649698   | HFU7  |\n",
      "| 113 | 1432.5  |  249    |   0.2  | wn1    | 1.10794   | 0.25      |  4.43174  |  0.646574   | HFU7  |\n",
      "|  77 | 4920.5  |  115    |   0.16 | wf1    | 0.841819  | 0.190476  |  4.41955  |  0.645378   | HFU7  |\n",
      "| 151 | 3399.5  |  141.17 |   0.18 | wb7    | 0.879356  | 0.219512  |  4.00595  |  0.602706   | HFU7  |\n",
      "|  44 | 4867    |   47.11 |   0.13 | wf1    | 0.597743  | 0.149425  |  4.00028  |  0.60209    | HFU7  |\n",
      "| 116 | 3361.08 |    8.48 |   0.08 | wb7    | 0.323283  | 0.0869565 |  3.71775  |  0.57028    | HFU7  |\n",
      "|  80 | 4945.5  |   36.37 |   0.13 | wf1    | 0.525206  | 0.149425  |  3.51484  |  0.545906   | HFU7  |\n",
      "| 155 | 3402.5  |   43.64 |   0.14 | wb7    | 0.554381  | 0.162791  |  3.40548  |  0.532178   | HFU6  |\n",
      "| 114 | 1448    |  171    |   0.21 | wn1    | 0.896021  | 0.265823  |  3.37074  |  0.527726   | HFU6  |\n",
      "|   0 | 3545    |    0.7  |   0.04 | wb1    | 0.131356  | 0.0416667 |  3.15253  |  0.49866    | HFU6  |\n",
      "| 115 | 3359.08 |    5.89 |   0.08 | wb7    | 0.269428  | 0.0869565 |  3.09842  |  0.49114    | HFU6  |\n",
      "|  21 | 3032    |   13.55 |   0.11 | we1    | 0.3485    | 0.123596  |  2.81968  |  0.4502     | HFU6  |\n",
      "| 154 | 3401.92 |   21.46 |   0.13 | wb7    | 0.403434  | 0.149425  |  2.69991  |  0.431349   | HFU6  |\n",
      "| 107 | 2962    |    3.54 |   0.08 | wh1    | 0.208875  | 0.0869565 |  2.40206  |  0.380584   | HFU6  |\n",
      "|  33 | 3635    |    5.86 |   0.1  | we1    | 0.240369  | 0.111111  |  2.16332  |  0.335121   | HFU6  |\n",
      "|  50 | 4876    |    0.03 |   0.02 | wf1    | 0.038457  | 0.0204082 |  1.88439  |  0.275171   | HFU5  |\n",
      "|  42 | 4866    |    2.15 |   0.08 | wf1    | 0.162781  | 0.0869565 |  1.87198  |  0.272302   | HFU5  |\n",
      "|  94 | 4963    |    1.97 |   0.08 | wf1    | 0.155818  | 0.0869565 |  1.79191  |  0.253316   | HFU5  |\n",
      "|   4 | 3552    |    1    |   0.07 | wb1    | 0.118681  | 0.0752688 |  1.57676  |  0.197766   | HFU5  |\n",
      "|  20 | 3029    |    5.26 |   0.12 | we1    | 0.207889  | 0.136364  |  1.52452  |  0.183133   | HFU5  |\n",
      "| 110 | 2970    |    4.97 |   0.12 | wh1    | 0.202077  | 0.136364  |  1.4819   |  0.170819   | HFU5  |\n",
      "|  84 | 4951    |    1.31 |   0.08 | wf1    | 0.127063  | 0.0869565 |  1.46123  |  0.164718   | HFU5  |\n",
      "|  85 | 4952    |    1.77 |   0.09 | wf1    | 0.13925   | 0.0989011 |  1.40797  |  0.148594   | HFU5  |\n",
      "| 157 | 3404.67 |    6.71 |   0.14 | wb7    | 0.217384  | 0.162791  |  1.33536  |  0.125597   | HFU5  |\n",
      "| 120 | 3365.42 |    0.25 |   0.05 | wb7    | 0.0702125 | 0.0526316 |  1.33404  |  0.125168   | HFU5  |\n",
      "|   1 | 3547    |    2.2  |   0.1  | wb1    | 0.147279  | 0.111111  |  1.32551  |  0.122383   | HFU5  |\n",
      "| 105 | 2956    |    0.1  |   0.04 | wh1    | 0.0496478 | 0.0416667 |  1.19155  |  0.0761109  | HFU5  |\n",
      "|  13 | 3368    |    0.33 |   0.06 | wb4    | 0.0736395 | 0.0638298 |  1.15369  |  0.0620876  | HFU5  |\n",
      "|  34 | 3638    |    6.14 |   0.15 | we1    | 0.200895  | 0.176471  |  1.1384   |  0.0562959  | HFU4  |\n",
      "|  51 | 4878    |    0.01 |   0.02 | wf1    | 0.0222032 | 0.0204082 |  1.08795  |  0.0366107  | HFU4  |\n",
      "|  86 | 4953    |    0.47 |   0.07 | wf1    | 0.0813635 | 0.0752688 |  1.08097  |  0.0338145  | HFU4  |\n",
      "| 173 | 3422.5  |    1.41 |   0.1  | wb7    | 0.117907  | 0.111111  |  1.06116  |  0.0257817  | HFU4  |\n",
      "| 172 | 3421.58 |    0.99 |   0.09 | wb7    | 0.104142  | 0.0989011 |  1.05299  |  0.0224249  | HFU4  |\n",
      "|  43 | 4867    |    0.66 |   0.08 | wf1    | 0.0901896 | 0.0869565 |  1.03718  |  0.0158545  | HFU4  |\n",
      "|   3 | 3550    |    1.3  |   0.1  | wb1    | 0.113214  | 0.111111  |  1.01893  |  0.00814383 | HFU4  |\n",
      "|   5 | 3553    |    1.3  |   0.1  | wb1    | 0.113214  | 0.111111  |  1.01893  |  0.00814383 | HFU4  |\n",
      "| 188 | 3437.75 |    2.25 |   0.12 | wb7    | 0.135966  | 0.136364  |  0.997084 | -0.00126829 | HFU4  |\n",
      "|  15 | 3370    |    1.21 |   0.1  | wb4    | 0.109225  | 0.111111  |  0.983026 | -0.00743516 | HFU4  |\n",
      "|   8 | 3363    |    0.84 |   0.09 | wb4    | 0.0959286 | 0.0989011 |  0.969945 | -0.0132531  | HFU4  |\n",
      "|  93 | 4962    |    1.15 |   0.1  | wf1    | 0.106483  | 0.111111  |  0.958343 | -0.0184789  | HFU4  |\n",
      "|  82 | 4949    |    0.56 |   0.08 | wf1    | 0.0830766 | 0.0869565 |  0.955381 | -0.0198235  | HFU4  |\n",
      "|   2 | 3548    |    1.1  |   0.1  | wb1    | 0.104142  | 0.111111  |  0.937278 | -0.0281315  | HFU4  |\n",
      "| 187 | 3436.67 |    1.42 |   0.11 | wb7    | 0.112818  | 0.123596  |  0.912798 | -0.0396252  | HFU4  |\n",
      "|  83 | 4950    |    2.23 |   0.13 | wf1    | 0.13005   | 0.149425  |  0.870335 | -0.0603137  | HFU4  |\n",
      "| 171 | 3420.33 |    0.91 |   0.1  | wb7    | 0.0947219 | 0.111111  |  0.852497 | -0.0693071  | HFU4  |\n",
      "|  97 | 4967    |    0.1  |   0.05 | wf1    | 0.0444063 | 0.0526316 |  0.84372  | -0.0738018  | HFU4  |\n",
      "|  17 | 3372    |    0.89 |   0.1  | wb4    | 0.0936752 | 0.111111  |  0.843077 | -0.0741328  | HFU4  |\n",
      "|   6 | 3361    |    0.05 |   0.04 | wb4    | 0.0351063 | 0.0416667 |  0.84255  | -0.0744041  | HFU4  |\n",
      "|  16 | 3371    |    0.88 |   0.1  | wb4    | 0.0931475 | 0.111111  |  0.838327 | -0.0765865  | HFU4  |\n",
      "|  92 | 4960    |    1.13 |   0.11 | wf1    | 0.10064   | 0.123596  |  0.814273 | -0.0892302  | HFU4  |\n",
      "|   9 | 3364    |    0.59 |   0.09 | wb4    | 0.080396  | 0.0989011 |  0.812893 | -0.0899667  | HFU4  |\n",
      "|  14 | 3369    |    0.23 |   0.07 | wb4    | 0.0569173 | 0.0752688 |  0.756187 | -0.121371   | HFU4  |\n",
      "| 104 | 2955    |    0.5  |   0.09 | wh1    | 0.0740105 | 0.0989011 |  0.748328 | -0.125908   | HFU4  |\n",
      "|  10 | 3365    |    0.68 |   0.1  | wb4    | 0.0818812 | 0.111111  |  0.736931 | -0.132573   | HFU4  |\n",
      "|  88 | 4955    |    0.13 |   0.06 | wf1    | 0.0462195 | 0.0638298 |  0.724106 | -0.140198   | HFU4  |\n",
      "|  12 | 3367    |    0.65 |   0.1  | wb4    | 0.0800546 | 0.111111  |  0.720491 | -0.142371   | HFU4  |\n",
      "| 108 | 2964    |    0.61 |   0.1  | wh1    | 0.0775523 | 0.111111  |  0.697971 | -0.156163   | HFU4  |\n",
      "| 165 | 3412.83 |    1.38 |   0.13 | wb7    | 0.102305  | 0.149425  |  0.684658 | -0.164527   | HFU4  |\n",
      "| 174 | 3423.25 |    1.06 |   0.12 | wb7    | 0.0933237 | 0.136364  |  0.684374 | -0.164707   | HFU4  |\n",
      "|  11 | 3366    |    0.58 |   0.1  | wb4    | 0.0756212 | 0.111111  |  0.680591 | -0.167114   | HFU4  |\n",
      "|  90 | 4956    |    0.32 |   0.09 | wf1    | 0.0592084 | 0.0989011 |  0.598663 | -0.222818   | HFU3  |\n",
      "| 189 | 3438.83 |    0.32 |   0.09 | wb7    | 0.0592084 | 0.0989011 |  0.598663 | -0.222818   | HFU3  |\n",
      "|  35 | 3641    |    0.81 |   0.12 | we1    | 0.0815796 | 0.136364  |  0.59825  | -0.223117   | HFU3  |\n",
      "| 121 | 3366.5  |    0.01 |   0.03 | wb7    | 0.0181288 | 0.0309278 |  0.586164 | -0.23198    | HFU3  |\n",
      "| 175 | 3424.67 |    0.2  |   0.08 | wb7    | 0.0496478 | 0.0869565 |  0.570949 | -0.243403   | HFU3  |\n",
      "| 184 | 3433.42 |    0.29 |   0.09 | wb7    | 0.0563647 | 0.0989011 |  0.56991  | -0.244194   | HFU3  |\n",
      "|  32 | 3632    |    0.51 |   0.11 | we1    | 0.0676112 | 0.123596  |  0.547036 | -0.261984   | HFU3  |\n",
      "| 106 | 2960    |    0.18 |   0.08 | wh1    | 0.0471    | 0.0869565 |  0.54165  | -0.266281   | HFU3  |\n",
      "|  31 | 3629    |    0.2  |   0.09 | we1    | 0.0468084 | 0.0989011 |  0.473284 | -0.324878   | HFU3  |\n",
      "| 170 | 3418.67 |    0.2  |   0.09 | wb7    | 0.0468084 | 0.0989011 |  0.473284 | -0.324878   | HFU3  |\n",
      "| 109 | 2965    |    0.09 |   0.07 | wh1    | 0.0356043 | 0.0752688 |  0.473028 | -0.325113   | HFU3  |\n",
      "|  87 | 4953    |    0.09 |   0.07 | wf1    | 0.0356043 | 0.0752688 |  0.473028 | -0.325113   | HFU3  |\n",
      "| 143 | 3391.5  |    0.37 |   0.11 | wb7    | 0.0575883 | 0.123596  |  0.465942 | -0.331669   | HFU3  |\n",
      "| 186 | 3435.75 |    0.48 |   0.12 | wb7    | 0.0628    | 0.136364  |  0.460533 | -0.336739   | HFU3  |\n",
      "|  36 | 3642    |    0.12 |   0.08 | we1    | 0.038457  | 0.0869565 |  0.442255 | -0.354327   | HFU3  |\n",
      "| 163 | 3410.67 |    0.24 |   0.1  | wb7    | 0.0486447 | 0.111111  |  0.437802 | -0.358722   | HFU3  |\n",
      "| 162 | 3409.75 |    0.32 |   0.11 | wb7    | 0.053556  | 0.123596  |  0.433317 | -0.363194   | HFU3  |\n",
      "| 164 | 3411.42 |    0.16 |   0.09 | wb7    | 0.0418667 | 0.0989011 |  0.423319 | -0.373333   | HFU3  |\n",
      "| 127 | 3375.42 |    0.21 |   0.1  | wb7    | 0.0455029 | 0.111111  |  0.409526 | -0.387718   | HFU3  |\n",
      "| 134 | 3382.58 |    0.35 |   0.12 | wb7    | 0.0536257 | 0.136364  |  0.393255 | -0.405326   | HFU3  |\n",
      "| 133 | 3381.25 |    0.25 |   0.11 | wb7    | 0.0473373 | 0.123596  |  0.383002 | -0.416799   | HFU3  |\n",
      "|  27 | 3615    |    0.43 |   0.13 | we1    | 0.0571074 | 0.149425  |  0.38218  | -0.417732   | HFU3  |\n",
      "| 185 | 3434.92 |    0.32 |   0.12 | wb7    | 0.051276  | 0.136364  |  0.376024 | -0.424785   | HFU2  |\n",
      "| 183 | 3432.5  |    0.22 |   0.11 | wb7    | 0.0444063 | 0.123596  |  0.359287 | -0.444558   | HFU2  |\n",
      "| 150 | 3398.75 |    0.03 |   0.06 | wb7    | 0.0222032 | 0.0638298 |  0.347849 | -0.458609   | HFU2  |\n",
      "|  76 | 4915    |    0.03 |   0.06 | wf1    | 0.0222032 | 0.0638298 |  0.347849 | -0.458609   | HFU2  |\n",
      "| 169 | 3417.33 |    0.15 |   0.1  | wb7    | 0.038457  | 0.111111  |  0.346113 | -0.460782   | HFU2  |\n",
      "| 176 | 3425.5  |    0.56 |   0.15 | wb7    | 0.0606706 | 0.176471  |  0.3438   | -0.463694   | HFU2  |\n",
      "| 190 | 3439.42 |    0.09 |   0.09 | wb7    | 0.0314    | 0.0989011 |  0.317489 | -0.498271   | HFU2  |\n",
      "| 132 | 3380.5  |    0.17 |   0.11 | wb7    | 0.0390353 | 0.123596  |  0.315831 | -0.500545   | HFU2  |\n",
      "|  30 | 3626    |    0.22 |   0.12 | we1    | 0.0425158 | 0.136364  |  0.311783 | -0.506148   | HFU2  |\n",
      "| 125 | 3373.17 |    0.12 |   0.1  | wb7    | 0.034397  | 0.111111  |  0.309573 | -0.509237   | HFU2  |\n",
      "| 182 | 3431.58 |    0.21 |   0.12 | wb7    | 0.0415383 | 0.136364  |  0.304614 | -0.51625    | HFU2  |\n",
      "|  19 | 3115    |    0.14 |   0.11 | wc1    | 0.035424  | 0.123596  |  0.286612 | -0.542705   | HFU2  |\n",
      "| 191 | 3440.83 |    0.05 |   0.08 | wb7    | 0.0248239 | 0.0869565 |  0.285475 | -0.544433   | HFU2  |\n",
      "|  89 | 4955    |    0.05 |   0.08 | wf1    | 0.0248239 | 0.0869565 |  0.285475 | -0.544433   | HFU2  |\n",
      "|   7 | 3362    |    0.02 |   0.06 | wb4    | 0.0181288 | 0.0638298 |  0.284018 | -0.546654   | HFU2  |\n",
      "|  29 | 3626    |    0.17 |   0.12 | we1    | 0.0373735 | 0.136364  |  0.274072 | -0.562135   | HFU2  |\n",
      "|  91 | 4958    |    0.17 |   0.12 | wf1    | 0.0373735 | 0.136364  |  0.274072 | -0.562135   | HFU2  |\n",
      "| 138 | 3386.83 |    0.22 |   0.13 | wb7    | 0.0408479 | 0.149425  |  0.273366 | -0.563255   | HFU2  |\n",
      "| 193 | 3444    |    0.09 |   0.1  | wb7    | 0.0297887 | 0.111111  |  0.268098 | -0.571707   | HFU2  |\n",
      "|  81 | 4947    |    0.01 |   0.05 | wf1    | 0.0140425 | 0.0526316 |  0.266808 | -0.573802   | HFU2  |\n",
      "| 122 | 3367.58 |    0.01 |   0.05 | wb7    | 0.0140425 | 0.0526316 |  0.266808 | -0.573802   | HFU2  |\n",
      "| 181 | 3430.67 |    0.01 |   0.05 | wb7    | 0.0140425 | 0.0526316 |  0.266808 | -0.573802   | HFU2  |\n",
      "| 141 | 3389.08 |    0.01 |   0.05 | wb7    | 0.0140425 | 0.0526316 |  0.266808 | -0.573802   | HFU2  |\n",
      "| 126 | 3374.67 |    0.12 |   0.11 | wb7    | 0.0327962 | 0.123596  |  0.265351 | -0.576179   | HFU2  |\n",
      "| 135 | 3384.25 |    0.06 |   0.09 | wb7    | 0.025638  | 0.0989011 |  0.259229 | -0.586317   | HFU2  |\n",
      "| 192 | 3443.42 |    0.04 |   0.08 | wb7    | 0.0222032 | 0.0869565 |  0.255336 | -0.592888   | HFU2  |\n",
      "| 167 | 3414.75 |    0.04 |   0.08 | wb7    | 0.0222032 | 0.0869565 |  0.255336 | -0.592888   | HFU2  |\n",
      "| 129 | 3377.33 |    0.19 |   0.13 | wb7    | 0.0379607 | 0.149425  |  0.254045 | -0.595089   | HFU2  |\n",
      "| 128 | 3376.42 |    0.08 |   0.1  | wb7    | 0.028085  | 0.111111  |  0.252765 | -0.597283   | HFU2  |\n",
      "| 166 | 3413.92 |    0.14 |   0.12 | wb7    | 0.0339159 | 0.136364  |  0.248716 | -0.604296   | HFU2  |\n",
      "| 177 | 3426.5  |    0.13 |   0.12 | wb7    | 0.0326822 | 0.136364  |  0.239669 | -0.620388   | HFU2  |\n",
      "| 137 | 3386.33 |    0.09 |   0.11 | wb7    | 0.0284024 | 0.123596  |  0.229801 | -0.638648   | HFU2  |\n",
      "|  78 | 4944    |    0.02 |   0.07 | wf1    | 0.016784  | 0.0752688 |  0.222988 | -0.651719   | HFU2  |\n",
      "| 131 | 3379.67 |    0.02 |   0.07 | wb7    | 0.016784  | 0.0752688 |  0.222988 | -0.651719   | HFU2  |\n",
      "| 168 | 3415.5  |    0.03 |   0.08 | wb7    | 0.0192285 | 0.0869565 |  0.221128 | -0.655357   | HFU2  |\n",
      "| 160 | 3407.42 |    0.01 |   0.06 | wb7    | 0.012819  | 0.0638298 |  0.200831 | -0.697169   | HFU1  |\n",
      "| 158 | 3405.67 |    0.01 |   0.06 | wb7    | 0.012819  | 0.0638298 |  0.200831 | -0.697169   | HFU1  |\n",
      "| 147 | 3395.42 |    0.03 |   0.09 | wb7    | 0.0181288 | 0.0989011 |  0.183302 | -0.736832   | HFU1  |\n",
      "|  18 | 3112    |    0.03 |   0.09 | wc1    | 0.0181288 | 0.0989011 |  0.183302 | -0.736832   | HFU1  |\n",
      "| 148 | 3396.33 |    0.02 |   0.08 | wb7    | 0.0157    | 0.0869565 |  0.18055  | -0.743403   | HFU1  |\n",
      "| 130 | 3378.58 |    0.02 |   0.08 | wb7    | 0.0157    | 0.0869565 |  0.18055  | -0.743403   | HFU1  |\n",
      "| 144 | 3392.5  |    0.02 |   0.08 | wb7    | 0.0157    | 0.0869565 |  0.18055  | -0.743403   | HFU1  |\n",
      "| 145 | 3393.17 |    0.02 |   0.08 | wb7    | 0.0157    | 0.0869565 |  0.18055  | -0.743403   | HFU1  |\n",
      "| 179 | 3428.42 |    0.1  |   0.14 | wb7    | 0.0265378 | 0.162791  |  0.163018 | -0.787764   | HFU1  |\n",
      "| 136 | 3385.42 |    0.06 |   0.12 | wb7    | 0.0222032 | 0.136364  |  0.162823 | -0.788284   | HFU1  |\n",
      "| 118 | 3363.33 |    0.01 |   0.07 | wb7    | 0.0118681 | 0.0752688 |  0.157676 | -0.802234   | HFU1  |\n",
      "| 119 | 3364.33 |    0.01 |   0.07 | wb7    | 0.0118681 | 0.0752688 |  0.157676 | -0.802234   | HFU1  |\n",
      "| 146 | 3394.58 |    0.01 |   0.07 | wb7    | 0.0118681 | 0.0752688 |  0.157676 | -0.802234   | HFU1  |\n",
      "| 124 | 3372.25 |    0.01 |   0.07 | wb7    | 0.0118681 | 0.0752688 |  0.157676 | -0.802234   | HFU1  |\n",
      "| 180 | 3429.33 |    0.01 |   0.07 | wb7    | 0.0118681 | 0.0752688 |  0.157676 | -0.802234   | HFU1  |\n",
      "| 142 | 3390.42 |    0.01 |   0.07 | wb7    | 0.0118681 | 0.0752688 |  0.157676 | -0.802234   | HFU1  |\n",
      "| 117 | 3362.33 |    0.01 |   0.07 | wb7    | 0.0118681 | 0.0752688 |  0.157676 | -0.802234   | HFU1  |\n",
      "| 139 | 3387.25 |    0.03 |   0.1  | wb7    | 0.0171985 | 0.111111  |  0.154786 | -0.810267   | HFU1  |\n",
      "| 140 | 3388.42 |    0.02 |   0.09 | wb7    | 0.0148021 | 0.0989011 |  0.149666 | -0.824878   | HFU1  |\n",
      "|  28 | 3619    |    0.1  |   0.15 | we1    | 0.025638  | 0.176471  |  0.145282 | -0.837788   | HFU1  |\n",
      "| 159 | 3406.75 |    0.01 |   0.08 | wb7    | 0.0111016 | 0.0869565 |  0.127668 | -0.893918   | HFU1  |\n",
      "| 178 | 3427.42 |    0.02 |   0.1  | wb7    | 0.0140425 | 0.111111  |  0.126383 | -0.898313   | HFU1  |\n",
      "| 149 | 3397.58 |    0.02 |   0.1  | wb7    | 0.0140425 | 0.111111  |  0.126383 | -0.898313   | HFU1  |\n",
      "+-----+---------+---------+--------+--------+-----------+-----------+-----------+-------------+-------+\n"
     ]
    }
   ],
   "source": [
    "print(tabulate(df.sort_values('LFZI', ascending=False), headers = 'keys', tablefmt = 'psql'))\n",
    "#print(tabulate(df, headers = 'keys', tablefmt = 'psql'))"
   ]
  },
  {
   "cell_type": "code",
   "execution_count": 96,
   "metadata": {},
   "outputs": [
    {
     "data": {
      "image/png": "[encoded data removed]",
      "text/plain": [
       "<Figure size 1200x600 with 1 Axes>"
      ]
     },
     "metadata": {},
     "output_type": "display_data"
    }
   ],
   "source": [
    "#sns.lmplot(x='PHIz', y='RQI', data=df, hue ='HFU', palette='Set1', height=5, aspect=2, fit_reg=False)\n",
    "g = sns.FacetGrid(df, hue='HFU', palette='Set1',height=6, aspect=2)\n",
    "g = g.map(plt.hist,'FZI', bins=20,alpha=0.5)"
   ]
  },
  {
   "cell_type": "code",
   "execution_count": 97,
   "metadata": {},
   "outputs": [
    {
     "data": {
      "application/vnd.plotly.v1+json": {
       "config": {
        "plotlyServerURL": "https://plot.ly"
       },
       "data": [
        {
         "hovertemplate": "PHIz=%{x}<br>CPERM=%{y}<extra></extra>",
         "legendgroup": "",
         "marker": {
          "color": "#636efa",
          "symbol": "circle"
         },
         "mode": "markers",
         "name": "",
         "orientation": "v",
         "showlegend": false,
         "type": "scatter",
         "x": [
          0.04166666666666667,
          0.11111111111111112,
          0.11111111111111112,
          0.11111111111111112,
          0.07526881720430109,
          0.11111111111111112,
          0.04166666666666667,
          0.06382978723404255,
          0.0989010989010989,
          0.0989010989010989,
          0.11111111111111112,
          0.11111111111111112,
          0.11111111111111112,
          0.06382978723404255,
          0.07526881720430109,
          0.11111111111111112,
          0.11111111111111112,
          0.11111111111111112,
          0.0989010989010989,
          0.12359550561797752,
          0.13636363636363635,
          0.12359550561797752,
          0.12359550561797752,
          0.14942528735632185,
          0.14942528735632185,
          0.17647058823529413,
          0.13636363636363635,
          0.14942528735632185,
          0.17647058823529413,
          0.13636363636363635,
          0.13636363636363635,
          0.0989010989010989,
          0.12359550561797752,
          0.11111111111111112,
          0.17647058823529413,
          0.13636363636363635,
          0.08695652173913043,
          0.16279069767441862,
          0.17647058823529413,
          0.14942528735632185,
          0.16279069767441862,
          0.14942528735632185,
          0.08695652173913043,
          0.08695652173913043,
          0.14942528735632185,
          0.26582278481012656,
          0.010101010101010102,
          0.020408163265306124,
          0.020408163265306124,
          0.06382978723404255,
          0.1904761904761905,
          0.07526881720430109,
          0.14942528735632185,
          0.052631578947368425,
          0.08695652173913043,
          0.14942528735632185,
          0.08695652173913043,
          0.0989010989010989,
          0.07526881720430109,
          0.07526881720430109,
          0.06382978723404255,
          0.08695652173913043,
          0.0989010989010989,
          0.13636363636363635,
          0.12359550561797752,
          0.11111111111111112,
          0.08695652173913043,
          0.13636363636363635,
          0.0989010989010989,
          0.052631578947368425,
          0.14942528735632185,
          0.14942528735632185,
          0.17647058823529413,
          0.1904761904761905,
          0.0989010989010989,
          0.04166666666666667,
          0.08695652173913043,
          0.08695652173913043,
          0.11111111111111112,
          0.07526881720430109,
          0.13636363636363635,
          0.2345679012345679,
          0.26582278481012656,
          0.25,
          0.26582278481012656,
          0.08695652173913043,
          0.08695652173913043,
          0.07526881720430109,
          0.07526881720430109,
          0.07526881720430109,
          0.052631578947368425,
          0.030927835051546393,
          0.052631578947368425,
          0.07526881720430109,
          0.11111111111111112,
          0.12359550561797752,
          0.11111111111111112,
          0.11111111111111112,
          0.14942528735632185,
          0.08695652173913043,
          0.07526881720430109,
          0.12359550561797752,
          0.12359550561797752,
          0.13636363636363635,
          0.0989010989010989,
          0.13636363636363635,
          0.12359550561797752,
          0.14942528735632185,
          0.11111111111111112,
          0.0989010989010989,
          0.052631578947368425,
          0.07526881720430109,
          0.12359550561797752,
          0.08695652173913043,
          0.08695652173913043,
          0.07526881720430109,
          0.0989010989010989,
          0.08695652173913043,
          0.11111111111111112,
          0.06382978723404255,
          0.2195121951219512,
          0.1904761904761905,
          0.1904761904761905,
          0.14942528735632185,
          0.16279069767441862,
          0.14942528735632185,
          0.16279069767441862,
          0.06382978723404255,
          0.08695652173913043,
          0.06382978723404255,
          0.16279069767441862,
          0.12359550561797752,
          0.11111111111111112,
          0.0989010989010989,
          0.14942528735632185,
          0.13636363636363635,
          0.08695652173913043,
          0.08695652173913043,
          0.11111111111111112,
          0.0989010989010989,
          0.11111111111111112,
          0.0989010989010989,
          0.11111111111111112,
          0.13636363636363635,
          0.08695652173913043,
          0.17647058823529413,
          0.13636363636363635,
          0.11111111111111112,
          0.16279069767441862,
          0.07526881720430109,
          0.052631578947368425,
          0.13636363636363635,
          0.12359550561797752,
          0.0989010989010989,
          0.13636363636363635,
          0.13636363636363635,
          0.12359550561797752,
          0.13636363636363635,
          0.0989010989010989,
          0.0989010989010989,
          0.08695652173913043,
          0.08695652173913043,
          0.11111111111111112
         ],
         "xaxis": "x",
         "y": [
          0.7,
          2.2,
          1.1,
          1.3,
          1,
          1.3,
          0.05,
          0.02,
          0.84,
          0.59,
          0.68,
          0.58,
          0.65,
          0.33,
          0.23,
          1.21,
          0.88,
          0.89,
          0.03,
          0.14,
          5.26,
          13.55,
          130.01,
          161.57,
          321.81,
          176.82,
          102.65,
          0.43,
          0.1,
          0.17,
          0.22,
          0.2,
          0.51,
          5.86,
          6.14,
          0.81,
          0.12,
          83.17,
          94.4,
          112.32,
          151.8,
          118,
          2.15,
          0.66,
          47.11,
          488.89,
          0.06,
          0.03,
          0.01,
          0.03,
          115,
          0.02,
          36.37,
          0.01,
          0.56,
          2.23,
          1.31,
          1.77,
          0.47,
          0.09,
          0.13,
          0.05,
          0.32,
          0.17,
          1.13,
          1.15,
          1.97,
          93.13,
          62.76,
          0.1,
          81.27,
          74.82,
          146.16,
          238.51,
          0.5,
          0.1,
          0.18,
          3.54,
          0.61,
          0.09,
          4.97,
          365,
          362,
          249,
          171,
          5.89,
          8.48,
          0.01,
          0.01,
          0.01,
          0.25,
          0.01,
          0.01,
          0.01,
          0.12,
          0.12,
          0.21,
          0.08,
          0.19,
          0.02,
          0.02,
          0.17,
          0.25,
          0.35,
          0.06,
          0.06,
          0.09,
          0.22,
          0.03,
          0.02,
          0.01,
          0.01,
          0.37,
          0.02,
          0.02,
          0.01,
          0.03,
          0.02,
          0.02,
          0.03,
          141.17,
          138.46,
          139.81,
          21.46,
          43.64,
          132.98,
          6.71,
          0.01,
          0.01,
          0.01,
          99.64,
          0.32,
          0.24,
          0.16,
          1.38,
          0.14,
          0.04,
          0.03,
          0.15,
          0.2,
          0.91,
          0.99,
          1.41,
          1.06,
          0.2,
          0.56,
          0.13,
          0.02,
          0.1,
          0.01,
          0.01,
          0.21,
          0.22,
          0.29,
          0.32,
          0.48,
          1.42,
          2.25,
          0.32,
          0.09,
          0.05,
          0.04,
          0.09
         ],
         "yaxis": "y"
        },
        {
         "hovertemplate": "<b>OLS trendline</b><br>log10(CPERM) = 21.7648 * PHIz + -2.69291<br>R<sup>2</sup>=0.548948<br><br>PHIz=%{x}<br>CPERM=%{y} <b>(trend)</b><extra></extra>",
         "legendgroup": "",
         "marker": {
          "color": "#636efa",
          "symbol": "circle"
         },
         "mode": "lines",
         "name": "",
         "showlegend": false,
         "type": "scatter",
         "x": [
          0.010101010101010102,
          0.020408163265306124,
          0.020408163265306124,
          0.030927835051546393,
          0.04166666666666667,
          0.04166666666666667,
          0.04166666666666667,
          0.052631578947368425,
          0.052631578947368425,
          0.052631578947368425,
          0.052631578947368425,
          0.052631578947368425,
          0.052631578947368425,
          0.06382978723404255,
          0.06382978723404255,
          0.06382978723404255,
          0.06382978723404255,
          0.06382978723404255,
          0.06382978723404255,
          0.06382978723404255,
          0.07526881720430109,
          0.07526881720430109,
          0.07526881720430109,
          0.07526881720430109,
          0.07526881720430109,
          0.07526881720430109,
          0.07526881720430109,
          0.07526881720430109,
          0.07526881720430109,
          0.07526881720430109,
          0.07526881720430109,
          0.07526881720430109,
          0.07526881720430109,
          0.07526881720430109,
          0.08695652173913043,
          0.08695652173913043,
          0.08695652173913043,
          0.08695652173913043,
          0.08695652173913043,
          0.08695652173913043,
          0.08695652173913043,
          0.08695652173913043,
          0.08695652173913043,
          0.08695652173913043,
          0.08695652173913043,
          0.08695652173913043,
          0.08695652173913043,
          0.08695652173913043,
          0.08695652173913043,
          0.08695652173913043,
          0.08695652173913043,
          0.08695652173913043,
          0.08695652173913043,
          0.08695652173913043,
          0.08695652173913043,
          0.0989010989010989,
          0.0989010989010989,
          0.0989010989010989,
          0.0989010989010989,
          0.0989010989010989,
          0.0989010989010989,
          0.0989010989010989,
          0.0989010989010989,
          0.0989010989010989,
          0.0989010989010989,
          0.0989010989010989,
          0.0989010989010989,
          0.0989010989010989,
          0.0989010989010989,
          0.0989010989010989,
          0.0989010989010989,
          0.0989010989010989,
          0.11111111111111112,
          0.11111111111111112,
          0.11111111111111112,
          0.11111111111111112,
          0.11111111111111112,
          0.11111111111111112,
          0.11111111111111112,
          0.11111111111111112,
          0.11111111111111112,
          0.11111111111111112,
          0.11111111111111112,
          0.11111111111111112,
          0.11111111111111112,
          0.11111111111111112,
          0.11111111111111112,
          0.11111111111111112,
          0.11111111111111112,
          0.11111111111111112,
          0.11111111111111112,
          0.11111111111111112,
          0.11111111111111112,
          0.11111111111111112,
          0.11111111111111112,
          0.11111111111111112,
          0.12359550561797752,
          0.12359550561797752,
          0.12359550561797752,
          0.12359550561797752,
          0.12359550561797752,
          0.12359550561797752,
          0.12359550561797752,
          0.12359550561797752,
          0.12359550561797752,
          0.12359550561797752,
          0.12359550561797752,
          0.12359550561797752,
          0.12359550561797752,
          0.13636363636363635,
          0.13636363636363635,
          0.13636363636363635,
          0.13636363636363635,
          0.13636363636363635,
          0.13636363636363635,
          0.13636363636363635,
          0.13636363636363635,
          0.13636363636363635,
          0.13636363636363635,
          0.13636363636363635,
          0.13636363636363635,
          0.13636363636363635,
          0.13636363636363635,
          0.13636363636363635,
          0.13636363636363635,
          0.13636363636363635,
          0.14942528735632185,
          0.14942528735632185,
          0.14942528735632185,
          0.14942528735632185,
          0.14942528735632185,
          0.14942528735632185,
          0.14942528735632185,
          0.14942528735632185,
          0.14942528735632185,
          0.14942528735632185,
          0.14942528735632185,
          0.14942528735632185,
          0.14942528735632185,
          0.14942528735632185,
          0.14942528735632185,
          0.16279069767441862,
          0.16279069767441862,
          0.16279069767441862,
          0.16279069767441862,
          0.16279069767441862,
          0.16279069767441862,
          0.17647058823529413,
          0.17647058823529413,
          0.17647058823529413,
          0.17647058823529413,
          0.17647058823529413,
          0.17647058823529413,
          0.1904761904761905,
          0.1904761904761905,
          0.1904761904761905,
          0.1904761904761905,
          0.2195121951219512,
          0.2345679012345679,
          0.25,
          0.26582278481012656,
          0.26582278481012656,
          0.26582278481012656
         ],
         "xaxis": "x",
         "y": [
          0.0033645881733926045,
          0.005639813333025047,
          0.005639813333025047,
          0.009554830004257397,
          0.01636632468212038,
          0.01636632468212038,
          0.01636632468212038,
          0.02835306113183828,
          0.02835306113183828,
          0.02835306113183828,
          0.02835306113183828,
          0.02835306113183828,
          0.02835306113183828,
          0.049696565936410114,
          0.049696565936410114,
          0.049696565936410114,
          0.049696565936410114,
          0.049696565936410114,
          0.049696565936410114,
          0.049696565936410114,
          0.08816459843071255,
          0.08816459843071255,
          0.08816459843071255,
          0.08816459843071255,
          0.08816459843071255,
          0.08816459843071255,
          0.08816459843071255,
          0.08816459843071255,
          0.08816459843071255,
          0.08816459843071255,
          0.08816459843071255,
          0.08816459843071255,
          0.08816459843071255,
          0.08816459843071255,
          0.15837055270375702,
          0.15837055270375702,
          0.15837055270375702,
          0.15837055270375702,
          0.15837055270375702,
          0.15837055270375702,
          0.15837055270375702,
          0.15837055270375702,
          0.15837055270375702,
          0.15837055270375702,
          0.15837055270375702,
          0.15837055270375702,
          0.15837055270375702,
          0.15837055270375702,
          0.15837055270375702,
          0.15837055270375702,
          0.15837055270375702,
          0.15837055270375702,
          0.15837055270375702,
          0.15837055270375702,
          0.15837055270375702,
          0.2881677692762808,
          0.2881677692762808,
          0.2881677692762808,
          0.2881677692762808,
          0.2881677692762808,
          0.2881677692762808,
          0.2881677692762808,
          0.2881677692762808,
          0.2881677692762808,
          0.2881677692762808,
          0.2881677692762808,
          0.2881677692762808,
          0.2881677692762808,
          0.2881677692762808,
          0.2881677692762808,
          0.2881677692762808,
          0.2881677692762808,
          0.5313656909349735,
          0.5313656909349735,
          0.5313656909349735,
          0.5313656909349735,
          0.5313656909349735,
          0.5313656909349735,
          0.5313656909349735,
          0.5313656909349735,
          0.5313656909349735,
          0.5313656909349735,
          0.5313656909349735,
          0.5313656909349735,
          0.5313656909349735,
          0.5313656909349735,
          0.5313656909349735,
          0.5313656909349735,
          0.5313656909349735,
          0.5313656909349735,
          0.5313656909349735,
          0.5313656909349735,
          0.5313656909349735,
          0.5313656909349735,
          0.5313656909349735,
          0.5313656909349735,
          0.9933755856433428,
          0.9933755856433428,
          0.9933755856433428,
          0.9933755856433428,
          0.9933755856433428,
          0.9933755856433428,
          0.9933755856433428,
          0.9933755856433428,
          0.9933755856433428,
          0.9933755856433428,
          0.9933755856433428,
          0.9933755856433428,
          0.9933755856433428,
          1.8836877282384472,
          1.8836877282384472,
          1.8836877282384472,
          1.8836877282384472,
          1.8836877282384472,
          1.8836877282384472,
          1.8836877282384472,
          1.8836877282384472,
          1.8836877282384472,
          1.8836877282384472,
          1.8836877282384472,
          1.8836877282384472,
          1.8836877282384472,
          1.8836877282384472,
          1.8836877282384472,
          1.8836877282384472,
          1.8836877282384472,
          3.624872500186356,
          3.624872500186356,
          3.624872500186356,
          3.624872500186356,
          3.624872500186356,
          3.624872500186356,
          3.624872500186356,
          3.624872500186356,
          3.624872500186356,
          3.624872500186356,
          3.624872500186356,
          3.624872500186356,
          3.624872500186356,
          3.624872500186356,
          3.624872500186356,
          7.0825200766147205,
          7.0825200766147205,
          7.0825200766147205,
          7.0825200766147205,
          7.0825200766147205,
          7.0825200766147205,
          14.05812767285315,
          14.05812767285315,
          14.05812767285315,
          14.05812767285315,
          14.05812767285315,
          14.05812767285315,
          28.3632629861656,
          28.3632629861656,
          28.3632629861656,
          28.3632629861656,
          121.53969682869455,
          258.4652290485211,
          560.1162898778662,
          1237.8199340849628,
          1237.8199340849628,
          1237.8199340849628
         ],
         "yaxis": "y"
        }
       ],
       "layout": {
        "legend": {
         "tracegroupgap": 0
        },
        "template": {
         "data": {
          "bar": [
           {
            "error_x": {
             "color": "#2a3f5f"
            },
            "error_y": {
             "color": "#2a3f5f"
            },
            "marker": {
             "line": {
              "color": "#E5ECF6",
              "width": 0.5
             },
             "pattern": {
              "fillmode": "overlay",
              "size": 10,
              "solidity": 0.2
             }
            },
            "type": "bar"
           }
          ],
          "barpolar": [
           {
            "marker": {
             "line": {
              "color": "#E5ECF6",
              "width": 0.5
             },
             "pattern": {
              "fillmode": "overlay",
              "size": 10,
              "solidity": 0.2
             }
            },
            "type": "barpolar"
           }
          ],
          "carpet": [
           {
            "aaxis": {
             "endlinecolor": "#2a3f5f",
             "gridcolor": "white",
             "linecolor": "white",
             "minorgridcolor": "white",
             "startlinecolor": "#2a3f5f"
            },
            "baxis": {
             "endlinecolor": "#2a3f5f",
             "gridcolor": "white",
             "linecolor": "white",
             "minorgridcolor": "white",
             "startlinecolor": "#2a3f5f"
            },
            "type": "carpet"
           }
          ],
          "choropleth": [
           {
            "colorbar": {
             "outlinewidth": 0,
             "ticks": ""
            },
            "type": "choropleth"
           }
          ],
          "contour": [
           {
            "colorbar": {
             "outlinewidth": 0,
             "ticks": ""
            },
            "colorscale": [
             [
              0,
              "#0d0887"
             ],
             [
              0.1111111111111111,
              "#46039f"
             ],
             [
              0.2222222222222222,
              "#7201a8"
             ],
             [
              0.3333333333333333,
              "#9c179e"
             ],
             [
              0.4444444444444444,
              "#bd3786"
             ],
             [
              0.5555555555555556,
              "#d8576b"
             ],
             [
              0.6666666666666666,
              "#ed7953"
             ],
             [
              0.7777777777777778,
              "#fb9f3a"
             ],
             [
              0.8888888888888888,
              "#fdca26"
             ],
             [
              1,
              "#f0f921"
             ]
            ],
            "type": "contour"
           }
          ],
          "contourcarpet": [
           {
            "colorbar": {
             "outlinewidth": 0,
             "ticks": ""
            },
            "type": "contourcarpet"
           }
          ],
          "heatmap": [
           {
            "colorbar": {
             "outlinewidth": 0,
             "ticks": ""
            },
            "colorscale": [
             [
              0,
              "#0d0887"
             ],
             [
              0.1111111111111111,
              "#46039f"
             ],
             [
              0.2222222222222222,
              "#7201a8"
             ],
             [
              0.3333333333333333,
              "#9c179e"
             ],
             [
              0.4444444444444444,
              "#bd3786"
             ],
             [
              0.5555555555555556,
              "#d8576b"
             ],
             [
              0.6666666666666666,
              "#ed7953"
             ],
             [
              0.7777777777777778,
              "#fb9f3a"
             ],
             [
              0.8888888888888888,
              "#fdca26"
             ],
             [
              1,
              "#f0f921"
             ]
            ],
            "type": "heatmap"
           }
          ],
          "heatmapgl": [
           {
            "colorbar": {
             "outlinewidth": 0,
             "ticks": ""
            },
            "colorscale": [
             [
              0,
              "#0d0887"
             ],
             [
              0.1111111111111111,
              "#46039f"
             ],
             [
              0.2222222222222222,
              "#7201a8"
             ],
             [
              0.3333333333333333,
              "#9c179e"
             ],
             [
              0.4444444444444444,
              "#bd3786"
             ],
             [
              0.5555555555555556,
              "#d8576b"
             ],
             [
              0.6666666666666666,
              "#ed7953"
             ],
             [
              0.7777777777777778,
              "#fb9f3a"
             ],
             [
              0.8888888888888888,
              "#fdca26"
             ],
             [
              1,
              "#f0f921"
             ]
            ],
            "type": "heatmapgl"
           }
          ],
          "histogram": [
           {
            "marker": {
             "pattern": {
              "fillmode": "overlay",
              "size": 10,
              "solidity": 0.2
             }
            },
            "type": "histogram"
           }
          ],
          "histogram2d": [
           {
            "colorbar": {
             "outlinewidth": 0,
             "ticks": ""
            },
            "colorscale": [
             [
              0,
              "#0d0887"
             ],
             [
              0.1111111111111111,
              "#46039f"
             ],
             [
              0.2222222222222222,
              "#7201a8"
             ],
             [
              0.3333333333333333,
              "#9c179e"
             ],
             [
              0.4444444444444444,
              "#bd3786"
             ],
             [
              0.5555555555555556,
              "#d8576b"
             ],
             [
              0.6666666666666666,
              "#ed7953"
             ],
             [
              0.7777777777777778,
              "#fb9f3a"
             ],
             [
              0.8888888888888888,
              "#fdca26"
             ],
             [
              1,
              "#f0f921"
             ]
            ],
            "type": "histogram2d"
           }
          ],
          "histogram2dcontour": [
           {
            "colorbar": {
             "outlinewidth": 0,
             "ticks": ""
            },
            "colorscale": [
             [
              0,
              "#0d0887"
             ],
             [
              0.1111111111111111,
              "#46039f"
             ],
             [
              0.2222222222222222,
              "#7201a8"
             ],
             [
              0.3333333333333333,
              "#9c179e"
             ],
             [
              0.4444444444444444,
              "#bd3786"
             ],
             [
              0.5555555555555556,
              "#d8576b"
             ],
             [
              0.6666666666666666,
              "#ed7953"
             ],
             [
              0.7777777777777778,
              "#fb9f3a"
             ],
             [
              0.8888888888888888,
              "#fdca26"
             ],
             [
              1,
              "#f0f921"
             ]
            ],
            "type": "histogram2dcontour"
           }
          ],
          "mesh3d": [
           {
            "colorbar": {
             "outlinewidth": 0,
             "ticks": ""
            },
            "type": "mesh3d"
           }
          ],
          "parcoords": [
           {
            "line": {
             "colorbar": {
              "outlinewidth": 0,
              "ticks": ""
             }
            },
            "type": "parcoords"
           }
          ],
          "pie": [
           {
            "automargin": true,
            "type": "pie"
           }
          ],
          "scatter": [
           {
            "marker": {
             "colorbar": {
              "outlinewidth": 0,
              "ticks": ""
             }
            },
            "type": "scatter"
           }
          ],
          "scatter3d": [
           {
            "line": {
             "colorbar": {
              "outlinewidth": 0,
              "ticks": ""
             }
            },
            "marker": {
             "colorbar": {
              "outlinewidth": 0,
              "ticks": ""
             }
            },
            "type": "scatter3d"
           }
          ],
          "scattercarpet": [
           {
            "marker": {
             "colorbar": {
              "outlinewidth": 0,
              "ticks": ""
             }
            },
            "type": "scattercarpet"
           }
          ],
          "scattergeo": [
           {
            "marker": {
             "colorbar": {
              "outlinewidth": 0,
              "ticks": ""
             }
            },
            "type": "scattergeo"
           }
          ],
          "scattergl": [
           {
            "marker": {
             "colorbar": {
              "outlinewidth": 0,
              "ticks": ""
             }
            },
            "type": "scattergl"
           }
          ],
          "scattermapbox": [
           {
            "marker": {
             "colorbar": {
              "outlinewidth": 0,
              "ticks": ""
             }
            },
            "type": "scattermapbox"
           }
          ],
          "scatterpolar": [
           {
            "marker": {
             "colorbar": {
              "outlinewidth": 0,
              "ticks": ""
             }
            },
            "type": "scatterpolar"
           }
          ],
          "scatterpolargl": [
           {
            "marker": {
             "colorbar": {
              "outlinewidth": 0,
              "ticks": ""
             }
            },
            "type": "scatterpolargl"
           }
          ],
          "scatterternary": [
           {
            "marker": {
             "colorbar": {
              "outlinewidth": 0,
              "ticks": ""
             }
            },
            "type": "scatterternary"
           }
          ],
          "surface": [
           {
            "colorbar": {
             "outlinewidth": 0,
             "ticks": ""
            },
            "colorscale": [
             [
              0,
              "#0d0887"
             ],
             [
              0.1111111111111111,
              "#46039f"
             ],
             [
              0.2222222222222222,
              "#7201a8"
             ],
             [
              0.3333333333333333,
              "#9c179e"
             ],
             [
              0.4444444444444444,
              "#bd3786"
             ],
             [
              0.5555555555555556,
              "#d8576b"
             ],
             [
              0.6666666666666666,
              "#ed7953"
             ],
             [
              0.7777777777777778,
              "#fb9f3a"
             ],
             [
              0.8888888888888888,
              "#fdca26"
             ],
             [
              1,
              "#f0f921"
             ]
            ],
            "type": "surface"
           }
          ],
          "table": [
           {
            "cells": {
             "fill": {
              "color": "#EBF0F8"
             },
             "line": {
              "color": "white"
             }
            },
            "header": {
             "fill": {
              "color": "#C8D4E3"
             },
             "line": {
              "color": "white"
             }
            },
            "type": "table"
           }
          ]
         },
         "layout": {
          "annotationdefaults": {
           "arrowcolor": "#2a3f5f",
           "arrowhead": 0,
           "arrowwidth": 1
          },
          "autotypenumbers": "strict",
          "coloraxis": {
           "colorbar": {
            "outlinewidth": 0,
            "ticks": ""
           }
          },
          "colorscale": {
           "diverging": [
            [
             0,
             "#8e0152"
            ],
            [
             0.1,
             "#c51b7d"
            ],
            [
             0.2,
             "#de77ae"
            ],
            [
             0.3,
             "#f1b6da"
            ],
            [
             0.4,
             "#fde0ef"
            ],
            [
             0.5,
             "#f7f7f7"
            ],
            [
             0.6,
             "#e6f5d0"
            ],
            [
             0.7,
             "#b8e186"
            ],
            [
             0.8,
             "#7fbc41"
            ],
            [
             0.9,
             "#4d9221"
            ],
            [
             1,
             "#276419"
            ]
           ],
           "sequential": [
            [
             0,
             "#0d0887"
            ],
            [
             0.1111111111111111,
             "#46039f"
            ],
            [
             0.2222222222222222,
             "#7201a8"
            ],
            [
             0.3333333333333333,
             "#9c179e"
            ],
            [
             0.4444444444444444,
             "#bd3786"
            ],
            [
             0.5555555555555556,
             "#d8576b"
            ],
            [
             0.6666666666666666,
             "#ed7953"
            ],
            [
             0.7777777777777778,
             "#fb9f3a"
            ],
            [
             0.8888888888888888,
             "#fdca26"
            ],
            [
             1,
             "#f0f921"
            ]
           ],
           "sequentialminus": [
            [
             0,
             "#0d0887"
            ],
            [
             0.1111111111111111,
             "#46039f"
            ],
            [
             0.2222222222222222,
             "#7201a8"
            ],
            [
             0.3333333333333333,
             "#9c179e"
            ],
            [
             0.4444444444444444,
             "#bd3786"
            ],
            [
             0.5555555555555556,
             "#d8576b"
            ],
            [
             0.6666666666666666,
             "#ed7953"
            ],
            [
             0.7777777777777778,
             "#fb9f3a"
            ],
            [
             0.8888888888888888,
             "#fdca26"
            ],
            [
             1,
             "#f0f921"
            ]
           ]
          },
          "colorway": [
           "#636efa",
           "#EF553B",
           "#00cc96",
           "#ab63fa",
           "#FFA15A",
           "#19d3f3",
           "#FF6692",
           "#B6E880",
           "#FF97FF",
           "#FECB52"
          ],
          "font": {
           "color": "#2a3f5f"
          },
          "geo": {
           "bgcolor": "white",
           "lakecolor": "white",
           "landcolor": "#E5ECF6",
           "showlakes": true,
           "showland": true,
           "subunitcolor": "white"
          },
          "hoverlabel": {
           "align": "left"
          },
          "hovermode": "closest",
          "mapbox": {
           "style": "light"
          },
          "paper_bgcolor": "white",
          "plot_bgcolor": "#E5ECF6",
          "polar": {
           "angularaxis": {
            "gridcolor": "white",
            "linecolor": "white",
            "ticks": ""
           },
           "bgcolor": "#E5ECF6",
           "radialaxis": {
            "gridcolor": "white",
            "linecolor": "white",
            "ticks": ""
           }
          },
          "scene": {
           "xaxis": {
            "backgroundcolor": "#E5ECF6",
            "gridcolor": "white",
            "gridwidth": 2,
            "linecolor": "white",
            "showbackground": true,
            "ticks": "",
            "zerolinecolor": "white"
           },
           "yaxis": {
            "backgroundcolor": "#E5ECF6",
            "gridcolor": "white",
            "gridwidth": 2,
            "linecolor": "white",
            "showbackground": true,
            "ticks": "",
            "zerolinecolor": "white"
           },
           "zaxis": {
            "backgroundcolor": "#E5ECF6",
            "gridcolor": "white",
            "gridwidth": 2,
            "linecolor": "white",
            "showbackground": true,
            "ticks": "",
            "zerolinecolor": "white"
           }
          },
          "shapedefaults": {
           "line": {
            "color": "#2a3f5f"
           }
          },
          "ternary": {
           "aaxis": {
            "gridcolor": "white",
            "linecolor": "white",
            "ticks": ""
           },
           "baxis": {
            "gridcolor": "white",
            "linecolor": "white",
            "ticks": ""
           },
           "bgcolor": "#E5ECF6",
           "caxis": {
            "gridcolor": "white",
            "linecolor": "white",
            "ticks": ""
           }
          },
          "title": {
           "x": 0.05
          },
          "xaxis": {
           "automargin": true,
           "gridcolor": "white",
           "linecolor": "white",
           "ticks": "",
           "title": {
            "standoff": 15
           },
           "zerolinecolor": "white",
           "zerolinewidth": 2
          },
          "yaxis": {
           "automargin": true,
           "gridcolor": "white",
           "linecolor": "white",
           "ticks": "",
           "title": {
            "standoff": 15
           },
           "zerolinecolor": "white",
           "zerolinewidth": 2
          }
         }
        },
        "title": {
         "text": "Log-transformed fit on linear axes"
        },
        "xaxis": {
         "anchor": "y",
         "domain": [
          0,
          1
         ],
         "title": {
          "text": "PHIz"
         }
        },
        "yaxis": {
         "anchor": "x",
         "domain": [
          0,
          1
         ],
         "title": {
          "text": "CPERM"
         }
        }
       }
      },
      "text/html": [
       "<div>                            <div id=\"1b1adf16-2911-497d-a054-24e02361ffea\" class=\"plotly-graph-div\" style=\"height:525px; width:100%;\"></div>            <script type=\"text/javascript\">                require([\"plotly\"], function(Plotly) {                    window.PLOTLYENV=window.PLOTLYENV || {};                                    if (document.getElementById(\"1b1adf16-2911-497d-a054-24e02361ffea\")) {                    Plotly.newPlot(                        \"1b1adf16-2911-497d-a054-24e02361ffea\",                        [{\"hovertemplate\":\"PHIz=%{x}<br>CPERM=%{y}<extra></extra>\",\"legendgroup\":\"\",\"marker\":{\"color\":\"#636efa\",\"symbol\":\"circle\"},\"mode\":\"markers\",\"name\":\"\",\"orientation\":\"v\",\"showlegend\":false,\"x\":[0.04166666666666667,0.11111111111111112,0.11111111111111112,0.11111111111111112,0.07526881720430109,0.11111111111111112,0.04166666666666667,0.06382978723404255,0.0989010989010989,0.0989010989010989,0.11111111111111112,0.11111111111111112,0.11111111111111112,0.06382978723404255,0.07526881720430109,0.11111111111111112,0.11111111111111112,0.11111111111111112,0.0989010989010989,0.12359550561797752,0.13636363636363635,0.12359550561797752,0.12359550561797752,0.14942528735632185,0.14942528735632185,0.17647058823529413,0.13636363636363635,0.14942528735632185,0.17647058823529413,0.13636363636363635,0.13636363636363635,0.0989010989010989,0.12359550561797752,0.11111111111111112,0.17647058823529413,0.13636363636363635,0.08695652173913043,0.16279069767441862,0.17647058823529413,0.14942528735632185,0.16279069767441862,0.14942528735632185,0.08695652173913043,0.08695652173913043,0.14942528735632185,0.26582278481012656,0.010101010101010102,0.020408163265306124,0.020408163265306124,0.06382978723404255,0.1904761904761905,0.07526881720430109,0.14942528735632185,0.052631578947368425,0.08695652173913043,0.14942528735632185,0.08695652173913043,0.0989010989010989,0.07526881720430109,0.07526881720430109,0.06382978723404255,0.08695652173913043,0.0989010989010989,0.13636363636363635,0.12359550561797752,0.11111111111111112,0.08695652173913043,0.13636363636363635,0.0989010989010989,0.052631578947368425,0.14942528735632185,0.14942528735632185,0.17647058823529413,0.1904761904761905,0.0989010989010989,0.04166666666666667,0.08695652173913043,0.08695652173913043,0.11111111111111112,0.07526881720430109,0.13636363636363635,0.2345679012345679,0.26582278481012656,0.25,0.26582278481012656,0.08695652173913043,0.08695652173913043,0.07526881720430109,0.07526881720430109,0.07526881720430109,0.052631578947368425,0.030927835051546393,0.052631578947368425,0.07526881720430109,0.11111111111111112,0.12359550561797752,0.11111111111111112,0.11111111111111112,0.14942528735632185,0.08695652173913043,0.07526881720430109,0.12359550561797752,0.12359550561797752,0.13636363636363635,0.0989010989010989,0.13636363636363635,0.12359550561797752,0.14942528735632185,0.11111111111111112,0.0989010989010989,0.052631578947368425,0.07526881720430109,0.12359550561797752,0.08695652173913043,0.08695652173913043,0.07526881720430109,0.0989010989010989,0.08695652173913043,0.11111111111111112,0.06382978723404255,0.2195121951219512,0.1904761904761905,0.1904761904761905,0.14942528735632185,0.16279069767441862,0.14942528735632185,0.16279069767441862,0.06382978723404255,0.08695652173913043,0.06382978723404255,0.16279069767441862,0.12359550561797752,0.11111111111111112,0.0989010989010989,0.14942528735632185,0.13636363636363635,0.08695652173913043,0.08695652173913043,0.11111111111111112,0.0989010989010989,0.11111111111111112,0.0989010989010989,0.11111111111111112,0.13636363636363635,0.08695652173913043,0.17647058823529413,0.13636363636363635,0.11111111111111112,0.16279069767441862,0.07526881720430109,0.052631578947368425,0.13636363636363635,0.12359550561797752,0.0989010989010989,0.13636363636363635,0.13636363636363635,0.12359550561797752,0.13636363636363635,0.0989010989010989,0.0989010989010989,0.08695652173913043,0.08695652173913043,0.11111111111111112],\"xaxis\":\"x\",\"y\":[0.7,2.2,1.1,1.3,1.0,1.3,0.05,0.02,0.84,0.59,0.68,0.58,0.65,0.33,0.23,1.21,0.88,0.89,0.03,0.14,5.26,13.55,130.01,161.57,321.81,176.82,102.65,0.43,0.1,0.17,0.22,0.2,0.51,5.86,6.14,0.81,0.12,83.17,94.4,112.32,151.8,118.0,2.15,0.66,47.11,488.89,0.06,0.03,0.01,0.03,115.0,0.02,36.37,0.01,0.56,2.23,1.31,1.77,0.47,0.09,0.13,0.05,0.32,0.17,1.13,1.15,1.97,93.13,62.76,0.1,81.27,74.82,146.16,238.51,0.5,0.1,0.18,3.54,0.61,0.09,4.97,365.0,362.0,249.0,171.0,5.89,8.48,0.01,0.01,0.01,0.25,0.01,0.01,0.01,0.12,0.12,0.21,0.08,0.19,0.02,0.02,0.17,0.25,0.35,0.06,0.06,0.09,0.22,0.03,0.02,0.01,0.01,0.37,0.02,0.02,0.01,0.03,0.02,0.02,0.03,141.17,138.46,139.81,21.46,43.64,132.98,6.71,0.01,0.01,0.01,99.64,0.32,0.24,0.16,1.38,0.14,0.04,0.03,0.15,0.2,0.91,0.99,1.41,1.06,0.2,0.56,0.13,0.02,0.1,0.01,0.01,0.21,0.22,0.29,0.32,0.48,1.42,2.25,0.32,0.09,0.05,0.04,0.09],\"yaxis\":\"y\",\"type\":\"scatter\"},{\"hovertemplate\":\"<b>OLS trendline</b><br>log10(CPERM) = 21.7648 * PHIz + -2.69291<br>R<sup>2</sup>=0.548948<br><br>PHIz=%{x}<br>CPERM=%{y} <b>(trend)</b><extra></extra>\",\"legendgroup\":\"\",\"marker\":{\"color\":\"#636efa\",\"symbol\":\"circle\"},\"mode\":\"lines\",\"name\":\"\",\"showlegend\":false,\"x\":[0.010101010101010102,0.020408163265306124,0.020408163265306124,0.030927835051546393,0.04166666666666667,0.04166666666666667,0.04166666666666667,0.052631578947368425,0.052631578947368425,0.052631578947368425,0.052631578947368425,0.052631578947368425,0.052631578947368425,0.06382978723404255,0.06382978723404255,0.06382978723404255,0.06382978723404255,0.06382978723404255,0.06382978723404255,0.06382978723404255,0.07526881720430109,0.07526881720430109,0.07526881720430109,0.07526881720430109,0.07526881720430109,0.07526881720430109,0.07526881720430109,0.07526881720430109,0.07526881720430109,0.07526881720430109,0.07526881720430109,0.07526881720430109,0.07526881720430109,0.07526881720430109,0.08695652173913043,0.08695652173913043,0.08695652173913043,0.08695652173913043,0.08695652173913043,0.08695652173913043,0.08695652173913043,0.08695652173913043,0.08695652173913043,0.08695652173913043,0.08695652173913043,0.08695652173913043,0.08695652173913043,0.08695652173913043,0.08695652173913043,0.08695652173913043,0.08695652173913043,0.08695652173913043,0.08695652173913043,0.08695652173913043,0.08695652173913043,0.0989010989010989,0.0989010989010989,0.0989010989010989,0.0989010989010989,0.0989010989010989,0.0989010989010989,0.0989010989010989,0.0989010989010989,0.0989010989010989,0.0989010989010989,0.0989010989010989,0.0989010989010989,0.0989010989010989,0.0989010989010989,0.0989010989010989,0.0989010989010989,0.0989010989010989,0.11111111111111112,0.11111111111111112,0.11111111111111112,0.11111111111111112,0.11111111111111112,0.11111111111111112,0.11111111111111112,0.11111111111111112,0.11111111111111112,0.11111111111111112,0.11111111111111112,0.11111111111111112,0.11111111111111112,0.11111111111111112,0.11111111111111112,0.11111111111111112,0.11111111111111112,0.11111111111111112,0.11111111111111112,0.11111111111111112,0.11111111111111112,0.11111111111111112,0.11111111111111112,0.11111111111111112,0.12359550561797752,0.12359550561797752,0.12359550561797752,0.12359550561797752,0.12359550561797752,0.12359550561797752,0.12359550561797752,0.12359550561797752,0.12359550561797752,0.12359550561797752,0.12359550561797752,0.12359550561797752,0.12359550561797752,0.13636363636363635,0.13636363636363635,0.13636363636363635,0.13636363636363635,0.13636363636363635,0.13636363636363635,0.13636363636363635,0.13636363636363635,0.13636363636363635,0.13636363636363635,0.13636363636363635,0.13636363636363635,0.13636363636363635,0.13636363636363635,0.13636363636363635,0.13636363636363635,0.13636363636363635,0.14942528735632185,0.14942528735632185,0.14942528735632185,0.14942528735632185,0.14942528735632185,0.14942528735632185,0.14942528735632185,0.14942528735632185,0.14942528735632185,0.14942528735632185,0.14942528735632185,0.14942528735632185,0.14942528735632185,0.14942528735632185,0.14942528735632185,0.16279069767441862,0.16279069767441862,0.16279069767441862,0.16279069767441862,0.16279069767441862,0.16279069767441862,0.17647058823529413,0.17647058823529413,0.17647058823529413,0.17647058823529413,0.17647058823529413,0.17647058823529413,0.1904761904761905,0.1904761904761905,0.1904761904761905,0.1904761904761905,0.2195121951219512,0.2345679012345679,0.25,0.26582278481012656,0.26582278481012656,0.26582278481012656],\"xaxis\":\"x\",\"y\":[0.0033645881733926045,0.005639813333025047,0.005639813333025047,0.009554830004257397,0.01636632468212038,0.01636632468212038,0.01636632468212038,0.02835306113183828,0.02835306113183828,0.02835306113183828,0.02835306113183828,0.02835306113183828,0.02835306113183828,0.049696565936410114,0.049696565936410114,0.049696565936410114,0.049696565936410114,0.049696565936410114,0.049696565936410114,0.049696565936410114,0.08816459843071255,0.08816459843071255,0.08816459843071255,0.08816459843071255,0.08816459843071255,0.08816459843071255,0.08816459843071255,0.08816459843071255,0.08816459843071255,0.08816459843071255,0.08816459843071255,0.08816459843071255,0.08816459843071255,0.08816459843071255,0.15837055270375702,0.15837055270375702,0.15837055270375702,0.15837055270375702,0.15837055270375702,0.15837055270375702,0.15837055270375702,0.15837055270375702,0.15837055270375702,0.15837055270375702,0.15837055270375702,0.15837055270375702,0.15837055270375702,0.15837055270375702,0.15837055270375702,0.15837055270375702,0.15837055270375702,0.15837055270375702,0.15837055270375702,0.15837055270375702,0.15837055270375702,0.2881677692762808,0.2881677692762808,0.2881677692762808,0.2881677692762808,0.2881677692762808,0.2881677692762808,0.2881677692762808,0.2881677692762808,0.2881677692762808,0.2881677692762808,0.2881677692762808,0.2881677692762808,0.2881677692762808,0.2881677692762808,0.2881677692762808,0.2881677692762808,0.2881677692762808,0.5313656909349735,0.5313656909349735,0.5313656909349735,0.5313656909349735,0.5313656909349735,0.5313656909349735,0.5313656909349735,0.5313656909349735,0.5313656909349735,0.5313656909349735,0.5313656909349735,0.5313656909349735,0.5313656909349735,0.5313656909349735,0.5313656909349735,0.5313656909349735,0.5313656909349735,0.5313656909349735,0.5313656909349735,0.5313656909349735,0.5313656909349735,0.5313656909349735,0.5313656909349735,0.5313656909349735,0.9933755856433428,0.9933755856433428,0.9933755856433428,0.9933755856433428,0.9933755856433428,0.9933755856433428,0.9933755856433428,0.9933755856433428,0.9933755856433428,0.9933755856433428,0.9933755856433428,0.9933755856433428,0.9933755856433428,1.8836877282384472,1.8836877282384472,1.8836877282384472,1.8836877282384472,1.8836877282384472,1.8836877282384472,1.8836877282384472,1.8836877282384472,1.8836877282384472,1.8836877282384472,1.8836877282384472,1.8836877282384472,1.8836877282384472,1.8836877282384472,1.8836877282384472,1.8836877282384472,1.8836877282384472,3.624872500186356,3.624872500186356,3.624872500186356,3.624872500186356,3.624872500186356,3.624872500186356,3.624872500186356,3.624872500186356,3.624872500186356,3.624872500186356,3.624872500186356,3.624872500186356,3.624872500186356,3.624872500186356,3.624872500186356,7.0825200766147205,7.0825200766147205,7.0825200766147205,7.0825200766147205,7.0825200766147205,7.0825200766147205,14.05812767285315,14.05812767285315,14.05812767285315,14.05812767285315,14.05812767285315,14.05812767285315,28.3632629861656,28.3632629861656,28.3632629861656,28.3632629861656,121.53969682869455,258.4652290485211,560.1162898778662,1237.8199340849628,1237.8199340849628,1237.8199340849628],\"yaxis\":\"y\",\"type\":\"scatter\"}],                        {\"template\":{\"data\":{\"bar\":[{\"error_x\":{\"color\":\"#2a3f5f\"},\"error_y\":{\"color\":\"#2a3f5f\"},\"marker\":{\"line\":{\"color\":\"#E5ECF6\",\"width\":0.5},\"pattern\":{\"fillmode\":\"overlay\",\"size\":10,\"solidity\":0.2}},\"type\":\"bar\"}],\"barpolar\":[{\"marker\":{\"line\":{\"color\":\"#E5ECF6\",\"width\":0.5},\"pattern\":{\"fillmode\":\"overlay\",\"size\":10,\"solidity\":0.2}},\"type\":\"barpolar\"}],\"carpet\":[{\"aaxis\":{\"endlinecolor\":\"#2a3f5f\",\"gridcolor\":\"white\",\"linecolor\":\"white\",\"minorgridcolor\":\"white\",\"startlinecolor\":\"#2a3f5f\"},\"baxis\":{\"endlinecolor\":\"#2a3f5f\",\"gridcolor\":\"white\",\"linecolor\":\"white\",\"minorgridcolor\":\"white\",\"startlinecolor\":\"#2a3f5f\"},\"type\":\"carpet\"}],\"choropleth\":[{\"colorbar\":{\"outlinewidth\":0,\"ticks\":\"\"},\"type\":\"choropleth\"}],\"contour\":[{\"colorbar\":{\"outlinewidth\":0,\"ticks\":\"\"},\"colorscale\":[[0.0,\"#0d0887\"],[0.1111111111111111,\"#46039f\"],[0.2222222222222222,\"#7201a8\"],[0.3333333333333333,\"#9c179e\"],[0.4444444444444444,\"#bd3786\"],[0.5555555555555556,\"#d8576b\"],[0.6666666666666666,\"#ed7953\"],[0.7777777777777778,\"#fb9f3a\"],[0.8888888888888888,\"#fdca26\"],[1.0,\"#f0f921\"]],\"type\":\"contour\"}],\"contourcarpet\":[{\"colorbar\":{\"outlinewidth\":0,\"ticks\":\"\"},\"type\":\"contourcarpet\"}],\"heatmap\":[{\"colorbar\":{\"outlinewidth\":0,\"ticks\":\"\"},\"colorscale\":[[0.0,\"#0d0887\"],[0.1111111111111111,\"#46039f\"],[0.2222222222222222,\"#7201a8\"],[0.3333333333333333,\"#9c179e\"],[0.4444444444444444,\"#bd3786\"],[0.5555555555555556,\"#d8576b\"],[0.6666666666666666,\"#ed7953\"],[0.7777777777777778,\"#fb9f3a\"],[0.8888888888888888,\"#fdca26\"],[1.0,\"#f0f921\"]],\"type\":\"heatmap\"}],\"heatmapgl\":[{\"colorbar\":{\"outlinewidth\":0,\"ticks\":\"\"},\"colorscale\":[[0.0,\"#0d0887\"],[0.1111111111111111,\"#46039f\"],[0.2222222222222222,\"#7201a8\"],[0.3333333333333333,\"#9c179e\"],[0.4444444444444444,\"#bd3786\"],[0.5555555555555556,\"#d8576b\"],[0.6666666666666666,\"#ed7953\"],[0.7777777777777778,\"#fb9f3a\"],[0.8888888888888888,\"#fdca26\"],[1.0,\"#f0f921\"]],\"type\":\"heatmapgl\"}],\"histogram\":[{\"marker\":{\"pattern\":{\"fillmode\":\"overlay\",\"size\":10,\"solidity\":0.2}},\"type\":\"histogram\"}],\"histogram2d\":[{\"colorbar\":{\"outlinewidth\":0,\"ticks\":\"\"},\"colorscale\":[[0.0,\"#0d0887\"],[0.1111111111111111,\"#46039f\"],[0.2222222222222222,\"#7201a8\"],[0.3333333333333333,\"#9c179e\"],[0.4444444444444444,\"#bd3786\"],[0.5555555555555556,\"#d8576b\"],[0.6666666666666666,\"#ed7953\"],[0.7777777777777778,\"#fb9f3a\"],[0.8888888888888888,\"#fdca26\"],[1.0,\"#f0f921\"]],\"type\":\"histogram2d\"}],\"histogram2dcontour\":[{\"colorbar\":{\"outlinewidth\":0,\"ticks\":\"\"},\"colorscale\":[[0.0,\"#0d0887\"],[0.1111111111111111,\"#46039f\"],[0.2222222222222222,\"#7201a8\"],[0.3333333333333333,\"#9c179e\"],[0.4444444444444444,\"#bd3786\"],[0.5555555555555556,\"#d8576b\"],[0.6666666666666666,\"#ed7953\"],[0.7777777777777778,\"#fb9f3a\"],[0.8888888888888888,\"#fdca26\"],[1.0,\"#f0f921\"]],\"type\":\"histogram2dcontour\"}],\"mesh3d\":[{\"colorbar\":{\"outlinewidth\":0,\"ticks\":\"\"},\"type\":\"mesh3d\"}],\"parcoords\":[{\"line\":{\"colorbar\":{\"outlinewidth\":0,\"ticks\":\"\"}},\"type\":\"parcoords\"}],\"pie\":[{\"automargin\":true,\"type\":\"pie\"}],\"scatter\":[{\"marker\":{\"colorbar\":{\"outlinewidth\":0,\"ticks\":\"\"}},\"type\":\"scatter\"}],\"scatter3d\":[{\"line\":{\"colorbar\":{\"outlinewidth\":0,\"ticks\":\"\"}},\"marker\":{\"colorbar\":{\"outlinewidth\":0,\"ticks\":\"\"}},\"type\":\"scatter3d\"}],\"scattercarpet\":[{\"marker\":{\"colorbar\":{\"outlinewidth\":0,\"ticks\":\"\"}},\"type\":\"scattercarpet\"}],\"scattergeo\":[{\"marker\":{\"colorbar\":{\"outlinewidth\":0,\"ticks\":\"\"}},\"type\":\"scattergeo\"}],\"scattergl\":[{\"marker\":{\"colorbar\":{\"outlinewidth\":0,\"ticks\":\"\"}},\"type\":\"scattergl\"}],\"scattermapbox\":[{\"marker\":{\"colorbar\":{\"outlinewidth\":0,\"ticks\":\"\"}},\"type\":\"scattermapbox\"}],\"scatterpolar\":[{\"marker\":{\"colorbar\":{\"outlinewidth\":0,\"ticks\":\"\"}},\"type\":\"scatterpolar\"}],\"scatterpolargl\":[{\"marker\":{\"colorbar\":{\"outlinewidth\":0,\"ticks\":\"\"}},\"type\":\"scatterpolargl\"}],\"scatterternary\":[{\"marker\":{\"colorbar\":{\"outlinewidth\":0,\"ticks\":\"\"}},\"type\":\"scatterternary\"}],\"surface\":[{\"colorbar\":{\"outlinewidth\":0,\"ticks\":\"\"},\"colorscale\":[[0.0,\"#0d0887\"],[0.1111111111111111,\"#46039f\"],[0.2222222222222222,\"#7201a8\"],[0.3333333333333333,\"#9c179e\"],[0.4444444444444444,\"#bd3786\"],[0.5555555555555556,\"#d8576b\"],[0.6666666666666666,\"#ed7953\"],[0.7777777777777778,\"#fb9f3a\"],[0.8888888888888888,\"#fdca26\"],[1.0,\"#f0f921\"]],\"type\":\"surface\"}],\"table\":[{\"cells\":{\"fill\":{\"color\":\"#EBF0F8\"},\"line\":{\"color\":\"white\"}},\"header\":{\"fill\":{\"color\":\"#C8D4E3\"},\"line\":{\"color\":\"white\"}},\"type\":\"table\"}]},\"layout\":{\"annotationdefaults\":{\"arrowcolor\":\"#2a3f5f\",\"arrowhead\":0,\"arrowwidth\":1},\"autotypenumbers\":\"strict\",\"coloraxis\":{\"colorbar\":{\"outlinewidth\":0,\"ticks\":\"\"}},\"colorscale\":{\"diverging\":[[0,\"#8e0152\"],[0.1,\"#c51b7d\"],[0.2,\"#de77ae\"],[0.3,\"#f1b6da\"],[0.4,\"#fde0ef\"],[0.5,\"#f7f7f7\"],[0.6,\"#e6f5d0\"],[0.7,\"#b8e186\"],[0.8,\"#7fbc41\"],[0.9,\"#4d9221\"],[1,\"#276419\"]],\"sequential\":[[0.0,\"#0d0887\"],[0.1111111111111111,\"#46039f\"],[0.2222222222222222,\"#7201a8\"],[0.3333333333333333,\"#9c179e\"],[0.4444444444444444,\"#bd3786\"],[0.5555555555555556,\"#d8576b\"],[0.6666666666666666,\"#ed7953\"],[0.7777777777777778,\"#fb9f3a\"],[0.8888888888888888,\"#fdca26\"],[1.0,\"#f0f921\"]],\"sequentialminus\":[[0.0,\"#0d0887\"],[0.1111111111111111,\"#46039f\"],[0.2222222222222222,\"#7201a8\"],[0.3333333333333333,\"#9c179e\"],[0.4444444444444444,\"#bd3786\"],[0.5555555555555556,\"#d8576b\"],[0.6666666666666666,\"#ed7953\"],[0.7777777777777778,\"#fb9f3a\"],[0.8888888888888888,\"#fdca26\"],[1.0,\"#f0f921\"]]},\"colorway\":[\"#636efa\",\"#EF553B\",\"#00cc96\",\"#ab63fa\",\"#FFA15A\",\"#19d3f3\",\"#FF6692\",\"#B6E880\",\"#FF97FF\",\"#FECB52\"],\"font\":{\"color\":\"#2a3f5f\"},\"geo\":{\"bgcolor\":\"white\",\"lakecolor\":\"white\",\"landcolor\":\"#E5ECF6\",\"showlakes\":true,\"showland\":true,\"subunitcolor\":\"white\"},\"hoverlabel\":{\"align\":\"left\"},\"hovermode\":\"closest\",\"mapbox\":{\"style\":\"light\"},\"paper_bgcolor\":\"white\",\"plot_bgcolor\":\"#E5ECF6\",\"polar\":{\"angularaxis\":{\"gridcolor\":\"white\",\"linecolor\":\"white\",\"ticks\":\"\"},\"bgcolor\":\"#E5ECF6\",\"radialaxis\":{\"gridcolor\":\"white\",\"linecolor\":\"white\",\"ticks\":\"\"}},\"scene\":{\"xaxis\":{\"backgroundcolor\":\"#E5ECF6\",\"gridcolor\":\"white\",\"gridwidth\":2,\"linecolor\":\"white\",\"showbackground\":true,\"ticks\":\"\",\"zerolinecolor\":\"white\"},\"yaxis\":{\"backgroundcolor\":\"#E5ECF6\",\"gridcolor\":\"white\",\"gridwidth\":2,\"linecolor\":\"white\",\"showbackground\":true,\"ticks\":\"\",\"zerolinecolor\":\"white\"},\"zaxis\":{\"backgroundcolor\":\"#E5ECF6\",\"gridcolor\":\"white\",\"gridwidth\":2,\"linecolor\":\"white\",\"showbackground\":true,\"ticks\":\"\",\"zerolinecolor\":\"white\"}},\"shapedefaults\":{\"line\":{\"color\":\"#2a3f5f\"}},\"ternary\":{\"aaxis\":{\"gridcolor\":\"white\",\"linecolor\":\"white\",\"ticks\":\"\"},\"baxis\":{\"gridcolor\":\"white\",\"linecolor\":\"white\",\"ticks\":\"\"},\"bgcolor\":\"#E5ECF6\",\"caxis\":{\"gridcolor\":\"white\",\"linecolor\":\"white\",\"ticks\":\"\"}},\"title\":{\"x\":0.05},\"xaxis\":{\"automargin\":true,\"gridcolor\":\"white\",\"linecolor\":\"white\",\"ticks\":\"\",\"title\":{\"standoff\":15},\"zerolinecolor\":\"white\",\"zerolinewidth\":2},\"yaxis\":{\"automargin\":true,\"gridcolor\":\"white\",\"linecolor\":\"white\",\"ticks\":\"\",\"title\":{\"standoff\":15},\"zerolinecolor\":\"white\",\"zerolinewidth\":2}}},\"xaxis\":{\"anchor\":\"y\",\"domain\":[0.0,1.0],\"title\":{\"text\":\"PHIz\"}},\"yaxis\":{\"anchor\":\"x\",\"domain\":[0.0,1.0],\"title\":{\"text\":\"CPERM\"}},\"legend\":{\"tracegroupgap\":0},\"title\":{\"text\":\"Log-transformed fit on linear axes\"}},                        {\"responsive\": true}                    ).then(function(){\n",
       "                            \n",
       "var gd = document.getElementById('1b1adf16-2911-497d-a054-24e02361ffea');\n",
       "var x = new MutationObserver(function (mutations, observer) {{\n",
       "        var display = window.getComputedStyle(gd).display;\n",
       "        if (!display || display === 'none') {{\n",
       "            console.log([gd, 'removed!']);\n",
       "            Plotly.purge(gd);\n",
       "            observer.disconnect();\n",
       "        }}\n",
       "}});\n",
       "\n",
       "// Listen for the removal of the full notebook cells\n",
       "var notebookContainer = gd.closest('#notebook-container');\n",
       "if (notebookContainer) {{\n",
       "    x.observe(notebookContainer, {childList: true});\n",
       "}}\n",
       "\n",
       "// Listen for the clearing of the current output cell\n",
       "var outputEl = gd.closest('.output');\n",
       "if (outputEl) {{\n",
       "    x.observe(outputEl, {childList: true});\n",
       "}}\n",
       "\n",
       "                        })                };                });            </script>        </div>"
      ]
     },
     "metadata": {},
     "output_type": "display_data"
    }
   ],
   "source": [
    "import plotly.express as px\n",
    "#df = px.data.gapminder(df.HFU =='HFU1')\n",
    "fig = px.scatter(df, x=\"PHIz\", y=\"CPERM\", \n",
    "                 trendline=\"ols\", trendline_options=dict(log_y=True),\n",
    "                 title=\"Log-transformed fit on linear axes\")\n",
    "fig.show()"
   ]
  },
  {
   "cell_type": "code",
   "execution_count": 55,
   "metadata": {},
   "outputs": [],
   "source": [
    "#test = df.iloc[:,1:6] # 1t for rows and second for columns\n",
    "\n",
    "#test = df[['CPOR', 'CPERM', 'FZI']]\n",
    "#test"
   ]
  },
  {
   "cell_type": "code",
   "execution_count": 56,
   "metadata": {},
   "outputs": [],
   "source": [
    "#param_space = {'RQI': np.logspace(-2, 0.19, 8)}\n",
    "#param_space"
   ]
  },
  {
   "cell_type": "markdown",
   "metadata": {},
   "source": [
    "## from sklearn.cluster import KMeans\n",
    "from sklearn.mixture import GaussianMixture"
   ]
  },
  {
   "cell_type": "code",
   "execution_count": 21,
   "metadata": {},
   "outputs": [],
   "source": [
    "#def optimise_k_means(test, max_k):\n",
    "#    means = []\n",
    "#    inertias = []\n",
    "    \n",
    "#    for k in range(1,max_k):\n",
    "#        kmeans = KMeans(n_clusters=k)\n",
    "#        kmeans.fit(test)\n",
    "#        means.append(k)\n",
    "#        inertias.append(kmeans.inertia_)\n",
    "        \n",
    "#    fig = plt.subplots(figsize=(10, 5))\n",
    "#    plt.plot(means, inertias, 'o-')\n",
    "#    plt.xlabel(\"Number of Clusters\")\n",
    "#    plt.ylabel(\"Inertia\")\n",
    "#    plt.grid(True)\n",
    "#    plt.show()"
   ]
  },
  {
   "cell_type": "code",
   "execution_count": 22,
   "metadata": {},
   "outputs": [],
   "source": [
    "#optimise_k_means(df, 30)"
   ]
  },
  {
   "cell_type": "code",
   "execution_count": null,
   "metadata": {},
   "outputs": [],
   "source": [
    "#kmeans = KMeans(8)\n",
    "#kmeans.fit(test)"
   ]
  },
  {
   "cell_type": "code",
   "execution_count": 23,
   "metadata": {},
   "outputs": [],
   "source": [
    "#identified_clusters = kmeans.fit_predict(test)\n",
    "#identified_clusters"
   ]
  },
  {
   "cell_type": "code",
   "execution_count": 24,
   "metadata": {},
   "outputs": [],
   "source": [
    "#f, ax = plt.subplots(figsize=(10, 7))\n",
    "\n",
    "#sns.scatterplot(x=\"CPOR\", y=\"FZI\", data=test, hue = identified_clusters, palette='Set1')\n",
    "#ax.set(yscale=\"log\")\n",
    "#ax.grid(True)\n",
    "#ax.axis([0.001, 0.25, 0.001, 1000])\n",
    "\n",
    "#ax.set(xlabel=\"Core Porosity\", ylabel=\"Core Permeability\")"
   ]
  },
  {
   "cell_type": "markdown",
   "metadata": {},
   "source": [
    "**How many entries we have in the dataset?**"
   ]
  },
  {
   "cell_type": "code",
   "execution_count": null,
   "metadata": {},
   "outputs": [],
   "source": [
    "#df.info()"
   ]
  },
  {
   "cell_type": "markdown",
   "metadata": {},
   "source": [
    "**Display the basic statistics, mean, std, max etc....**"
   ]
  },
  {
   "cell_type": "code",
   "execution_count": null,
   "metadata": {},
   "outputs": [],
   "source": [
    "# Code here please so that you don't lose the output"
   ]
  },
  {
   "cell_type": "code",
   "execution_count": null,
   "metadata": {},
   "outputs": [],
   "source": [
    "#df.dropna().describe()"
   ]
  },
  {
   "cell_type": "markdown",
   "metadata": {
    "scrolled": false
   },
   "source": [
    "## Exploratory Data Analysis\n",
    "\n",
    "Let's do some EDA here, always good to know your data!\n",
    "\n",
    "**How the area 'A' is related to the compactness 'C', create a scatter plot please. Luckily, we have the target values, pass it as hue argument!** Any comments on clusters!"
   ]
  },
  {
   "cell_type": "code",
   "execution_count": null,
   "metadata": {},
   "outputs": [],
   "source": [
    "# Code here please so that you don't lose the output"
   ]
  },
  {
   "cell_type": "code",
   "execution_count": 98,
   "metadata": {},
   "outputs": [
    {
     "data": {
      "text/plain": [
       "[Text(0.5, 0, 'PHiZ'), Text(0, 0.5, 'RQI')]"
      ]
     },
     "execution_count": 98,
     "metadata": {},
     "output_type": "execute_result"
    },
    {
     "data": {
      "image/png": "[encoded data removed]",
      "text/plain": [
       "<Figure size 1000x700 with 1 Axes>"
      ]
     },
     "metadata": {},
     "output_type": "display_data"
    }
   ],
   "source": [
    "#from matplotlib.ticker import FuncFormatter\n",
    "f, ax = plt.subplots(figsize=(10, 7))\n",
    "\n",
    "sns.scatterplot(x=\"PHIz\", y=\"RQI\", hue='HFU', data=df)\n",
    "ax.set(xscale=\"log\", yscale=\"log\")\n",
    "ax.grid(True)\n",
    "ax.axis([0.001, 1, 0.001, 10])\n",
    "#ax.set_xticks([0.005,0.1,1])\n",
    "#ax.set_yticks([0.005,5,10])\n",
    "ax.set(xlabel=\"PHiZ\", ylabel=\"RQI\")\n",
    "\n"
   ]
  },
  {
   "cell_type": "markdown",
   "metadata": {},
   "source": [
    "**To create the plot below (a stacked histogram) use [sns.FacetGrid](https://stanford.edu/~mwaskom/software/seaborn/generated/seaborn.FacetGrid.html).**"
   ]
  },
  {
   "cell_type": "code",
   "execution_count": null,
   "metadata": {},
   "outputs": [],
   "source": [
    "# Code here please so that you don't lose the output"
   ]
  },
  {
   "cell_type": "code",
   "execution_count": 38,
   "metadata": {},
   "outputs": [],
   "source": [
    "#g = sns.FacetGrid(df, col=\"WELL\", height=3.5, aspect=.65)\n",
    "#g.map(sns.histplot, \"RQI\")"
   ]
  },
  {
   "cell_type": "code",
   "execution_count": 92,
   "metadata": {},
   "outputs": [
    {
     "data": {
      "text/html": [
       "<div>\n",
       "<style scoped>\n",
       "    .dataframe tbody tr th:only-of-type {\n",
       "        vertical-align: middle;\n",
       "    }\n",
       "\n",
       "    .dataframe tbody tr th {\n",
       "        vertical-align: top;\n",
       "    }\n",
       "\n",
       "    .dataframe thead th {\n",
       "        text-align: right;\n",
       "    }\n",
       "</style>\n",
       "<table border=\"1\" class=\"dataframe\">\n",
       "  <thead>\n",
       "    <tr style=\"text-align: right;\">\n",
       "      <th></th>\n",
       "      <th>DEPTH</th>\n",
       "      <th>CPERM</th>\n",
       "      <th>CPOR</th>\n",
       "      <th>WELL</th>\n",
       "      <th>RQI</th>\n",
       "      <th>PHIz</th>\n",
       "      <th>FZI</th>\n",
       "      <th>LFZI</th>\n",
       "      <th>HFU</th>\n",
       "    </tr>\n",
       "  </thead>\n",
       "  <tbody>\n",
       "    <tr>\n",
       "      <th>22</th>\n",
       "      <td>3038.0</td>\n",
       "      <td>130.01</td>\n",
       "      <td>0.11</td>\n",
       "      <td>we1</td>\n",
       "      <td>1.079498</td>\n",
       "      <td>0.123596</td>\n",
       "      <td>8.734117</td>\n",
       "      <td>0.941219</td>\n",
       "      <td>HFU8</td>\n",
       "    </tr>\n",
       "    <tr>\n",
       "      <th>23</th>\n",
       "      <td>3043.0</td>\n",
       "      <td>161.57</td>\n",
       "      <td>0.13</td>\n",
       "      <td>we1</td>\n",
       "      <td>1.106976</td>\n",
       "      <td>0.149425</td>\n",
       "      <td>7.408226</td>\n",
       "      <td>0.869714</td>\n",
       "      <td>HFU8</td>\n",
       "    </tr>\n",
       "    <tr>\n",
       "      <th>24</th>\n",
       "      <td>3045.0</td>\n",
       "      <td>321.81</td>\n",
       "      <td>0.13</td>\n",
       "      <td>we1</td>\n",
       "      <td>1.562276</td>\n",
       "      <td>0.149425</td>\n",
       "      <td>10.455231</td>\n",
       "      <td>1.019334</td>\n",
       "      <td>HFU8</td>\n",
       "    </tr>\n",
       "    <tr>\n",
       "      <th>25</th>\n",
       "      <td>3049.0</td>\n",
       "      <td>176.82</td>\n",
       "      <td>0.15</td>\n",
       "      <td>we1</td>\n",
       "      <td>1.078077</td>\n",
       "      <td>0.176471</td>\n",
       "      <td>6.109102</td>\n",
       "      <td>0.785977</td>\n",
       "      <td>HFU8</td>\n",
       "    </tr>\n",
       "    <tr>\n",
       "      <th>26</th>\n",
       "      <td>3051.0</td>\n",
       "      <td>102.65</td>\n",
       "      <td>0.12</td>\n",
       "      <td>we1</td>\n",
       "      <td>0.918372</td>\n",
       "      <td>0.136364</td>\n",
       "      <td>6.734726</td>\n",
       "      <td>0.828320</td>\n",
       "      <td>HFU8</td>\n",
       "    </tr>\n",
       "    <tr>\n",
       "      <th>39</th>\n",
       "      <td>4863.0</td>\n",
       "      <td>112.32</td>\n",
       "      <td>0.13</td>\n",
       "      <td>wf1</td>\n",
       "      <td>0.922968</td>\n",
       "      <td>0.149425</td>\n",
       "      <td>6.176784</td>\n",
       "      <td>0.790762</td>\n",
       "      <td>HFU8</td>\n",
       "    </tr>\n",
       "    <tr>\n",
       "      <th>40</th>\n",
       "      <td>4864.0</td>\n",
       "      <td>151.80</td>\n",
       "      <td>0.14</td>\n",
       "      <td>wf1</td>\n",
       "      <td>1.033955</td>\n",
       "      <td>0.162791</td>\n",
       "      <td>6.351436</td>\n",
       "      <td>0.802872</td>\n",
       "      <td>HFU8</td>\n",
       "    </tr>\n",
       "    <tr>\n",
       "      <th>41</th>\n",
       "      <td>4865.5</td>\n",
       "      <td>118.00</td>\n",
       "      <td>0.13</td>\n",
       "      <td>wf1</td>\n",
       "      <td>0.946017</td>\n",
       "      <td>0.149425</td>\n",
       "      <td>6.331037</td>\n",
       "      <td>0.801475</td>\n",
       "      <td>HFU8</td>\n",
       "    </tr>\n",
       "    <tr>\n",
       "      <th>47</th>\n",
       "      <td>4872.0</td>\n",
       "      <td>0.06</td>\n",
       "      <td>0.01</td>\n",
       "      <td>wf1</td>\n",
       "      <td>0.076914</td>\n",
       "      <td>0.010101</td>\n",
       "      <td>7.614484</td>\n",
       "      <td>0.881640</td>\n",
       "      <td>HFU8</td>\n",
       "    </tr>\n",
       "    <tr>\n",
       "      <th>95</th>\n",
       "      <td>4965.0</td>\n",
       "      <td>93.13</td>\n",
       "      <td>0.12</td>\n",
       "      <td>wf1</td>\n",
       "      <td>0.874750</td>\n",
       "      <td>0.136364</td>\n",
       "      <td>6.414831</td>\n",
       "      <td>0.807185</td>\n",
       "      <td>HFU8</td>\n",
       "    </tr>\n",
       "    <tr>\n",
       "      <th>96</th>\n",
       "      <td>4965.0</td>\n",
       "      <td>62.76</td>\n",
       "      <td>0.09</td>\n",
       "      <td>wf1</td>\n",
       "      <td>0.829182</td>\n",
       "      <td>0.098901</td>\n",
       "      <td>8.383951</td>\n",
       "      <td>0.923449</td>\n",
       "      <td>HFU8</td>\n",
       "    </tr>\n",
       "    <tr>\n",
       "      <th>101</th>\n",
       "      <td>4971.0</td>\n",
       "      <td>238.51</td>\n",
       "      <td>0.16</td>\n",
       "      <td>wf1</td>\n",
       "      <td>1.212336</td>\n",
       "      <td>0.190476</td>\n",
       "      <td>6.364763</td>\n",
       "      <td>0.803782</td>\n",
       "      <td>HFU8</td>\n",
       "    </tr>\n",
       "    <tr>\n",
       "      <th>156</th>\n",
       "      <td>3403.5</td>\n",
       "      <td>132.98</td>\n",
       "      <td>0.13</td>\n",
       "      <td>wb7</td>\n",
       "      <td>1.004271</td>\n",
       "      <td>0.149425</td>\n",
       "      <td>6.720894</td>\n",
       "      <td>0.827427</td>\n",
       "      <td>HFU8</td>\n",
       "    </tr>\n",
       "  </tbody>\n",
       "</table>\n",
       "</div>"
      ],
      "text/plain": [
       "      DEPTH   CPERM  CPOR WELL       RQI      PHIz        FZI      LFZI   HFU\n",
       "22   3038.0  130.01  0.11  we1  1.079498  0.123596   8.734117  0.941219  HFU8\n",
       "23   3043.0  161.57  0.13  we1  1.106976  0.149425   7.408226  0.869714  HFU8\n",
       "24   3045.0  321.81  0.13  we1  1.562276  0.149425  10.455231  1.019334  HFU8\n",
       "25   3049.0  176.82  0.15  we1  1.078077  0.176471   6.109102  0.785977  HFU8\n",
       "26   3051.0  102.65  0.12  we1  0.918372  0.136364   6.734726  0.828320  HFU8\n",
       "39   4863.0  112.32  0.13  wf1  0.922968  0.149425   6.176784  0.790762  HFU8\n",
       "40   4864.0  151.80  0.14  wf1  1.033955  0.162791   6.351436  0.802872  HFU8\n",
       "41   4865.5  118.00  0.13  wf1  0.946017  0.149425   6.331037  0.801475  HFU8\n",
       "47   4872.0    0.06  0.01  wf1  0.076914  0.010101   7.614484  0.881640  HFU8\n",
       "95   4965.0   93.13  0.12  wf1  0.874750  0.136364   6.414831  0.807185  HFU8\n",
       "96   4965.0   62.76  0.09  wf1  0.829182  0.098901   8.383951  0.923449  HFU8\n",
       "101  4971.0  238.51  0.16  wf1  1.212336  0.190476   6.364763  0.803782  HFU8\n",
       "156  3403.5  132.98  0.13  wb7  1.004271  0.149425   6.720894  0.827427  HFU8"
      ]
     },
     "execution_count": 92,
     "metadata": {},
     "output_type": "execute_result"
    }
   ],
   "source": [
    "# Code here please so that you don't lose the output\n",
    "df8 = df[df['HFU'] == 'HFU8']\n",
    "df8.head(20)"
   ]
  },
  {
   "cell_type": "code",
   "execution_count": 84,
   "metadata": {},
   "outputs": [
    {
     "data": {
      "text/plain": [
       "[Text(0.5, 0, 'Core Porosity'), Text(0, 0.5, 'Core Permeability')]"
      ]
     },
     "execution_count": 84,
     "metadata": {},
     "output_type": "execute_result"
    },
    {
     "data": {
      "image/png": "[encoded data removed]",
      "text/plain": [
       "<Figure size 500x300 with 1 Axes>"
      ]
     },
     "metadata": {},
     "output_type": "display_data"
    }
   ],
   "source": [
    "# Code here please so that you don't lose the output\n",
    "f, ax = plt.subplots(figsize=(5, 3))\n",
    "\n",
    "sns.scatterplot(x=\"PHIz\", y=\"RQI\", data=df8)\n",
    "ax.set(xscale=\"log\", yscale=\"log\")\n",
    "ax.grid(True)\n",
    "ax.axis([0.001, 1, 0.001, 10])\n",
    "#ax.set_xticks([0.005,0.1,1])\n",
    "#ax.set_yticks([0.005,5,10])\n",
    "ax.set(xlabel=\"Core Porosity\", ylabel=\"Core Permeability\")"
   ]
  },
  {
   "cell_type": "code",
   "execution_count": 85,
   "metadata": {},
   "outputs": [
    {
     "name": "stdout",
     "output_type": "stream",
     "text": [
      "<class 'pandas.core.frame.DataFrame'>\n",
      "Int64Index: 13 entries, 22 to 156\n",
      "Data columns (total 9 columns):\n",
      " #   Column  Non-Null Count  Dtype  \n",
      "---  ------  --------------  -----  \n",
      " 0   DEPTH   13 non-null     float64\n",
      " 1   CPERM   13 non-null     float64\n",
      " 2   CPOR    13 non-null     float64\n",
      " 3   WELL    13 non-null     object \n",
      " 4   RQI     13 non-null     float64\n",
      " 5   PHIz    13 non-null     float64\n",
      " 6   FZI     13 non-null     float64\n",
      " 7   LFZI    13 non-null     float64\n",
      " 8   HFU     13 non-null     object \n",
      "dtypes: float64(7), object(2)\n",
      "memory usage: 1.0+ KB\n"
     ]
    }
   ],
   "source": [
    "df8.info()"
   ]
  },
  {
   "cell_type": "code",
   "execution_count": 88,
   "metadata": {},
   "outputs": [
    {
     "ename": "ValueError",
     "evalue": "object too deep for desired array",
     "output_type": "error",
     "traceback": [
      "\u001b[1;31m---------------------------------------------------------------------------\u001b[0m",
      "\u001b[1;31mValueError\u001b[0m                                Traceback (most recent call last)",
      "\u001b[1;31mValueError\u001b[0m: object too deep for desired array"
     ]
    },
    {
     "ename": "error",
     "evalue": "Result from function call is not a proper array of floats.",
     "output_type": "error",
     "traceback": [
      "\u001b[1;31m---------------------------------------------------------------------------\u001b[0m",
      "\u001b[1;31merror\u001b[0m                                     Traceback (most recent call last)",
      "\u001b[1;32m~\\AppData\\Local\\Temp/ipykernel_10376/1752811891.py\u001b[0m in \u001b[0;36m<module>\u001b[1;34m\u001b[0m\n\u001b[0;32m      4\u001b[0m \u001b[0my\u001b[0m \u001b[1;33m=\u001b[0m \u001b[0mnp\u001b[0m\u001b[1;33m.\u001b[0m\u001b[0mlog\u001b[0m\u001b[1;33m(\u001b[0m\u001b[0mdf8\u001b[0m\u001b[1;33m[\u001b[0m\u001b[1;34m\"RQI\"\u001b[0m\u001b[1;33m]\u001b[0m\u001b[1;33m.\u001b[0m\u001b[0mvalues\u001b[0m\u001b[1;33m)\u001b[0m\u001b[1;33m\u001b[0m\u001b[1;33m\u001b[0m\u001b[0m\n\u001b[0;32m      5\u001b[0m \u001b[1;33m\u001b[0m\u001b[0m\n\u001b[1;32m----> 6\u001b[1;33m \u001b[0mpopt\u001b[0m\u001b[1;33m,\u001b[0m \u001b[0mpcov\u001b[0m \u001b[1;33m=\u001b[0m \u001b[0mcurve_fit\u001b[0m\u001b[1;33m(\u001b[0m\u001b[1;32mlambda\u001b[0m \u001b[0mfx\u001b[0m\u001b[1;33m,\u001b[0m\u001b[0ma\u001b[0m\u001b[1;33m,\u001b[0m\u001b[0mb\u001b[0m\u001b[1;33m:\u001b[0m \u001b[0ma\u001b[0m\u001b[1;33m*\u001b[0m\u001b[0mfx\u001b[0m\u001b[1;33m**\u001b[0m\u001b[1;33m-\u001b[0m\u001b[0mb\u001b[0m\u001b[1;33m,\u001b[0m  \u001b[0mx\u001b[0m\u001b[1;33m,\u001b[0m \u001b[0my\u001b[0m\u001b[1;33m)\u001b[0m\u001b[1;33m\u001b[0m\u001b[1;33m\u001b[0m\u001b[0m\n\u001b[0m\u001b[0;32m      7\u001b[0m \u001b[0mpower_y\u001b[0m \u001b[1;33m=\u001b[0m \u001b[0mpopt\u001b[0m\u001b[1;33m[\u001b[0m\u001b[1;36m0\u001b[0m\u001b[1;33m]\u001b[0m\u001b[1;33m*\u001b[0m\u001b[0mdf8\u001b[0m\u001b[1;33m.\u001b[0m\u001b[0mPHIz\u001b[0m\u001b[1;33m**\u001b[0m\u001b[1;33m-\u001b[0m\u001b[0mpopt\u001b[0m\u001b[1;33m[\u001b[0m\u001b[1;36m1\u001b[0m\u001b[1;33m]\u001b[0m\u001b[1;33m\u001b[0m\u001b[1;33m\u001b[0m\u001b[0m\n\u001b[0;32m      8\u001b[0m \u001b[1;33m\u001b[0m\u001b[0m\n",
      "\u001b[1;32m~\\Anaconda3\\lib\\site-packages\\scipy\\optimize\\minpack.py\u001b[0m in \u001b[0;36mcurve_fit\u001b[1;34m(f, xdata, ydata, p0, sigma, absolute_sigma, check_finite, bounds, method, jac, **kwargs)\u001b[0m\n\u001b[0;32m    787\u001b[0m         \u001b[1;31m# Remove full_output from kwargs, otherwise we're passing it in twice.\u001b[0m\u001b[1;33m\u001b[0m\u001b[1;33m\u001b[0m\u001b[0m\n\u001b[0;32m    788\u001b[0m         \u001b[0mreturn_full\u001b[0m \u001b[1;33m=\u001b[0m \u001b[0mkwargs\u001b[0m\u001b[1;33m.\u001b[0m\u001b[0mpop\u001b[0m\u001b[1;33m(\u001b[0m\u001b[1;34m'full_output'\u001b[0m\u001b[1;33m,\u001b[0m \u001b[1;32mFalse\u001b[0m\u001b[1;33m)\u001b[0m\u001b[1;33m\u001b[0m\u001b[1;33m\u001b[0m\u001b[0m\n\u001b[1;32m--> 789\u001b[1;33m         \u001b[0mres\u001b[0m \u001b[1;33m=\u001b[0m \u001b[0mleastsq\u001b[0m\u001b[1;33m(\u001b[0m\u001b[0mfunc\u001b[0m\u001b[1;33m,\u001b[0m \u001b[0mp0\u001b[0m\u001b[1;33m,\u001b[0m \u001b[0mDfun\u001b[0m\u001b[1;33m=\u001b[0m\u001b[0mjac\u001b[0m\u001b[1;33m,\u001b[0m \u001b[0mfull_output\u001b[0m\u001b[1;33m=\u001b[0m\u001b[1;36m1\u001b[0m\u001b[1;33m,\u001b[0m \u001b[1;33m**\u001b[0m\u001b[0mkwargs\u001b[0m\u001b[1;33m)\u001b[0m\u001b[1;33m\u001b[0m\u001b[1;33m\u001b[0m\u001b[0m\n\u001b[0m\u001b[0;32m    790\u001b[0m         \u001b[0mpopt\u001b[0m\u001b[1;33m,\u001b[0m \u001b[0mpcov\u001b[0m\u001b[1;33m,\u001b[0m \u001b[0minfodict\u001b[0m\u001b[1;33m,\u001b[0m \u001b[0merrmsg\u001b[0m\u001b[1;33m,\u001b[0m \u001b[0mier\u001b[0m \u001b[1;33m=\u001b[0m \u001b[0mres\u001b[0m\u001b[1;33m\u001b[0m\u001b[1;33m\u001b[0m\u001b[0m\n\u001b[0;32m    791\u001b[0m         \u001b[0mysize\u001b[0m \u001b[1;33m=\u001b[0m \u001b[0mlen\u001b[0m\u001b[1;33m(\u001b[0m\u001b[0minfodict\u001b[0m\u001b[1;33m[\u001b[0m\u001b[1;34m'fvec'\u001b[0m\u001b[1;33m]\u001b[0m\u001b[1;33m)\u001b[0m\u001b[1;33m\u001b[0m\u001b[1;33m\u001b[0m\u001b[0m\n",
      "\u001b[1;32m~\\Anaconda3\\lib\\site-packages\\scipy\\optimize\\minpack.py\u001b[0m in \u001b[0;36mleastsq\u001b[1;34m(func, x0, args, Dfun, full_output, col_deriv, ftol, xtol, gtol, maxfev, epsfcn, factor, diag)\u001b[0m\n\u001b[0;32m    421\u001b[0m         \u001b[1;32mif\u001b[0m \u001b[0mmaxfev\u001b[0m \u001b[1;33m==\u001b[0m \u001b[1;36m0\u001b[0m\u001b[1;33m:\u001b[0m\u001b[1;33m\u001b[0m\u001b[1;33m\u001b[0m\u001b[0m\n\u001b[0;32m    422\u001b[0m             \u001b[0mmaxfev\u001b[0m \u001b[1;33m=\u001b[0m \u001b[1;36m200\u001b[0m\u001b[1;33m*\u001b[0m\u001b[1;33m(\u001b[0m\u001b[0mn\u001b[0m \u001b[1;33m+\u001b[0m \u001b[1;36m1\u001b[0m\u001b[1;33m)\u001b[0m\u001b[1;33m\u001b[0m\u001b[1;33m\u001b[0m\u001b[0m\n\u001b[1;32m--> 423\u001b[1;33m         retval = _minpack._lmdif(func, x0, args, full_output, ftol, xtol,\n\u001b[0m\u001b[0;32m    424\u001b[0m                                  gtol, maxfev, epsfcn, factor, diag)\n\u001b[0;32m    425\u001b[0m     \u001b[1;32melse\u001b[0m\u001b[1;33m:\u001b[0m\u001b[1;33m\u001b[0m\u001b[1;33m\u001b[0m\u001b[0m\n",
      "\u001b[1;31merror\u001b[0m: Result from function call is not a proper array of floats."
     ]
    }
   ],
   "source": [
    "from scipy.optimize import curve_fit\n",
    "\n",
    "x = df8[\"PHIz\"].values.reshape(-1, len(features))\n",
    "y = np.log(df8[\"RQI\"].values)\n",
    "\n",
    "popt, pcov = curve_fit(lambda fx,a,b: a*fx**-b,  x, y)\n",
    "power_y = popt[0]*df8.PHIz**-popt[1]\n",
    "\n",
    "plt.scatter(x, y, label='actual data')\n",
    "plt.plot(x, power_y, label='power-fit')\n",
    "plt.legend()\n",
    "plt.show()"
   ]
  },
  {
   "cell_type": "code",
   "execution_count": 89,
   "metadata": {},
   "outputs": [
    {
     "name": "stdout",
     "output_type": "stream",
     "text": [
      "(13, 1) (13, 1)\n"
     ]
    }
   ],
   "source": [
    "#preprocessing\n",
    "features = ['PHIz']\n",
    "target = ['RQI']\n",
    "\n",
    "X8 = df8[features].values.reshape(-1, len(features))\n",
    "y8 = np.log(df8[target].values)\n",
    "print(X8.shape, y8.shape)"
   ]
  },
  {
   "cell_type": "code",
   "execution_count": 62,
   "metadata": {},
   "outputs": [],
   "source": [
    "#Ordinary Least Squares\n",
    "from sklearn import linear_model\n",
    "ols8 = linear_model.LinearRegression()\n",
    "model8 = ols8.fit(X8, y8)"
   ]
  },
  {
   "cell_type": "code",
   "execution_count": 63,
   "metadata": {},
   "outputs": [
    {
     "name": "stdout",
     "output_type": "stream",
     "text": [
      "[14.88991966] -2.2087695906309937\n"
     ]
    }
   ],
   "source": [
    "#linear regression coefficient and the y-intercept \n",
    "print(model8.coef_, model8.intercept_)"
   ]
  },
  {
   "cell_type": "markdown",
   "metadata": {},
   "source": [
    "## The HFU 8 permeability  can be predicted from porosity, with the following linear model:\n",
    "The result of the regression is: $10^{(14.88991966  * CPOR -2.2087695906309937)}$"
   ]
  },
  {
   "cell_type": "code",
   "execution_count": 64,
   "metadata": {},
   "outputs": [
    {
     "data": {
      "text/plain": [
       "0.7992588804490549"
      ]
     },
     "execution_count": 64,
     "metadata": {},
     "output_type": "execute_result"
    }
   ],
   "source": [
    "#Accuracy assessment: R2\n",
    "model8.score(X8, y8)"
   ]
  },
  {
   "cell_type": "code",
   "execution_count": 65,
   "metadata": {},
   "outputs": [
    {
     "data": {
      "text/plain": [
       "array([-0.12418084,  0.47141595])"
      ]
     },
     "execution_count": 65,
     "metadata": {},
     "output_type": "execute_result"
    }
   ],
   "source": [
    "#assume CPOR = 14% and 18%\n",
    "x_pred8 = np.array([0.14, 0.18])\n",
    "x_pred8 = x_pred8.reshape(-1, len(features))  # preprocessing required by scikit-learn functions\n",
    "model8.predict(x_pred8)"
   ]
  },
  {
   "cell_type": "code",
   "execution_count": 66,
   "metadata": {},
   "outputs": [],
   "source": [
    "x_pred8 = np.linspace(0, 0.20, 200)            # 200 data points between 0 ~ 1\n",
    "x_pred8 = x_pred8.reshape(-1, len(features))  # preprocessing required by scikit-learn functions\n",
    "y_pred8 = model8.predict(x_pred8)"
   ]
  },
  {
   "cell_type": "code",
   "execution_count": 71,
   "metadata": {},
   "outputs": [
    {
     "data": {
      "image/png": "[encoded data removed]",
      "text/plain": [
       "<Figure size 800x500 with 1 Axes>"
      ]
     },
     "metadata": {},
     "output_type": "display_data"
    }
   ],
   "source": [
    "plt.style.use('default')\n",
    "plt.style.use('ggplot')\n",
    "\n",
    "fig, ax = plt.subplots(figsize=(8, 5))\n",
    "\n",
    "ax.plot(x_pred8, y_pred8, color='r', label='Regression model')\n",
    "ax.scatter(X8, y8, edgecolor='k', facecolor='blue', alpha=0.7, label='HFU8 actual data')\n",
    "ax.set_ylabel('Permeability (Md)', fontsize=10)\n",
    "ax.set_xlabel('Porosity (vol/vol)', fontsize=10)\n",
    "#ax.set(xscale=\"log\", yscale=\"log\")\n",
    "ax.axis([0.001, 0.20, 0, 2])\n",
    "ax.legend(facecolor='white', fontsize=11)\n",
    "ax.text(0.05, 0.72, '$y = %.2f CPOR - %.2f $' % (model8.coef_[0], abs(model8.intercept_)), fontsize=17, transform=ax.transAxes)\n",
    "\n",
    "fig.tight_layout()"
   ]
  },
  {
   "cell_type": "code",
   "execution_count": null,
   "metadata": {},
   "outputs": [],
   "source": [
    "df3 = df[df['HFU'] == 'HFU2'].dropna()\n",
    "df3.head(5)"
   ]
  },
  {
   "cell_type": "code",
   "execution_count": null,
   "metadata": {},
   "outputs": [],
   "source": [
    "# Code here please so that you don't lose the output\n",
    "f, ax = plt.subplots(figsize=(5, 3))\n",
    "\n",
    "sns.scatterplot(x=\"CPOR\", y=\"CPERM\", data=df3)\n",
    "ax.set(yscale=\"log\")\n",
    "ax.grid(True)\n",
    "ax.axis([0.001, 0.15, 0.005, 50])\n",
    "#ax.set_xticks([0.005,0.1,1])\n",
    "#ax.set_yticks([0.005,5,10])\n",
    "ax.set(xlabel=\"Core Porosity\", ylabel=\"Core Permeability\")"
   ]
  },
  {
   "cell_type": "code",
   "execution_count": null,
   "metadata": {},
   "outputs": [],
   "source": [
    "#preprocessing\n",
    "features = ['CPOR']\n",
    "target = 'CPERM'\n",
    "\n",
    "X = df3[features].values.reshape(-1, len(features))\n",
    "y = np.log(df3[target].values)\n",
    "print(X.shape, y.shape)"
   ]
  },
  {
   "cell_type": "code",
   "execution_count": null,
   "metadata": {},
   "outputs": [],
   "source": [
    "#Ordinary Least Squares\n",
    "from sklearn import linear_model\n",
    "ols = linear_model.LinearRegression()\n",
    "model = ols.fit(X, y)#linear regression coefficient and the y-intercept \n",
    "print(model.coef_, model.intercept_)"
   ]
  },
  {
   "cell_type": "markdown",
   "metadata": {},
   "source": [
    "## The HFU 2 permeability  can be predicted from porosity, with the following linear model:\n",
    "The result of the regression is: $10^{(44.87998396  * CPOR -4.690650768532301)}$"
   ]
  },
  {
   "cell_type": "code",
   "execution_count": null,
   "metadata": {},
   "outputs": [],
   "source": [
    "#Accuracy assessment: R2\n",
    "model.score(X, y)"
   ]
  },
  {
   "cell_type": "code",
   "execution_count": null,
   "metadata": {},
   "outputs": [],
   "source": [
    "x_pred = np.linspace(0, 0.15, 200)            # 200 data points between 0 ~ 40\n",
    "x_pred = x_pred.reshape(-1, len(features))  # preprocessing required by scikit-learn functions\n",
    "y_pred = model.predict(x_pred)"
   ]
  },
  {
   "cell_type": "code",
   "execution_count": null,
   "metadata": {},
   "outputs": [],
   "source": [
    "plt.style.use('default')\n",
    "plt.style.use('ggplot')\n",
    "\n",
    "fig, ax = plt.subplots(figsize=(8, 5))\n",
    "\n",
    "ax.plot(x_pred, y_pred, color='r', label='Regression model')\n",
    "ax.scatter(X, y, edgecolor='k', facecolor='blue', alpha=0.7, label='HFU2 actual data')\n",
    "ax.set_ylabel('Permeability (Md)', fontsize=10)\n",
    "ax.set_xlabel('Porosity (vol/vol)', fontsize=10)\n",
    "#ax.set(yscale=\"log\")\n",
    "ax.axis([0.0, 0.16, -5.75, 5])\n",
    "ax.legend(facecolor='white', fontsize=11)\n",
    "ax.text(0.05, 0.72, '$y = %.2f CPOR - %.2f $' % (model.coef_[0], abs(model.intercept_)), fontsize=17, transform=ax.transAxes)\n",
    "\n",
    "fig.tight_layout()"
   ]
  },
  {
   "cell_type": "code",
   "execution_count": null,
   "metadata": {},
   "outputs": [],
   "source": []
  },
  {
   "cell_type": "code",
   "execution_count": null,
   "metadata": {},
   "outputs": [],
   "source": []
  },
  {
   "cell_type": "code",
   "execution_count": null,
   "metadata": {},
   "outputs": [],
   "source": []
  },
  {
   "cell_type": "code",
   "execution_count": null,
   "metadata": {},
   "outputs": [],
   "source": []
  },
  {
   "cell_type": "code",
   "execution_count": null,
   "metadata": {},
   "outputs": [],
   "source": []
  },
  {
   "cell_type": "code",
   "execution_count": null,
   "metadata": {},
   "outputs": [],
   "source": []
  },
  {
   "cell_type": "code",
   "execution_count": null,
   "metadata": {},
   "outputs": [],
   "source": []
  },
  {
   "cell_type": "code",
   "execution_count": null,
   "metadata": {},
   "outputs": [],
   "source": []
  },
  {
   "cell_type": "code",
   "execution_count": null,
   "metadata": {},
   "outputs": [],
   "source": []
  },
  {
   "cell_type": "code",
   "execution_count": null,
   "metadata": {},
   "outputs": [],
   "source": []
  },
  {
   "cell_type": "code",
   "execution_count": null,
   "metadata": {},
   "outputs": [],
   "source": []
  }
 ],
 "metadata": {
  "kernelspec": {
   "display_name": "Python 3 (ipykernel)",
   "language": "python",
   "name": "python3"
  },
  "language_info": {
   "codemirror_mode": {
    "name": "ipython",
    "version": 3
   },
   "file_extension": ".py",
   "mimetype": "text/x-python",
   "name": "python",
   "nbconvert_exporter": "python",
   "pygments_lexer": "ipython3",
   "version": "3.9.7"
  }
 },
 "nbformat": 4,
 "nbformat_minor": 2
}
