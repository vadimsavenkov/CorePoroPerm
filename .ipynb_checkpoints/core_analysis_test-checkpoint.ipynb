{
 "cells": [
  {
   "cell_type": "markdown",
   "metadata": {},
   "source": [
    "# KMean Clustering Test\n",
    "\n"
   ]
  },
  {
   "cell_type": "markdown",
   "metadata": {
    "collapsed": true
   },
   "source": [
    "**The required libraries are imported as below.**"
   ]
  },
  {
   "cell_type": "code",
   "execution_count": 1,
   "metadata": {},
   "outputs": [],
   "source": [
    "import pandas as pd\n",
    "import numpy as np\n",
    "import matplotlib.pyplot as plt\n",
    "import seaborn as sns\n",
    "sns.set_style('whitegrid')\n",
    "%matplotlib inline"
   ]
  },
  {
   "cell_type": "code",
   "execution_count": 2,
   "metadata": {},
   "outputs": [
    {
     "data": {
      "text/html": [
       "<div>\n",
       "<style scoped>\n",
       "    .dataframe tbody tr th:only-of-type {\n",
       "        vertical-align: middle;\n",
       "    }\n",
       "\n",
       "    .dataframe tbody tr th {\n",
       "        vertical-align: top;\n",
       "    }\n",
       "\n",
       "    .dataframe thead th {\n",
       "        text-align: right;\n",
       "    }\n",
       "</style>\n",
       "<table border=\"1\" class=\"dataframe\">\n",
       "  <thead>\n",
       "    <tr style=\"text-align: right;\">\n",
       "      <th></th>\n",
       "      <th>DEPTH</th>\n",
       "      <th>CPERM</th>\n",
       "      <th>CPOR</th>\n",
       "      <th>RQI</th>\n",
       "      <th>PHIZ</th>\n",
       "      <th>FZI</th>\n",
       "      <th>Facies</th>\n",
       "      <th>PHIE</th>\n",
       "      <th>RESD</th>\n",
       "      <th>RESM</th>\n",
       "      <th>RESS</th>\n",
       "      <th>WELL</th>\n",
       "    </tr>\n",
       "  </thead>\n",
       "  <tbody>\n",
       "    <tr>\n",
       "      <th>222</th>\n",
       "      <td>3370.5</td>\n",
       "      <td>0.33</td>\n",
       "      <td>0.06</td>\n",
       "      <td>0.07</td>\n",
       "      <td>0.06</td>\n",
       "      <td>1.18</td>\n",
       "      <td>5</td>\n",
       "      <td>0.086</td>\n",
       "      <td>38.743</td>\n",
       "      <td>49.332</td>\n",
       "      <td>44.494</td>\n",
       "      <td>wb4</td>\n",
       "    </tr>\n",
       "    <tr>\n",
       "      <th>223</th>\n",
       "      <td>3371.0</td>\n",
       "      <td>NaN</td>\n",
       "      <td>NaN</td>\n",
       "      <td>NaN</td>\n",
       "      <td>NaN</td>\n",
       "      <td>NaN</td>\n",
       "      <td>5</td>\n",
       "      <td>0.082</td>\n",
       "      <td>39.356</td>\n",
       "      <td>42.385</td>\n",
       "      <td>41.221</td>\n",
       "      <td>wb4</td>\n",
       "    </tr>\n",
       "    <tr>\n",
       "      <th>224</th>\n",
       "      <td>3371.5</td>\n",
       "      <td>0.23</td>\n",
       "      <td>0.07</td>\n",
       "      <td>0.06</td>\n",
       "      <td>0.07</td>\n",
       "      <td>0.77</td>\n",
       "      <td>5</td>\n",
       "      <td>0.076</td>\n",
       "      <td>37.165</td>\n",
       "      <td>41.596</td>\n",
       "      <td>40.092</td>\n",
       "      <td>wb4</td>\n",
       "    </tr>\n",
       "    <tr>\n",
       "      <th>225</th>\n",
       "      <td>3372.0</td>\n",
       "      <td>NaN</td>\n",
       "      <td>NaN</td>\n",
       "      <td>NaN</td>\n",
       "      <td>NaN</td>\n",
       "      <td>NaN</td>\n",
       "      <td>5</td>\n",
       "      <td>0.071</td>\n",
       "      <td>34.797</td>\n",
       "      <td>46.442</td>\n",
       "      <td>39.723</td>\n",
       "      <td>wb4</td>\n",
       "    </tr>\n",
       "    <tr>\n",
       "      <th>226</th>\n",
       "      <td>3372.5</td>\n",
       "      <td>1.21</td>\n",
       "      <td>0.10</td>\n",
       "      <td>0.11</td>\n",
       "      <td>0.11</td>\n",
       "      <td>1.05</td>\n",
       "      <td>5</td>\n",
       "      <td>0.073</td>\n",
       "      <td>33.061</td>\n",
       "      <td>41.991</td>\n",
       "      <td>41.209</td>\n",
       "      <td>wb4</td>\n",
       "    </tr>\n",
       "    <tr>\n",
       "      <th>227</th>\n",
       "      <td>3373.0</td>\n",
       "      <td>NaN</td>\n",
       "      <td>NaN</td>\n",
       "      <td>NaN</td>\n",
       "      <td>NaN</td>\n",
       "      <td>NaN</td>\n",
       "      <td>5</td>\n",
       "      <td>0.090</td>\n",
       "      <td>31.268</td>\n",
       "      <td>39.728</td>\n",
       "      <td>36.911</td>\n",
       "      <td>wb4</td>\n",
       "    </tr>\n",
       "    <tr>\n",
       "      <th>228</th>\n",
       "      <td>3373.5</td>\n",
       "      <td>0.88</td>\n",
       "      <td>0.10</td>\n",
       "      <td>0.09</td>\n",
       "      <td>0.11</td>\n",
       "      <td>0.81</td>\n",
       "      <td>5</td>\n",
       "      <td>0.098</td>\n",
       "      <td>31.263</td>\n",
       "      <td>37.248</td>\n",
       "      <td>33.661</td>\n",
       "      <td>wb4</td>\n",
       "    </tr>\n",
       "    <tr>\n",
       "      <th>229</th>\n",
       "      <td>3374.0</td>\n",
       "      <td>NaN</td>\n",
       "      <td>NaN</td>\n",
       "      <td>NaN</td>\n",
       "      <td>NaN</td>\n",
       "      <td>NaN</td>\n",
       "      <td>5</td>\n",
       "      <td>0.101</td>\n",
       "      <td>31.547</td>\n",
       "      <td>36.230</td>\n",
       "      <td>27.246</td>\n",
       "      <td>wb4</td>\n",
       "    </tr>\n",
       "    <tr>\n",
       "      <th>230</th>\n",
       "      <td>3374.5</td>\n",
       "      <td>0.89</td>\n",
       "      <td>0.10</td>\n",
       "      <td>0.09</td>\n",
       "      <td>0.11</td>\n",
       "      <td>0.82</td>\n",
       "      <td>5</td>\n",
       "      <td>0.104</td>\n",
       "      <td>32.141</td>\n",
       "      <td>35.568</td>\n",
       "      <td>30.403</td>\n",
       "      <td>wb4</td>\n",
       "    </tr>\n",
       "    <tr>\n",
       "      <th>231</th>\n",
       "      <td>3375.0</td>\n",
       "      <td>NaN</td>\n",
       "      <td>NaN</td>\n",
       "      <td>NaN</td>\n",
       "      <td>NaN</td>\n",
       "      <td>NaN</td>\n",
       "      <td>6</td>\n",
       "      <td>0.106</td>\n",
       "      <td>32.735</td>\n",
       "      <td>36.897</td>\n",
       "      <td>29.857</td>\n",
       "      <td>wb4</td>\n",
       "    </tr>\n",
       "    <tr>\n",
       "      <th>232</th>\n",
       "      <td>3375.5</td>\n",
       "      <td>NaN</td>\n",
       "      <td>NaN</td>\n",
       "      <td>NaN</td>\n",
       "      <td>NaN</td>\n",
       "      <td>NaN</td>\n",
       "      <td>5</td>\n",
       "      <td>0.097</td>\n",
       "      <td>33.962</td>\n",
       "      <td>37.241</td>\n",
       "      <td>33.031</td>\n",
       "      <td>wb4</td>\n",
       "    </tr>\n",
       "    <tr>\n",
       "      <th>233</th>\n",
       "      <td>3376.0</td>\n",
       "      <td>NaN</td>\n",
       "      <td>NaN</td>\n",
       "      <td>NaN</td>\n",
       "      <td>NaN</td>\n",
       "      <td>NaN</td>\n",
       "      <td>5</td>\n",
       "      <td>0.103</td>\n",
       "      <td>35.237</td>\n",
       "      <td>38.635</td>\n",
       "      <td>27.749</td>\n",
       "      <td>wb4</td>\n",
       "    </tr>\n",
       "    <tr>\n",
       "      <th>234</th>\n",
       "      <td>3376.5</td>\n",
       "      <td>NaN</td>\n",
       "      <td>NaN</td>\n",
       "      <td>NaN</td>\n",
       "      <td>NaN</td>\n",
       "      <td>NaN</td>\n",
       "      <td>5</td>\n",
       "      <td>0.108</td>\n",
       "      <td>35.240</td>\n",
       "      <td>41.736</td>\n",
       "      <td>28.510</td>\n",
       "      <td>wb4</td>\n",
       "    </tr>\n",
       "    <tr>\n",
       "      <th>235</th>\n",
       "      <td>3377.0</td>\n",
       "      <td>NaN</td>\n",
       "      <td>NaN</td>\n",
       "      <td>NaN</td>\n",
       "      <td>NaN</td>\n",
       "      <td>NaN</td>\n",
       "      <td>5</td>\n",
       "      <td>0.110</td>\n",
       "      <td>35.565</td>\n",
       "      <td>46.443</td>\n",
       "      <td>43.670</td>\n",
       "      <td>wb4</td>\n",
       "    </tr>\n",
       "    <tr>\n",
       "      <th>236</th>\n",
       "      <td>3377.5</td>\n",
       "      <td>NaN</td>\n",
       "      <td>NaN</td>\n",
       "      <td>NaN</td>\n",
       "      <td>NaN</td>\n",
       "      <td>NaN</td>\n",
       "      <td>5</td>\n",
       "      <td>0.110</td>\n",
       "      <td>35.566</td>\n",
       "      <td>47.753</td>\n",
       "      <td>63.485</td>\n",
       "      <td>wb4</td>\n",
       "    </tr>\n",
       "    <tr>\n",
       "      <th>237</th>\n",
       "      <td>3378.0</td>\n",
       "      <td>NaN</td>\n",
       "      <td>NaN</td>\n",
       "      <td>NaN</td>\n",
       "      <td>NaN</td>\n",
       "      <td>NaN</td>\n",
       "      <td>5</td>\n",
       "      <td>0.109</td>\n",
       "      <td>35.566</td>\n",
       "      <td>44.373</td>\n",
       "      <td>79.215</td>\n",
       "      <td>wb4</td>\n",
       "    </tr>\n",
       "    <tr>\n",
       "      <th>238</th>\n",
       "      <td>3378.5</td>\n",
       "      <td>NaN</td>\n",
       "      <td>NaN</td>\n",
       "      <td>NaN</td>\n",
       "      <td>NaN</td>\n",
       "      <td>NaN</td>\n",
       "      <td>4</td>\n",
       "      <td>0.105</td>\n",
       "      <td>35.566</td>\n",
       "      <td>35.816</td>\n",
       "      <td>36.815</td>\n",
       "      <td>wb4</td>\n",
       "    </tr>\n",
       "    <tr>\n",
       "      <th>239</th>\n",
       "      <td>3379.0</td>\n",
       "      <td>NaN</td>\n",
       "      <td>NaN</td>\n",
       "      <td>NaN</td>\n",
       "      <td>NaN</td>\n",
       "      <td>NaN</td>\n",
       "      <td>4</td>\n",
       "      <td>0.101</td>\n",
       "      <td>34.813</td>\n",
       "      <td>34.918</td>\n",
       "      <td>26.514</td>\n",
       "      <td>wb4</td>\n",
       "    </tr>\n",
       "    <tr>\n",
       "      <th>240</th>\n",
       "      <td>3379.5</td>\n",
       "      <td>NaN</td>\n",
       "      <td>NaN</td>\n",
       "      <td>NaN</td>\n",
       "      <td>NaN</td>\n",
       "      <td>NaN</td>\n",
       "      <td>4</td>\n",
       "      <td>0.092</td>\n",
       "      <td>32.915</td>\n",
       "      <td>38.276</td>\n",
       "      <td>49.078</td>\n",
       "      <td>wb4</td>\n",
       "    </tr>\n",
       "    <tr>\n",
       "      <th>241</th>\n",
       "      <td>3380.0</td>\n",
       "      <td>NaN</td>\n",
       "      <td>NaN</td>\n",
       "      <td>NaN</td>\n",
       "      <td>NaN</td>\n",
       "      <td>NaN</td>\n",
       "      <td>4</td>\n",
       "      <td>0.083</td>\n",
       "      <td>31.013</td>\n",
       "      <td>41.206</td>\n",
       "      <td>59.543</td>\n",
       "      <td>wb4</td>\n",
       "    </tr>\n",
       "  </tbody>\n",
       "</table>\n",
       "</div>"
      ],
      "text/plain": [
       "      DEPTH  CPERM  CPOR   RQI  PHIZ   FZI  Facies   PHIE    RESD    RESM  \\\n",
       "222  3370.5   0.33  0.06  0.07  0.06  1.18       5  0.086  38.743  49.332   \n",
       "223  3371.0    NaN   NaN   NaN   NaN   NaN       5  0.082  39.356  42.385   \n",
       "224  3371.5   0.23  0.07  0.06  0.07  0.77       5  0.076  37.165  41.596   \n",
       "225  3372.0    NaN   NaN   NaN   NaN   NaN       5  0.071  34.797  46.442   \n",
       "226  3372.5   1.21  0.10  0.11  0.11  1.05       5  0.073  33.061  41.991   \n",
       "227  3373.0    NaN   NaN   NaN   NaN   NaN       5  0.090  31.268  39.728   \n",
       "228  3373.5   0.88  0.10  0.09  0.11  0.81       5  0.098  31.263  37.248   \n",
       "229  3374.0    NaN   NaN   NaN   NaN   NaN       5  0.101  31.547  36.230   \n",
       "230  3374.5   0.89  0.10  0.09  0.11  0.82       5  0.104  32.141  35.568   \n",
       "231  3375.0    NaN   NaN   NaN   NaN   NaN       6  0.106  32.735  36.897   \n",
       "232  3375.5    NaN   NaN   NaN   NaN   NaN       5  0.097  33.962  37.241   \n",
       "233  3376.0    NaN   NaN   NaN   NaN   NaN       5  0.103  35.237  38.635   \n",
       "234  3376.5    NaN   NaN   NaN   NaN   NaN       5  0.108  35.240  41.736   \n",
       "235  3377.0    NaN   NaN   NaN   NaN   NaN       5  0.110  35.565  46.443   \n",
       "236  3377.5    NaN   NaN   NaN   NaN   NaN       5  0.110  35.566  47.753   \n",
       "237  3378.0    NaN   NaN   NaN   NaN   NaN       5  0.109  35.566  44.373   \n",
       "238  3378.5    NaN   NaN   NaN   NaN   NaN       4  0.105  35.566  35.816   \n",
       "239  3379.0    NaN   NaN   NaN   NaN   NaN       4  0.101  34.813  34.918   \n",
       "240  3379.5    NaN   NaN   NaN   NaN   NaN       4  0.092  32.915  38.276   \n",
       "241  3380.0    NaN   NaN   NaN   NaN   NaN       4  0.083  31.013  41.206   \n",
       "\n",
       "       RESS WELL  \n",
       "222  44.494  wb4  \n",
       "223  41.221  wb4  \n",
       "224  40.092  wb4  \n",
       "225  39.723  wb4  \n",
       "226  41.209  wb4  \n",
       "227  36.911  wb4  \n",
       "228  33.661  wb4  \n",
       "229  27.246  wb4  \n",
       "230  30.403  wb4  \n",
       "231  29.857  wb4  \n",
       "232  33.031  wb4  \n",
       "233  27.749  wb4  \n",
       "234  28.510  wb4  \n",
       "235  43.670  wb4  \n",
       "236  63.485  wb4  \n",
       "237  79.215  wb4  \n",
       "238  36.815  wb4  \n",
       "239  26.514  wb4  \n",
       "240  49.078  wb4  \n",
       "241  59.543  wb4  "
      ]
     },
     "execution_count": 2,
     "metadata": {},
     "output_type": "execute_result"
    }
   ],
   "source": [
    "df = pd.read_csv('Well_Core.csv')\n",
    "df.tail(20)"
   ]
  },
  {
   "cell_type": "code",
   "execution_count": 3,
   "metadata": {},
   "outputs": [
    {
     "data": {
      "text/html": [
       "<div>\n",
       "<style scoped>\n",
       "    .dataframe tbody tr th:only-of-type {\n",
       "        vertical-align: middle;\n",
       "    }\n",
       "\n",
       "    .dataframe tbody tr th {\n",
       "        vertical-align: top;\n",
       "    }\n",
       "\n",
       "    .dataframe thead th {\n",
       "        text-align: right;\n",
       "    }\n",
       "</style>\n",
       "<table border=\"1\" class=\"dataframe\">\n",
       "  <thead>\n",
       "    <tr style=\"text-align: right;\">\n",
       "      <th></th>\n",
       "      <th>DEPTH</th>\n",
       "      <th>CPERM</th>\n",
       "      <th>CPOR</th>\n",
       "      <th>RQI</th>\n",
       "      <th>PHIZ</th>\n",
       "      <th>FZI</th>\n",
       "      <th>Facies</th>\n",
       "      <th>PHIE</th>\n",
       "      <th>RESD</th>\n",
       "      <th>RESM</th>\n",
       "      <th>RESS</th>\n",
       "      <th>WELL</th>\n",
       "      <th>HFU</th>\n",
       "    </tr>\n",
       "  </thead>\n",
       "  <tbody>\n",
       "    <tr>\n",
       "      <th>0</th>\n",
       "      <td>3350.0</td>\n",
       "      <td>NaN</td>\n",
       "      <td>NaN</td>\n",
       "      <td>NaN</td>\n",
       "      <td>NaN</td>\n",
       "      <td>NaN</td>\n",
       "      <td>4</td>\n",
       "      <td>0.101</td>\n",
       "      <td>36.363</td>\n",
       "      <td>41.052</td>\n",
       "      <td>42.565</td>\n",
       "      <td>wb7</td>\n",
       "      <td>HFU3</td>\n",
       "    </tr>\n",
       "    <tr>\n",
       "      <th>1</th>\n",
       "      <td>3350.5</td>\n",
       "      <td>NaN</td>\n",
       "      <td>NaN</td>\n",
       "      <td>NaN</td>\n",
       "      <td>NaN</td>\n",
       "      <td>NaN</td>\n",
       "      <td>4</td>\n",
       "      <td>0.092</td>\n",
       "      <td>48.194</td>\n",
       "      <td>55.163</td>\n",
       "      <td>44.204</td>\n",
       "      <td>wb7</td>\n",
       "      <td>HFU3</td>\n",
       "    </tr>\n",
       "    <tr>\n",
       "      <th>2</th>\n",
       "      <td>3351.0</td>\n",
       "      <td>NaN</td>\n",
       "      <td>NaN</td>\n",
       "      <td>NaN</td>\n",
       "      <td>NaN</td>\n",
       "      <td>NaN</td>\n",
       "      <td>5</td>\n",
       "      <td>0.078</td>\n",
       "      <td>59.288</td>\n",
       "      <td>70.791</td>\n",
       "      <td>22.611</td>\n",
       "      <td>wb7</td>\n",
       "      <td>HFU3</td>\n",
       "    </tr>\n",
       "    <tr>\n",
       "      <th>3</th>\n",
       "      <td>3351.5</td>\n",
       "      <td>NaN</td>\n",
       "      <td>NaN</td>\n",
       "      <td>NaN</td>\n",
       "      <td>NaN</td>\n",
       "      <td>NaN</td>\n",
       "      <td>6</td>\n",
       "      <td>0.096</td>\n",
       "      <td>60.937</td>\n",
       "      <td>76.096</td>\n",
       "      <td>8.946</td>\n",
       "      <td>wb7</td>\n",
       "      <td>HFU3</td>\n",
       "    </tr>\n",
       "    <tr>\n",
       "      <th>4</th>\n",
       "      <td>3352.0</td>\n",
       "      <td>NaN</td>\n",
       "      <td>NaN</td>\n",
       "      <td>NaN</td>\n",
       "      <td>NaN</td>\n",
       "      <td>NaN</td>\n",
       "      <td>7</td>\n",
       "      <td>0.111</td>\n",
       "      <td>53.268</td>\n",
       "      <td>68.207</td>\n",
       "      <td>8.143</td>\n",
       "      <td>wb7</td>\n",
       "      <td>HFU3</td>\n",
       "    </tr>\n",
       "    <tr>\n",
       "      <th>...</th>\n",
       "      <td>...</td>\n",
       "      <td>...</td>\n",
       "      <td>...</td>\n",
       "      <td>...</td>\n",
       "      <td>...</td>\n",
       "      <td>...</td>\n",
       "      <td>...</td>\n",
       "      <td>...</td>\n",
       "      <td>...</td>\n",
       "      <td>...</td>\n",
       "      <td>...</td>\n",
       "      <td>...</td>\n",
       "      <td>...</td>\n",
       "    </tr>\n",
       "    <tr>\n",
       "      <th>237</th>\n",
       "      <td>3378.0</td>\n",
       "      <td>NaN</td>\n",
       "      <td>NaN</td>\n",
       "      <td>NaN</td>\n",
       "      <td>NaN</td>\n",
       "      <td>NaN</td>\n",
       "      <td>5</td>\n",
       "      <td>0.109</td>\n",
       "      <td>35.566</td>\n",
       "      <td>44.373</td>\n",
       "      <td>79.215</td>\n",
       "      <td>wb4</td>\n",
       "      <td>HFU3</td>\n",
       "    </tr>\n",
       "    <tr>\n",
       "      <th>238</th>\n",
       "      <td>3378.5</td>\n",
       "      <td>NaN</td>\n",
       "      <td>NaN</td>\n",
       "      <td>NaN</td>\n",
       "      <td>NaN</td>\n",
       "      <td>NaN</td>\n",
       "      <td>4</td>\n",
       "      <td>0.105</td>\n",
       "      <td>35.566</td>\n",
       "      <td>35.816</td>\n",
       "      <td>36.815</td>\n",
       "      <td>wb4</td>\n",
       "      <td>HFU3</td>\n",
       "    </tr>\n",
       "    <tr>\n",
       "      <th>239</th>\n",
       "      <td>3379.0</td>\n",
       "      <td>NaN</td>\n",
       "      <td>NaN</td>\n",
       "      <td>NaN</td>\n",
       "      <td>NaN</td>\n",
       "      <td>NaN</td>\n",
       "      <td>4</td>\n",
       "      <td>0.101</td>\n",
       "      <td>34.813</td>\n",
       "      <td>34.918</td>\n",
       "      <td>26.514</td>\n",
       "      <td>wb4</td>\n",
       "      <td>HFU3</td>\n",
       "    </tr>\n",
       "    <tr>\n",
       "      <th>240</th>\n",
       "      <td>3379.5</td>\n",
       "      <td>NaN</td>\n",
       "      <td>NaN</td>\n",
       "      <td>NaN</td>\n",
       "      <td>NaN</td>\n",
       "      <td>NaN</td>\n",
       "      <td>4</td>\n",
       "      <td>0.092</td>\n",
       "      <td>32.915</td>\n",
       "      <td>38.276</td>\n",
       "      <td>49.078</td>\n",
       "      <td>wb4</td>\n",
       "      <td>HFU3</td>\n",
       "    </tr>\n",
       "    <tr>\n",
       "      <th>241</th>\n",
       "      <td>3380.0</td>\n",
       "      <td>NaN</td>\n",
       "      <td>NaN</td>\n",
       "      <td>NaN</td>\n",
       "      <td>NaN</td>\n",
       "      <td>NaN</td>\n",
       "      <td>4</td>\n",
       "      <td>0.083</td>\n",
       "      <td>31.013</td>\n",
       "      <td>41.206</td>\n",
       "      <td>59.543</td>\n",
       "      <td>wb4</td>\n",
       "      <td>HFU3</td>\n",
       "    </tr>\n",
       "  </tbody>\n",
       "</table>\n",
       "<p>242 rows × 13 columns</p>\n",
       "</div>"
      ],
      "text/plain": [
       "      DEPTH  CPERM  CPOR  RQI  PHIZ  FZI  Facies   PHIE    RESD    RESM  \\\n",
       "0    3350.0    NaN   NaN  NaN   NaN  NaN       4  0.101  36.363  41.052   \n",
       "1    3350.5    NaN   NaN  NaN   NaN  NaN       4  0.092  48.194  55.163   \n",
       "2    3351.0    NaN   NaN  NaN   NaN  NaN       5  0.078  59.288  70.791   \n",
       "3    3351.5    NaN   NaN  NaN   NaN  NaN       6  0.096  60.937  76.096   \n",
       "4    3352.0    NaN   NaN  NaN   NaN  NaN       7  0.111  53.268  68.207   \n",
       "..      ...    ...   ...  ...   ...  ...     ...    ...     ...     ...   \n",
       "237  3378.0    NaN   NaN  NaN   NaN  NaN       5  0.109  35.566  44.373   \n",
       "238  3378.5    NaN   NaN  NaN   NaN  NaN       4  0.105  35.566  35.816   \n",
       "239  3379.0    NaN   NaN  NaN   NaN  NaN       4  0.101  34.813  34.918   \n",
       "240  3379.5    NaN   NaN  NaN   NaN  NaN       4  0.092  32.915  38.276   \n",
       "241  3380.0    NaN   NaN  NaN   NaN  NaN       4  0.083  31.013  41.206   \n",
       "\n",
       "       RESS WELL   HFU  \n",
       "0    42.565  wb7  HFU3  \n",
       "1    44.204  wb7  HFU3  \n",
       "2    22.611  wb7  HFU3  \n",
       "3     8.946  wb7  HFU3  \n",
       "4     8.143  wb7  HFU3  \n",
       "..      ...  ...   ...  \n",
       "237  79.215  wb4  HFU3  \n",
       "238  36.815  wb4  HFU3  \n",
       "239  26.514  wb4  HFU3  \n",
       "240  49.078  wb4  HFU3  \n",
       "241  59.543  wb4  HFU3  \n",
       "\n",
       "[242 rows x 13 columns]"
      ]
     },
     "execution_count": 3,
     "metadata": {},
     "output_type": "execute_result"
    }
   ],
   "source": [
    "\n",
    "def myfunc(value):\n",
    "   \n",
    "    if value['FZI'] < 0.45:\n",
    "        return 'HFU1'\n",
    "    elif value['FZI'] >= 0.45 and value['FZI'] < 2.0:\n",
    "        return 'HFU2'\n",
    "    else:\n",
    "        return 'HFU3'\n",
    "\n",
    "df['HFU'] = df.apply(lambda x : myfunc(x), axis=1)\n",
    "df"
   ]
  },
  {
   "cell_type": "markdown",
   "metadata": {},
   "source": [
    "**How many entries we have in the dataset?**"
   ]
  },
  {
   "cell_type": "code",
   "execution_count": 4,
   "metadata": {},
   "outputs": [
    {
     "name": "stdout",
     "output_type": "stream",
     "text": [
      "<class 'pandas.core.frame.DataFrame'>\n",
      "RangeIndex: 242 entries, 0 to 241\n",
      "Data columns (total 13 columns):\n",
      " #   Column  Non-Null Count  Dtype  \n",
      "---  ------  --------------  -----  \n",
      " 0   DEPTH   242 non-null    float64\n",
      " 1   CPERM   78 non-null     float64\n",
      " 2   CPOR    78 non-null     float64\n",
      " 3   RQI     78 non-null     float64\n",
      " 4   PHIZ    78 non-null     float64\n",
      " 5   FZI     78 non-null     float64\n",
      " 6   Facies  242 non-null    int64  \n",
      " 7   PHIE    242 non-null    float64\n",
      " 8   RESD    242 non-null    float64\n",
      " 9   RESM    242 non-null    float64\n",
      " 10  RESS    242 non-null    float64\n",
      " 11  WELL    242 non-null    object \n",
      " 12  HFU     242 non-null    object \n",
      "dtypes: float64(10), int64(1), object(2)\n",
      "memory usage: 24.7+ KB\n"
     ]
    }
   ],
   "source": [
    "df.info()"
   ]
  },
  {
   "cell_type": "markdown",
   "metadata": {},
   "source": [
    "**Display the basic statistics, mean, std, max etc....**"
   ]
  },
  {
   "cell_type": "code",
   "execution_count": 5,
   "metadata": {},
   "outputs": [],
   "source": [
    "# Code here please so that you don't lose the output"
   ]
  },
  {
   "cell_type": "code",
   "execution_count": 6,
   "metadata": {},
   "outputs": [
    {
     "data": {
      "text/html": [
       "<div>\n",
       "<style scoped>\n",
       "    .dataframe tbody tr th:only-of-type {\n",
       "        vertical-align: middle;\n",
       "    }\n",
       "\n",
       "    .dataframe tbody tr th {\n",
       "        vertical-align: top;\n",
       "    }\n",
       "\n",
       "    .dataframe thead th {\n",
       "        text-align: right;\n",
       "    }\n",
       "</style>\n",
       "<table border=\"1\" class=\"dataframe\">\n",
       "  <thead>\n",
       "    <tr style=\"text-align: right;\">\n",
       "      <th></th>\n",
       "      <th>DEPTH</th>\n",
       "      <th>CPERM</th>\n",
       "      <th>CPOR</th>\n",
       "      <th>RQI</th>\n",
       "      <th>PHIZ</th>\n",
       "      <th>FZI</th>\n",
       "      <th>Facies</th>\n",
       "      <th>PHIE</th>\n",
       "      <th>RESD</th>\n",
       "      <th>RESM</th>\n",
       "      <th>RESS</th>\n",
       "    </tr>\n",
       "  </thead>\n",
       "  <tbody>\n",
       "    <tr>\n",
       "      <th>count</th>\n",
       "      <td>78.00000</td>\n",
       "      <td>78.000000</td>\n",
       "      <td>78.000000</td>\n",
       "      <td>78.000000</td>\n",
       "      <td>78.000000</td>\n",
       "      <td>78.000000</td>\n",
       "      <td>78.000000</td>\n",
       "      <td>78.000000</td>\n",
       "      <td>78.000000</td>\n",
       "      <td>78.000000</td>\n",
       "      <td>78.000000</td>\n",
       "    </tr>\n",
       "    <tr>\n",
       "      <th>mean</th>\n",
       "      <td>3397.25000</td>\n",
       "      <td>11.422692</td>\n",
       "      <td>0.094872</td>\n",
       "      <td>0.117564</td>\n",
       "      <td>0.105256</td>\n",
       "      <td>0.899359</td>\n",
       "      <td>3.935897</td>\n",
       "      <td>0.085577</td>\n",
       "      <td>38.562654</td>\n",
       "      <td>39.202256</td>\n",
       "      <td>25.700038</td>\n",
       "    </tr>\n",
       "    <tr>\n",
       "      <th>std</th>\n",
       "      <td>25.63084</td>\n",
       "      <td>47.369581</td>\n",
       "      <td>0.028272</td>\n",
       "      <td>0.250813</td>\n",
       "      <td>0.034631</td>\n",
       "      <td>1.457925</td>\n",
       "      <td>1.506176</td>\n",
       "      <td>0.032211</td>\n",
       "      <td>9.694663</td>\n",
       "      <td>9.161700</td>\n",
       "      <td>11.024372</td>\n",
       "    </tr>\n",
       "    <tr>\n",
       "      <th>min</th>\n",
       "      <td>3357.00000</td>\n",
       "      <td>0.000000</td>\n",
       "      <td>0.030000</td>\n",
       "      <td>0.010000</td>\n",
       "      <td>0.030000</td>\n",
       "      <td>0.110000</td>\n",
       "      <td>0.000000</td>\n",
       "      <td>0.000000</td>\n",
       "      <td>19.227000</td>\n",
       "      <td>23.495000</td>\n",
       "      <td>3.990000</td>\n",
       "    </tr>\n",
       "    <tr>\n",
       "      <th>25%</th>\n",
       "      <td>3373.75000</td>\n",
       "      <td>0.020000</td>\n",
       "      <td>0.080000</td>\n",
       "      <td>0.020000</td>\n",
       "      <td>0.080000</td>\n",
       "      <td>0.225000</td>\n",
       "      <td>3.000000</td>\n",
       "      <td>0.054750</td>\n",
       "      <td>33.046750</td>\n",
       "      <td>34.308750</td>\n",
       "      <td>19.460750</td>\n",
       "    </tr>\n",
       "    <tr>\n",
       "      <th>50%</th>\n",
       "      <td>3395.00000</td>\n",
       "      <td>0.195000</td>\n",
       "      <td>0.095000</td>\n",
       "      <td>0.040000</td>\n",
       "      <td>0.105000</td>\n",
       "      <td>0.370000</td>\n",
       "      <td>4.000000</td>\n",
       "      <td>0.091500</td>\n",
       "      <td>37.844500</td>\n",
       "      <td>37.164500</td>\n",
       "      <td>24.639500</td>\n",
       "    </tr>\n",
       "    <tr>\n",
       "      <th>75%</th>\n",
       "      <td>3420.00000</td>\n",
       "      <td>0.672500</td>\n",
       "      <td>0.110000</td>\n",
       "      <td>0.080000</td>\n",
       "      <td>0.127500</td>\n",
       "      <td>0.802500</td>\n",
       "      <td>5.000000</td>\n",
       "      <td>0.105750</td>\n",
       "      <td>43.846750</td>\n",
       "      <td>41.986000</td>\n",
       "      <td>30.261500</td>\n",
       "    </tr>\n",
       "    <tr>\n",
       "      <th>max</th>\n",
       "      <td>3444.00000</td>\n",
       "      <td>286.910000</td>\n",
       "      <td>0.170000</td>\n",
       "      <td>1.290000</td>\n",
       "      <td>0.200000</td>\n",
       "      <td>6.810000</td>\n",
       "      <td>8.000000</td>\n",
       "      <td>0.168000</td>\n",
       "      <td>70.086000</td>\n",
       "      <td>79.595000</td>\n",
       "      <td>59.053000</td>\n",
       "    </tr>\n",
       "  </tbody>\n",
       "</table>\n",
       "</div>"
      ],
      "text/plain": [
       "            DEPTH       CPERM       CPOR        RQI       PHIZ        FZI  \\\n",
       "count    78.00000   78.000000  78.000000  78.000000  78.000000  78.000000   \n",
       "mean   3397.25000   11.422692   0.094872   0.117564   0.105256   0.899359   \n",
       "std      25.63084   47.369581   0.028272   0.250813   0.034631   1.457925   \n",
       "min    3357.00000    0.000000   0.030000   0.010000   0.030000   0.110000   \n",
       "25%    3373.75000    0.020000   0.080000   0.020000   0.080000   0.225000   \n",
       "50%    3395.00000    0.195000   0.095000   0.040000   0.105000   0.370000   \n",
       "75%    3420.00000    0.672500   0.110000   0.080000   0.127500   0.802500   \n",
       "max    3444.00000  286.910000   0.170000   1.290000   0.200000   6.810000   \n",
       "\n",
       "          Facies       PHIE       RESD       RESM       RESS  \n",
       "count  78.000000  78.000000  78.000000  78.000000  78.000000  \n",
       "mean    3.935897   0.085577  38.562654  39.202256  25.700038  \n",
       "std     1.506176   0.032211   9.694663   9.161700  11.024372  \n",
       "min     0.000000   0.000000  19.227000  23.495000   3.990000  \n",
       "25%     3.000000   0.054750  33.046750  34.308750  19.460750  \n",
       "50%     4.000000   0.091500  37.844500  37.164500  24.639500  \n",
       "75%     5.000000   0.105750  43.846750  41.986000  30.261500  \n",
       "max     8.000000   0.168000  70.086000  79.595000  59.053000  "
      ]
     },
     "execution_count": 6,
     "metadata": {},
     "output_type": "execute_result"
    }
   ],
   "source": [
    "df.dropna().describe()"
   ]
  },
  {
   "cell_type": "markdown",
   "metadata": {
    "scrolled": false
   },
   "source": [
    "## Exploratory Data Analysis\n",
    "\n",
    "Let's do some EDA here, always good to know your data!\n",
    "\n",
    "**How the area 'A' is related to the compactness 'C', create a scatter plot please. Luckily, we have the target values, pass it as hue argument!** Any comments on clusters!"
   ]
  },
  {
   "cell_type": "code",
   "execution_count": 7,
   "metadata": {},
   "outputs": [],
   "source": [
    "# Code here please so that you don't lose the output"
   ]
  },
  {
   "cell_type": "code",
   "execution_count": 8,
   "metadata": {},
   "outputs": [
    {
     "data": {
      "text/plain": [
       "<seaborn.axisgrid.FacetGrid at 0x29eb690fca0>"
      ]
     },
     "execution_count": 8,
     "metadata": {},
     "output_type": "execute_result"
    },
    {
     "data": {
      "image/png": "[encoded data removed]",
      "text/plain": [
       "<Figure size 782x360 with 1 Axes>"
      ]
     },
     "metadata": {
      "needs_background": "light"
     },
     "output_type": "display_data"
    }
   ],
   "source": [
    "sns.lmplot(x='PHIZ', y='RQI',data=df, hue = 'HFU',\n",
    "           palette='Set1', height=5, aspect=2, fit_reg=False)"
   ]
  },
  {
   "cell_type": "code",
   "execution_count": 9,
   "metadata": {},
   "outputs": [
    {
     "data": {
      "text/plain": [
       "6.81"
      ]
     },
     "execution_count": 9,
     "metadata": {},
     "output_type": "execute_result"
    }
   ],
   "source": [
    "df['FZI'].max()"
   ]
  },
  {
   "cell_type": "code",
   "execution_count": 10,
   "metadata": {},
   "outputs": [
    {
     "data": {
      "image/png": "[encoded data removed]",
      "text/plain": [
       "<Figure size 864x432 with 1 Axes>"
      ]
     },
     "metadata": {
      "needs_background": "light"
     },
     "output_type": "display_data"
    }
   ],
   "source": [
    "g = sns.FacetGrid(df,hue='HFU',palette='Set1',height=6, aspect=2)\n",
    "g = g.map(plt.hist,'FZI',bins=20,alpha=0.5)"
   ]
  },
  {
   "cell_type": "code",
   "execution_count": 11,
   "metadata": {},
   "outputs": [
    {
     "data": {
      "text/plain": [
       "[Text(0.5, 0, 'PHiZ'), Text(0, 0.5, 'RQI')]"
      ]
     },
     "execution_count": 11,
     "metadata": {},
     "output_type": "execute_result"
    },
    {
     "data": {
      "image/png": "[encoded data removed]",
      "text/plain": [
       "<Figure size 720x504 with 1 Axes>"
      ]
     },
     "metadata": {
      "needs_background": "light"
     },
     "output_type": "display_data"
    }
   ],
   "source": [
    "#from matplotlib.ticker import FuncFormatter\n",
    "f, ax = plt.subplots(figsize=(10, 7))\n",
    "\n",
    "sns.scatterplot(x=\"PHIZ\", y=\"RQI\", hue='HFU', data=df)\n",
    "ax.set(xscale=\"log\", yscale=\"log\")\n",
    "ax.grid(True)\n",
    "ax.axis([0.005, 1, 0.005, 10])\n",
    "#ax.set_xticks([0.005,0.1,1])\n",
    "#ax.set_yticks([0.005,5,10])\n",
    "ax.set(xlabel=\"PHiZ\", ylabel=\"RQI\")\n",
    "\n"
   ]
  },
  {
   "cell_type": "code",
   "execution_count": 12,
   "metadata": {},
   "outputs": [
    {
     "data": {
      "text/plain": [
       "[Text(0.5, 0, 'Core Porosity'), Text(0, 0.5, 'Core Permeability')]"
      ]
     },
     "execution_count": 12,
     "metadata": {},
     "output_type": "execute_result"
    },
    {
     "data": {
      "image/png": "[encoded data removed]",
      "text/plain": [
       "<Figure size 720x504 with 1 Axes>"
      ]
     },
     "metadata": {
      "needs_background": "light"
     },
     "output_type": "display_data"
    }
   ],
   "source": [
    "f, ax = plt.subplots(figsize=(10, 7))\n",
    "\n",
    "sns.scatterplot(x=\"CPOR\", y=\"CPERM\", hue='HFU', data=df)\n",
    "ax.set(yscale=\"log\")\n",
    "ax.grid(True)\n",
    "ax.axis([0.005, 0.18, 0.005, 1000])\n",
    "#ax.set_xticks([0.005,0.1,1])\n",
    "#ax.set_yticks([0.005,5,10])\n",
    "ax.set(xlabel=\"Core Porosity\", ylabel=\"Core Permeability\")"
   ]
  },
  {
   "cell_type": "markdown",
   "metadata": {},
   "source": [
    "**To create the plot below (a stacked histogram) use [sns.FacetGrid](https://stanford.edu/~mwaskom/software/seaborn/generated/seaborn.FacetGrid.html).**"
   ]
  },
  {
   "cell_type": "code",
   "execution_count": 42,
   "metadata": {},
   "outputs": [
    {
     "name": "stderr",
     "output_type": "stream",
     "text": [
      "C:\\Users\\zl0423\\AppData\\Local\\Temp/ipykernel_15412/1894030690.py:2: RuntimeWarning: divide by zero encountered in log\n",
      "  df['CPERM_log'] = np.log(df['CPERM'].values)\n"
     ]
    },
    {
     "data": {
      "text/html": [
       "<div>\n",
       "<style scoped>\n",
       "    .dataframe tbody tr th:only-of-type {\n",
       "        vertical-align: middle;\n",
       "    }\n",
       "\n",
       "    .dataframe tbody tr th {\n",
       "        vertical-align: top;\n",
       "    }\n",
       "\n",
       "    .dataframe thead th {\n",
       "        text-align: right;\n",
       "    }\n",
       "</style>\n",
       "<table border=\"1\" class=\"dataframe\">\n",
       "  <thead>\n",
       "    <tr style=\"text-align: right;\">\n",
       "      <th></th>\n",
       "      <th>DEPTH</th>\n",
       "      <th>CPERM</th>\n",
       "      <th>CPOR</th>\n",
       "      <th>RQI</th>\n",
       "      <th>PHIZ</th>\n",
       "      <th>FZI</th>\n",
       "      <th>Facies</th>\n",
       "      <th>PHIE</th>\n",
       "      <th>RESD</th>\n",
       "      <th>RESM</th>\n",
       "      <th>RESS</th>\n",
       "      <th>CPERM_log</th>\n",
       "    </tr>\n",
       "  </thead>\n",
       "  <tbody>\n",
       "    <tr>\n",
       "      <th>count</th>\n",
       "      <td>78.00000</td>\n",
       "      <td>78.000000</td>\n",
       "      <td>78.000000</td>\n",
       "      <td>78.000000</td>\n",
       "      <td>78.000000</td>\n",
       "      <td>78.000000</td>\n",
       "      <td>78.000000</td>\n",
       "      <td>78.000000</td>\n",
       "      <td>78.000000</td>\n",
       "      <td>78.000000</td>\n",
       "      <td>78.000000</td>\n",
       "      <td>78.000000</td>\n",
       "    </tr>\n",
       "    <tr>\n",
       "      <th>mean</th>\n",
       "      <td>3397.25000</td>\n",
       "      <td>11.422692</td>\n",
       "      <td>0.094872</td>\n",
       "      <td>0.117564</td>\n",
       "      <td>0.105256</td>\n",
       "      <td>0.899359</td>\n",
       "      <td>3.935897</td>\n",
       "      <td>0.085577</td>\n",
       "      <td>38.562654</td>\n",
       "      <td>39.202256</td>\n",
       "      <td>25.700038</td>\n",
       "      <td>-inf</td>\n",
       "    </tr>\n",
       "    <tr>\n",
       "      <th>std</th>\n",
       "      <td>25.63084</td>\n",
       "      <td>47.369581</td>\n",
       "      <td>0.028272</td>\n",
       "      <td>0.250813</td>\n",
       "      <td>0.034631</td>\n",
       "      <td>1.457925</td>\n",
       "      <td>1.506176</td>\n",
       "      <td>0.032211</td>\n",
       "      <td>9.694663</td>\n",
       "      <td>9.161700</td>\n",
       "      <td>11.024372</td>\n",
       "      <td>NaN</td>\n",
       "    </tr>\n",
       "    <tr>\n",
       "      <th>min</th>\n",
       "      <td>3357.00000</td>\n",
       "      <td>0.000000</td>\n",
       "      <td>0.030000</td>\n",
       "      <td>0.010000</td>\n",
       "      <td>0.030000</td>\n",
       "      <td>0.110000</td>\n",
       "      <td>0.000000</td>\n",
       "      <td>0.000000</td>\n",
       "      <td>19.227000</td>\n",
       "      <td>23.495000</td>\n",
       "      <td>3.990000</td>\n",
       "      <td>-inf</td>\n",
       "    </tr>\n",
       "    <tr>\n",
       "      <th>25%</th>\n",
       "      <td>3373.75000</td>\n",
       "      <td>0.020000</td>\n",
       "      <td>0.080000</td>\n",
       "      <td>0.020000</td>\n",
       "      <td>0.080000</td>\n",
       "      <td>0.225000</td>\n",
       "      <td>3.000000</td>\n",
       "      <td>0.054750</td>\n",
       "      <td>33.046750</td>\n",
       "      <td>34.308750</td>\n",
       "      <td>19.460750</td>\n",
       "      <td>-3.912023</td>\n",
       "    </tr>\n",
       "    <tr>\n",
       "      <th>50%</th>\n",
       "      <td>3395.00000</td>\n",
       "      <td>0.195000</td>\n",
       "      <td>0.095000</td>\n",
       "      <td>0.040000</td>\n",
       "      <td>0.105000</td>\n",
       "      <td>0.370000</td>\n",
       "      <td>4.000000</td>\n",
       "      <td>0.091500</td>\n",
       "      <td>37.844500</td>\n",
       "      <td>37.164500</td>\n",
       "      <td>24.639500</td>\n",
       "      <td>-1.635085</td>\n",
       "    </tr>\n",
       "    <tr>\n",
       "      <th>75%</th>\n",
       "      <td>3420.00000</td>\n",
       "      <td>0.672500</td>\n",
       "      <td>0.110000</td>\n",
       "      <td>0.080000</td>\n",
       "      <td>0.127500</td>\n",
       "      <td>0.802500</td>\n",
       "      <td>5.000000</td>\n",
       "      <td>0.105750</td>\n",
       "      <td>43.846750</td>\n",
       "      <td>41.986000</td>\n",
       "      <td>30.261500</td>\n",
       "      <td>-0.396943</td>\n",
       "    </tr>\n",
       "    <tr>\n",
       "      <th>max</th>\n",
       "      <td>3444.00000</td>\n",
       "      <td>286.910000</td>\n",
       "      <td>0.170000</td>\n",
       "      <td>1.290000</td>\n",
       "      <td>0.200000</td>\n",
       "      <td>6.810000</td>\n",
       "      <td>8.000000</td>\n",
       "      <td>0.168000</td>\n",
       "      <td>70.086000</td>\n",
       "      <td>79.595000</td>\n",
       "      <td>59.053000</td>\n",
       "      <td>5.659169</td>\n",
       "    </tr>\n",
       "  </tbody>\n",
       "</table>\n",
       "</div>"
      ],
      "text/plain": [
       "            DEPTH       CPERM       CPOR        RQI       PHIZ        FZI  \\\n",
       "count    78.00000   78.000000  78.000000  78.000000  78.000000  78.000000   \n",
       "mean   3397.25000   11.422692   0.094872   0.117564   0.105256   0.899359   \n",
       "std      25.63084   47.369581   0.028272   0.250813   0.034631   1.457925   \n",
       "min    3357.00000    0.000000   0.030000   0.010000   0.030000   0.110000   \n",
       "25%    3373.75000    0.020000   0.080000   0.020000   0.080000   0.225000   \n",
       "50%    3395.00000    0.195000   0.095000   0.040000   0.105000   0.370000   \n",
       "75%    3420.00000    0.672500   0.110000   0.080000   0.127500   0.802500   \n",
       "max    3444.00000  286.910000   0.170000   1.290000   0.200000   6.810000   \n",
       "\n",
       "          Facies       PHIE       RESD       RESM       RESS  CPERM_log  \n",
       "count  78.000000  78.000000  78.000000  78.000000  78.000000  78.000000  \n",
       "mean    3.935897   0.085577  38.562654  39.202256  25.700038       -inf  \n",
       "std     1.506176   0.032211   9.694663   9.161700  11.024372        NaN  \n",
       "min     0.000000   0.000000  19.227000  23.495000   3.990000       -inf  \n",
       "25%     3.000000   0.054750  33.046750  34.308750  19.460750  -3.912023  \n",
       "50%     4.000000   0.091500  37.844500  37.164500  24.639500  -1.635085  \n",
       "75%     5.000000   0.105750  43.846750  41.986000  30.261500  -0.396943  \n",
       "max     8.000000   0.168000  70.086000  79.595000  59.053000   5.659169  "
      ]
     },
     "execution_count": 42,
     "metadata": {},
     "output_type": "execute_result"
    }
   ],
   "source": [
    "# Code here please so that you don't lose the output\n",
    "df['CPERM_log'] = np.log(df['CPERM'].values)\n",
    "df.dropna().describe()"
   ]
  },
  {
   "cell_type": "code",
   "execution_count": 47,
   "metadata": {},
   "outputs": [
    {
     "data": {
      "text/plain": [
       "[Text(0.5, 0, 'Core Porosity'), Text(0, 0.5, 'Core Permeability')]"
      ]
     },
     "execution_count": 47,
     "metadata": {},
     "output_type": "execute_result"
    },
    {
     "data": {
      "image/png": "[encoded data removed]",
      "text/plain": [
       "<Figure size 1000x700 with 1 Axes>"
      ]
     },
     "metadata": {},
     "output_type": "display_data"
    }
   ],
   "source": [
    "f, ax = plt.subplots(figsize=(10, 7))\n",
    "\n",
    "sns.scatterplot(x=\"CPOR\", y=\"CPERM_log\", hue='HFU', data=df)\n",
    "#ax.set(yscale=\"log\")\n",
    "ax.grid(True)\n",
    "ax.axis([0.005, 0.18, -7, 10])\n",
    "#ax.set_xticks([0.005,0.1,1])\n",
    "#ax.set_yticks([0.005,5,10])\n",
    "ax.set(xlabel=\"Core Porosity\", ylabel=\"Core Permeability\")"
   ]
  },
  {
   "cell_type": "code",
   "execution_count": 14,
   "metadata": {},
   "outputs": [
    {
     "data": {
      "text/plain": [
       "<seaborn.axisgrid.FacetGrid at 0x29eb67a2580>"
      ]
     },
     "execution_count": 14,
     "metadata": {},
     "output_type": "execute_result"
    },
    {
     "data": {
      "image/png": "[encoded data removed]",
      "text/plain": [
       "<Figure size 491.4x252 with 3 Axes>"
      ]
     },
     "metadata": {
      "needs_background": "light"
     },
     "output_type": "display_data"
    }
   ],
   "source": [
    "g = sns.FacetGrid(df, col=\"HFU\", height=3.5, aspect=.65)\n",
    "g.map(sns.histplot, \"RQI\")"
   ]
  },
  {
   "cell_type": "code",
   "execution_count": 15,
   "metadata": {},
   "outputs": [
    {
     "data": {
      "text/html": [
       "<div>\n",
       "<style scoped>\n",
       "    .dataframe tbody tr th:only-of-type {\n",
       "        vertical-align: middle;\n",
       "    }\n",
       "\n",
       "    .dataframe tbody tr th {\n",
       "        vertical-align: top;\n",
       "    }\n",
       "\n",
       "    .dataframe thead th {\n",
       "        text-align: right;\n",
       "    }\n",
       "</style>\n",
       "<table border=\"1\" class=\"dataframe\">\n",
       "  <thead>\n",
       "    <tr style=\"text-align: right;\">\n",
       "      <th></th>\n",
       "      <th>DEPTH</th>\n",
       "      <th>CPERM</th>\n",
       "      <th>CPOR</th>\n",
       "      <th>RQI</th>\n",
       "      <th>PHIZ</th>\n",
       "      <th>FZI</th>\n",
       "      <th>Facies</th>\n",
       "      <th>PHIE</th>\n",
       "      <th>RESD</th>\n",
       "      <th>RESM</th>\n",
       "      <th>RESS</th>\n",
       "      <th>WELL</th>\n",
       "      <th>HFU</th>\n",
       "    </tr>\n",
       "  </thead>\n",
       "  <tbody>\n",
       "    <tr>\n",
       "      <th>14</th>\n",
       "      <td>3357.0</td>\n",
       "      <td>5.89</td>\n",
       "      <td>0.08</td>\n",
       "      <td>0.27</td>\n",
       "      <td>0.09</td>\n",
       "      <td>3.13</td>\n",
       "      <td>6</td>\n",
       "      <td>0.105</td>\n",
       "      <td>58.466</td>\n",
       "      <td>79.595</td>\n",
       "      <td>11.849</td>\n",
       "      <td>wb7</td>\n",
       "      <td>HFU3</td>\n",
       "    </tr>\n",
       "    <tr>\n",
       "      <th>18</th>\n",
       "      <td>3359.0</td>\n",
       "      <td>8.48</td>\n",
       "      <td>0.08</td>\n",
       "      <td>0.33</td>\n",
       "      <td>0.08</td>\n",
       "      <td>3.89</td>\n",
       "      <td>4</td>\n",
       "      <td>0.080</td>\n",
       "      <td>39.998</td>\n",
       "      <td>54.358</td>\n",
       "      <td>20.112</td>\n",
       "      <td>wb7</td>\n",
       "      <td>HFU3</td>\n",
       "    </tr>\n",
       "    <tr>\n",
       "      <th>99</th>\n",
       "      <td>3399.5</td>\n",
       "      <td>286.91</td>\n",
       "      <td>0.17</td>\n",
       "      <td>1.29</td>\n",
       "      <td>0.20</td>\n",
       "      <td>6.37</td>\n",
       "      <td>8</td>\n",
       "      <td>0.168</td>\n",
       "      <td>54.805</td>\n",
       "      <td>45.661</td>\n",
       "      <td>4.760</td>\n",
       "      <td>wb7</td>\n",
       "      <td>HFU3</td>\n",
       "    </tr>\n",
       "    <tr>\n",
       "      <th>100</th>\n",
       "      <td>3400.0</td>\n",
       "      <td>265.51</td>\n",
       "      <td>0.16</td>\n",
       "      <td>1.28</td>\n",
       "      <td>0.19</td>\n",
       "      <td>6.77</td>\n",
       "      <td>8</td>\n",
       "      <td>0.166</td>\n",
       "      <td>48.100</td>\n",
       "      <td>41.655</td>\n",
       "      <td>3.990</td>\n",
       "      <td>wb7</td>\n",
       "      <td>HFU3</td>\n",
       "    </tr>\n",
       "    <tr>\n",
       "      <th>104</th>\n",
       "      <td>3402.0</td>\n",
       "      <td>21.46</td>\n",
       "      <td>0.13</td>\n",
       "      <td>0.41</td>\n",
       "      <td>0.15</td>\n",
       "      <td>2.82</td>\n",
       "      <td>8</td>\n",
       "      <td>0.133</td>\n",
       "      <td>67.813</td>\n",
       "      <td>61.878</td>\n",
       "      <td>13.128</td>\n",
       "      <td>wb7</td>\n",
       "      <td>HFU3</td>\n",
       "    </tr>\n",
       "    <tr>\n",
       "      <th>105</th>\n",
       "      <td>3402.5</td>\n",
       "      <td>43.63</td>\n",
       "      <td>0.14</td>\n",
       "      <td>0.55</td>\n",
       "      <td>0.16</td>\n",
       "      <td>3.42</td>\n",
       "      <td>8</td>\n",
       "      <td>0.117</td>\n",
       "      <td>70.086</td>\n",
       "      <td>63.670</td>\n",
       "      <td>17.186</td>\n",
       "      <td>wb7</td>\n",
       "      <td>HFU3</td>\n",
       "    </tr>\n",
       "    <tr>\n",
       "      <th>107</th>\n",
       "      <td>3403.5</td>\n",
       "      <td>132.98</td>\n",
       "      <td>0.13</td>\n",
       "      <td>1.01</td>\n",
       "      <td>0.15</td>\n",
       "      <td>6.81</td>\n",
       "      <td>5</td>\n",
       "      <td>0.110</td>\n",
       "      <td>54.423</td>\n",
       "      <td>51.469</td>\n",
       "      <td>13.729</td>\n",
       "      <td>wb7</td>\n",
       "      <td>HFU3</td>\n",
       "    </tr>\n",
       "    <tr>\n",
       "      <th>116</th>\n",
       "      <td>3408.0</td>\n",
       "      <td>99.64</td>\n",
       "      <td>0.14</td>\n",
       "      <td>0.84</td>\n",
       "      <td>0.16</td>\n",
       "      <td>5.25</td>\n",
       "      <td>4</td>\n",
       "      <td>0.093</td>\n",
       "      <td>25.259</td>\n",
       "      <td>29.986</td>\n",
       "      <td>28.010</td>\n",
       "      <td>wb7</td>\n",
       "      <td>HFU3</td>\n",
       "    </tr>\n",
       "  </tbody>\n",
       "</table>\n",
       "</div>"
      ],
      "text/plain": [
       "      DEPTH   CPERM  CPOR   RQI  PHIZ   FZI  Facies   PHIE    RESD    RESM  \\\n",
       "14   3357.0    5.89  0.08  0.27  0.09  3.13       6  0.105  58.466  79.595   \n",
       "18   3359.0    8.48  0.08  0.33  0.08  3.89       4  0.080  39.998  54.358   \n",
       "99   3399.5  286.91  0.17  1.29  0.20  6.37       8  0.168  54.805  45.661   \n",
       "100  3400.0  265.51  0.16  1.28  0.19  6.77       8  0.166  48.100  41.655   \n",
       "104  3402.0   21.46  0.13  0.41  0.15  2.82       8  0.133  67.813  61.878   \n",
       "105  3402.5   43.63  0.14  0.55  0.16  3.42       8  0.117  70.086  63.670   \n",
       "107  3403.5  132.98  0.13  1.01  0.15  6.81       5  0.110  54.423  51.469   \n",
       "116  3408.0   99.64  0.14  0.84  0.16  5.25       4  0.093  25.259  29.986   \n",
       "\n",
       "       RESS WELL   HFU  \n",
       "14   11.849  wb7  HFU3  \n",
       "18   20.112  wb7  HFU3  \n",
       "99    4.760  wb7  HFU3  \n",
       "100   3.990  wb7  HFU3  \n",
       "104  13.128  wb7  HFU3  \n",
       "105  17.186  wb7  HFU3  \n",
       "107  13.729  wb7  HFU3  \n",
       "116  28.010  wb7  HFU3  "
      ]
     },
     "execution_count": 15,
     "metadata": {},
     "output_type": "execute_result"
    }
   ],
   "source": [
    "# Code here please so that you don't lose the output\n",
    "df2 = df[df['HFU'] == 'HFU3'].dropna()\n",
    "df2"
   ]
  },
  {
   "cell_type": "code",
   "execution_count": 16,
   "metadata": {},
   "outputs": [
    {
     "data": {
      "text/plain": [
       "[Text(0.5, 0, 'Core Porosity'), Text(0, 0.5, 'Core Permeability')]"
      ]
     },
     "execution_count": 16,
     "metadata": {},
     "output_type": "execute_result"
    },
    {
     "data": {
      "image/png": "[encoded data removed]",
      "text/plain": [
       "<Figure size 360x216 with 1 Axes>"
      ]
     },
     "metadata": {
      "needs_background": "light"
     },
     "output_type": "display_data"
    }
   ],
   "source": [
    "# Code here please so that you don't lose the output\n",
    "f, ax = plt.subplots(figsize=(5, 3))\n",
    "\n",
    "sns.scatterplot(x=\"CPOR\", y=\"CPERM\", data=df2)\n",
    "ax.set(yscale=\"log\")\n",
    "ax.grid(True)\n",
    "ax.axis([0.06, 0.20, 1, 1000])\n",
    "#ax.set_xticks([0.005,0.1,1])\n",
    "#ax.set_yticks([0.005,5,10])\n",
    "ax.set(xlabel=\"Core Porosity\", ylabel=\"Core Permeability\")"
   ]
  },
  {
   "cell_type": "code",
   "execution_count": 65,
   "metadata": {},
   "outputs": [
    {
     "name": "stdout",
     "output_type": "stream",
     "text": [
      "(24, 1) (24,)\n"
     ]
    }
   ],
   "source": [
    "#preprocessing\n",
    "features = ['CPOR']\n",
    "target = 'CPERM'\n",
    "\n",
    "X3 = df2[features].values.reshape(-1, len(features))\n",
    "y3 = np.log(df2[target].values)\n",
    "print(X.shape, y.shape)"
   ]
  },
  {
   "cell_type": "code",
   "execution_count": 68,
   "metadata": {},
   "outputs": [],
   "source": [
    "#Ordinary Least Squares\n",
    "from sklearn import linear_model\n",
    "ols3 = linear_model.LinearRegression()\n",
    "model3 = ols3.fit(X3, y3)"
   ]
  },
  {
   "cell_type": "code",
   "execution_count": 69,
   "metadata": {},
   "outputs": [
    {
     "name": "stdout",
     "output_type": "stream",
     "text": [
      "[41.80786208] -1.4470765324424617\n"
     ]
    }
   ],
   "source": [
    "#linear regression coefficient and the y-intercept \n",
    "print(model3.coef_, model3.intercept_)"
   ]
  },
  {
   "cell_type": "markdown",
   "metadata": {},
   "source": [
    "## The HFU 3 permeability  can be predicted from porosity, with the following linear model:\n",
    "The result of the regression is: $10^{(41.80786208  * CPOR -1.4470765324424617)}$"
   ]
  },
  {
   "cell_type": "code",
   "execution_count": 70,
   "metadata": {},
   "outputs": [
    {
     "data": {
      "text/plain": [
       "0.8545234262657919"
      ]
     },
     "execution_count": 70,
     "metadata": {},
     "output_type": "execute_result"
    }
   ],
   "source": [
    "#Accuracy assessment: R2\n",
    "model3.score(X3, y3)"
   ]
  },
  {
   "cell_type": "code",
   "execution_count": 71,
   "metadata": {},
   "outputs": [
    {
     "data": {
      "text/plain": [
       "array([4.40602416, 6.07833864])"
      ]
     },
     "execution_count": 71,
     "metadata": {},
     "output_type": "execute_result"
    }
   ],
   "source": [
    "#assume CPOR = 14% and 18%\n",
    "x_pred3 = np.array([0.14, 0.18])\n",
    "x_pred3 = x_pred3.reshape(-1, len(features))  # preprocessing required by scikit-learn functions\n",
    "model3.predict(x_pred3)"
   ]
  },
  {
   "cell_type": "code",
   "execution_count": 72,
   "metadata": {},
   "outputs": [],
   "source": [
    "x_pred3 = np.linspace(0, 0.20, 200)            # 200 data points between 0 ~ 40\n",
    "x_pred3 = x_pred3.reshape(-1, len(features))  # preprocessing required by scikit-learn functions\n",
    "y_pred3 = model3.predict(x_pred3)"
   ]
  },
  {
   "cell_type": "code",
   "execution_count": 73,
   "metadata": {},
   "outputs": [
    {
     "data": {
      "image/png": "[encoded data removed]",
      "text/plain": [
       "<Figure size 800x500 with 1 Axes>"
      ]
     },
     "metadata": {},
     "output_type": "display_data"
    }
   ],
   "source": [
    "plt.style.use('default')\n",
    "plt.style.use('ggplot')\n",
    "\n",
    "fig, ax = plt.subplots(figsize=(8, 5))\n",
    "\n",
    "ax.plot(x_pred3, y_pred3, color='r', label='Regression model')\n",
    "ax.scatter(X3, y3, edgecolor='k', facecolor='blue', alpha=0.7, label='HFU3 actual data')\n",
    "ax.set_ylabel('Permeability (Md)', fontsize=10)\n",
    "ax.set_xlabel('Porosity (vol/vol)', fontsize=10)\n",
    "#ax.set(yscale=\"log\")\n",
    "ax.axis([0.06, 0.20, 0, 10])\n",
    "ax.legend(facecolor='white', fontsize=11)\n",
    "ax.text(0.05, 0.72, '$y = %.2f CPOR - %.2f $' % (model.coef_[0], abs(model.intercept_)), fontsize=17, transform=ax.transAxes)\n",
    "\n",
    "fig.tight_layout()"
   ]
  },
  {
   "cell_type": "code",
   "execution_count": 74,
   "metadata": {},
   "outputs": [
    {
     "data": {
      "text/html": [
       "<div>\n",
       "<style scoped>\n",
       "    .dataframe tbody tr th:only-of-type {\n",
       "        vertical-align: middle;\n",
       "    }\n",
       "\n",
       "    .dataframe tbody tr th {\n",
       "        vertical-align: top;\n",
       "    }\n",
       "\n",
       "    .dataframe thead th {\n",
       "        text-align: right;\n",
       "    }\n",
       "</style>\n",
       "<table border=\"1\" class=\"dataframe\">\n",
       "  <thead>\n",
       "    <tr style=\"text-align: right;\">\n",
       "      <th></th>\n",
       "      <th>DEPTH</th>\n",
       "      <th>CPERM</th>\n",
       "      <th>CPOR</th>\n",
       "      <th>RQI</th>\n",
       "      <th>PHIZ</th>\n",
       "      <th>FZI</th>\n",
       "      <th>Facies</th>\n",
       "      <th>PHIE</th>\n",
       "      <th>RESD</th>\n",
       "      <th>RESM</th>\n",
       "      <th>RESS</th>\n",
       "      <th>WELL</th>\n",
       "      <th>HFU</th>\n",
       "      <th>CPERM_log</th>\n",
       "    </tr>\n",
       "  </thead>\n",
       "  <tbody>\n",
       "    <tr>\n",
       "      <th>28</th>\n",
       "      <td>3364.0</td>\n",
       "      <td>0.25</td>\n",
       "      <td>0.05</td>\n",
       "      <td>0.07</td>\n",
       "      <td>0.05</td>\n",
       "      <td>1.37</td>\n",
       "      <td>0</td>\n",
       "      <td>0.044</td>\n",
       "      <td>27.796</td>\n",
       "      <td>34.115</td>\n",
       "      <td>29.115</td>\n",
       "      <td>wb7</td>\n",
       "      <td>HFU2</td>\n",
       "      <td>-1.386294</td>\n",
       "    </tr>\n",
       "    <tr>\n",
       "      <th>31</th>\n",
       "      <td>3365.5</td>\n",
       "      <td>0.01</td>\n",
       "      <td>0.03</td>\n",
       "      <td>0.02</td>\n",
       "      <td>0.03</td>\n",
       "      <td>0.52</td>\n",
       "      <td>3</td>\n",
       "      <td>0.049</td>\n",
       "      <td>38.146</td>\n",
       "      <td>43.957</td>\n",
       "      <td>22.301</td>\n",
       "      <td>wb7</td>\n",
       "      <td>HFU2</td>\n",
       "      <td>-4.605170</td>\n",
       "    </tr>\n",
       "    <tr>\n",
       "      <th>83</th>\n",
       "      <td>3391.5</td>\n",
       "      <td>0.96</td>\n",
       "      <td>0.10</td>\n",
       "      <td>0.10</td>\n",
       "      <td>0.11</td>\n",
       "      <td>0.95</td>\n",
       "      <td>3</td>\n",
       "      <td>0.088</td>\n",
       "      <td>45.792</td>\n",
       "      <td>46.510</td>\n",
       "      <td>51.392</td>\n",
       "      <td>wb7</td>\n",
       "      <td>HFU2</td>\n",
       "      <td>-0.040822</td>\n",
       "    </tr>\n",
       "    <tr>\n",
       "      <th>109</th>\n",
       "      <td>3404.5</td>\n",
       "      <td>6.71</td>\n",
       "      <td>0.14</td>\n",
       "      <td>0.22</td>\n",
       "      <td>0.16</td>\n",
       "      <td>1.34</td>\n",
       "      <td>4</td>\n",
       "      <td>0.106</td>\n",
       "      <td>45.479</td>\n",
       "      <td>46.958</td>\n",
       "      <td>30.773</td>\n",
       "      <td>wb7</td>\n",
       "      <td>HFU2</td>\n",
       "      <td>1.903599</td>\n",
       "    </tr>\n",
       "    <tr>\n",
       "      <th>126</th>\n",
       "      <td>3413.0</td>\n",
       "      <td>1.38</td>\n",
       "      <td>0.13</td>\n",
       "      <td>0.10</td>\n",
       "      <td>0.15</td>\n",
       "      <td>0.68</td>\n",
       "      <td>4</td>\n",
       "      <td>0.126</td>\n",
       "      <td>40.787</td>\n",
       "      <td>38.565</td>\n",
       "      <td>22.315</td>\n",
       "      <td>wb7</td>\n",
       "      <td>HFU2</td>\n",
       "      <td>0.322083</td>\n",
       "    </tr>\n",
       "  </tbody>\n",
       "</table>\n",
       "</div>"
      ],
      "text/plain": [
       "      DEPTH  CPERM  CPOR   RQI  PHIZ   FZI  Facies   PHIE    RESD    RESM  \\\n",
       "28   3364.0   0.25  0.05  0.07  0.05  1.37       0  0.044  27.796  34.115   \n",
       "31   3365.5   0.01  0.03  0.02  0.03  0.52       3  0.049  38.146  43.957   \n",
       "83   3391.5   0.96  0.10  0.10  0.11  0.95       3  0.088  45.792  46.510   \n",
       "109  3404.5   6.71  0.14  0.22  0.16  1.34       4  0.106  45.479  46.958   \n",
       "126  3413.0   1.38  0.13  0.10  0.15  0.68       4  0.126  40.787  38.565   \n",
       "\n",
       "       RESS WELL   HFU  CPERM_log  \n",
       "28   29.115  wb7  HFU2  -1.386294  \n",
       "31   22.301  wb7  HFU2  -4.605170  \n",
       "83   51.392  wb7  HFU2  -0.040822  \n",
       "109  30.773  wb7  HFU2   1.903599  \n",
       "126  22.315  wb7  HFU2   0.322083  "
      ]
     },
     "execution_count": 74,
     "metadata": {},
     "output_type": "execute_result"
    }
   ],
   "source": [
    "df3 = df[df['HFU'] == 'HFU2'].dropna()\n",
    "df3.head(5)"
   ]
  },
  {
   "cell_type": "code",
   "execution_count": 75,
   "metadata": {},
   "outputs": [
    {
     "data": {
      "text/plain": [
       "[Text(0.5, 0, 'Core Porosity'), Text(0, 0.5, 'Core Permeability')]"
      ]
     },
     "execution_count": 75,
     "metadata": {},
     "output_type": "execute_result"
    },
    {
     "data": {
      "image/png": "[encoded data removed]",
      "text/plain": [
       "<Figure size 500x300 with 1 Axes>"
      ]
     },
     "metadata": {},
     "output_type": "display_data"
    }
   ],
   "source": [
    "# Code here please so that you don't lose the output\n",
    "f, ax = plt.subplots(figsize=(5, 3))\n",
    "\n",
    "sns.scatterplot(x=\"CPOR\", y=\"CPERM\", data=df3)\n",
    "ax.set(yscale=\"log\")\n",
    "ax.grid(True)\n",
    "ax.axis([0.001, 0.15, 0.005, 50])\n",
    "#ax.set_xticks([0.005,0.1,1])\n",
    "#ax.set_yticks([0.005,5,10])\n",
    "ax.set(xlabel=\"Core Porosity\", ylabel=\"Core Permeability\")"
   ]
  },
  {
   "cell_type": "code",
   "execution_count": 76,
   "metadata": {},
   "outputs": [
    {
     "name": "stdout",
     "output_type": "stream",
     "text": [
      "(24, 1) (24,)\n"
     ]
    }
   ],
   "source": [
    "#preprocessing\n",
    "features = ['CPOR']\n",
    "target = 'CPERM'\n",
    "\n",
    "X2 = df3[features].values.reshape(-1, len(features))\n",
    "y2 = np.log(df3[target].values)\n",
    "print(X.shape, y.shape)"
   ]
  },
  {
   "cell_type": "code",
   "execution_count": 77,
   "metadata": {},
   "outputs": [
    {
     "name": "stdout",
     "output_type": "stream",
     "text": [
      "[44.87998396] -4.690650768532301\n"
     ]
    }
   ],
   "source": [
    "#Ordinary Least Squares\n",
    "from sklearn import linear_model\n",
    "ols2 = linear_model.LinearRegression()\n",
    "model2 = ols.fit(X, y)#linear regression coefficient and the y-intercept \n",
    "print(model2.coef_, model2.intercept_)"
   ]
  },
  {
   "cell_type": "markdown",
   "metadata": {},
   "source": [
    "## The HFU 2 permeability  can be predicted from porosity, with the following linear model:\n",
    "The result of the regression is: $10^{(44.87998396  * CPOR -4.690650768532301)}$"
   ]
  },
  {
   "cell_type": "code",
   "execution_count": 78,
   "metadata": {},
   "outputs": [
    {
     "data": {
      "text/plain": [
       "0.7812779885358434"
      ]
     },
     "execution_count": 78,
     "metadata": {},
     "output_type": "execute_result"
    }
   ],
   "source": [
    "#Accuracy assessment: R2\n",
    "model2.score(X2, y2)"
   ]
  },
  {
   "cell_type": "code",
   "execution_count": 79,
   "metadata": {},
   "outputs": [],
   "source": [
    "x_pred2 = np.linspace(0, 0.15, 200)            # 200 data points between 0 ~ 40\n",
    "x_pred2 = x_pred2.reshape(-1, len(features))  # preprocessing required by scikit-learn functions\n",
    "y_pred2 = model2.predict(x_pred2)"
   ]
  },
  {
   "cell_type": "code",
   "execution_count": 80,
   "metadata": {},
   "outputs": [
    {
     "data": {
      "image/png": "[encoded data removed]",
      "text/plain": [
       "<Figure size 800x500 with 1 Axes>"
      ]
     },
     "metadata": {},
     "output_type": "display_data"
    }
   ],
   "source": [
    "plt.style.use('default')\n",
    "plt.style.use('ggplot')\n",
    "\n",
    "fig, ax = plt.subplots(figsize=(8, 5))\n",
    "\n",
    "ax.plot(x_pred2, y_pred2, color='r', label='Regression model HFU2')\n",
    "ax.scatter(X2, y2, edgecolor='k', facecolor='blue', alpha=0.7, label='HFU2 actual data')\n",
    "ax.set_ylabel('Permeability (Md)', fontsize=10)\n",
    "ax.set_xlabel('Porosity (vol/vol)', fontsize=10)\n",
    "#ax.set(yscale=\"log\")\n",
    "ax.axis([0.0, 0.16, -5.75, 5])\n",
    "ax.legend(facecolor='white', fontsize=11)\n",
    "ax.text(0.05, 0.72, '$y = %.2f CPOR - %.2f $' % (model.coef_[0], abs(model.intercept_)), fontsize=17, transform=ax.transAxes)\n",
    "\n",
    "fig.tight_layout()"
   ]
  },
  {
   "cell_type": "code",
   "execution_count": 109,
   "metadata": {},
   "outputs": [
    {
     "data": {
      "image/png": "[encoded data removed]",
      "text/plain": [
       "<Figure size 1000x400 with 1 Axes>"
      ]
     },
     "metadata": {},
     "output_type": "display_data"
    }
   ],
   "source": [
    "plt.style.use('default')\n",
    "plt.style.use('ggplot')\n",
    "\n",
    "fig, ax = plt.subplots(figsize=(10, 4))\n",
    "ax.plot(x_pred3, y_pred3, color='r', label='Regression model HFU3' )\n",
    "ax.plot(x_pred2, y_pred2, color='m', label='Regression model HFU2')\n",
    "sns.scatterplot(x=\"CPOR\", y='CPERM_log', hue='HFU', data=df)\n",
    "#ax.scatter(X, y, edgecolor='k', facecolor='blue', alpha=0.7, label='HFU2 actual data', data = df)\n",
    "ax.set_ylabel('Permeability (Md)', fontsize=10)\n",
    "ax.set_xlabel('Porosity (vol/vol)', fontsize=10)\n",
    "ax.lines[0].set_linestyle(\"--\")\n",
    "ax.lines[1].set_linestyle(\"--\")\n",
    "#ax.set(yscale=\"log\")\n",
    "ax.axis([0.0, 0.18, -8, 8])\n",
    "ax.legend(facecolor='white', fontsize=11)\n",
    "ax.text(0.8, 0.6, '$y2 = %.2f CPOR - %.2f $' % (model2.coef_[0], abs(model2.intercept_)), fontsize=12, transform=ax.transAxes)\n",
    "ax.text(0.8, 0.9, '$y3 = %.2f CPOR - %.2f $' % (model3.coef_[0], abs(model3.intercept_)), fontsize=12, transform=ax.transAxes)\n",
    "\n",
    "fig.tight_layout()"
   ]
  },
  {
   "cell_type": "code",
   "execution_count": null,
   "metadata": {},
   "outputs": [],
   "source": []
  },
  {
   "cell_type": "code",
   "execution_count": null,
   "metadata": {},
   "outputs": [],
   "source": []
  },
  {
   "cell_type": "code",
   "execution_count": null,
   "metadata": {},
   "outputs": [],
   "source": []
  },
  {
   "cell_type": "code",
   "execution_count": null,
   "metadata": {},
   "outputs": [],
   "source": []
  },
  {
   "cell_type": "code",
   "execution_count": null,
   "metadata": {},
   "outputs": [],
   "source": []
  },
  {
   "cell_type": "code",
   "execution_count": null,
   "metadata": {},
   "outputs": [],
   "source": []
  },
  {
   "cell_type": "code",
   "execution_count": null,
   "metadata": {},
   "outputs": [],
   "source": []
  },
  {
   "cell_type": "code",
   "execution_count": null,
   "metadata": {},
   "outputs": [],
   "source": []
  },
  {
   "cell_type": "code",
   "execution_count": null,
   "metadata": {},
   "outputs": [],
   "source": []
  },
  {
   "cell_type": "code",
   "execution_count": null,
   "metadata": {},
   "outputs": [],
   "source": []
  }
 ],
 "metadata": {
  "kernelspec": {
   "display_name": "Python 3 (ipykernel)",
   "language": "python",
   "name": "python3"
  },
  "language_info": {
   "codemirror_mode": {
    "name": "ipython",
    "version": 3
   },
   "file_extension": ".py",
   "mimetype": "text/x-python",
   "name": "python",
   "nbconvert_exporter": "python",
   "pygments_lexer": "ipython3",
   "version": "3.9.7"
  }
 },
 "nbformat": 4,
 "nbformat_minor": 2
}
