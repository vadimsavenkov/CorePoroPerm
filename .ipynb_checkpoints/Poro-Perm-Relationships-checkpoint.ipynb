{
 "cells": [
  {
   "cell_type": "markdown",
   "metadata": {},
   "source": [
    "# Porosity-Permeability Relationships Using Linear Regression in Python  \n",
    "  \n"
   ]
  },
  {
   "cell_type": "code",
   "execution_count": 3,
   "metadata": {},
   "outputs": [],
   "source": [
    "import pandas as pd\n",
    "import matplotlib.pyplot as plt\n",
    "import numpy as np"
   ]
  },
  {
   "cell_type": "code",
   "execution_count": 4,
   "metadata": {},
   "outputs": [],
   "source": [
    "core_data = pd.read_csv(\"Data/well_logs.csv\", na_values=' ')"
   ]
  },
  {
   "cell_type": "code",
   "execution_count": 5,
   "metadata": {},
   "outputs": [
    {
     "data": {
      "text/html": [
       "<div>\n",
       "<style scoped>\n",
       "    .dataframe tbody tr th:only-of-type {\n",
       "        vertical-align: middle;\n",
       "    }\n",
       "\n",
       "    .dataframe tbody tr th {\n",
       "        vertical-align: top;\n",
       "    }\n",
       "\n",
       "    .dataframe thead th {\n",
       "        text-align: right;\n",
       "    }\n",
       "</style>\n",
       "<table border=\"1\" class=\"dataframe\">\n",
       "  <thead>\n",
       "    <tr style=\"text-align: right;\">\n",
       "      <th></th>\n",
       "      <th>DEPTH</th>\n",
       "      <th>CALI</th>\n",
       "      <th>CPERM</th>\n",
       "      <th>CPOR</th>\n",
       "      <th>Density</th>\n",
       "      <th>Facies</th>\n",
       "      <th>GR</th>\n",
       "      <th>Neutron</th>\n",
       "      <th>PEF</th>\n",
       "      <th>Perm</th>\n",
       "      <th>PHIE</th>\n",
       "      <th>RESD</th>\n",
       "      <th>RESM</th>\n",
       "      <th>RESS</th>\n",
       "      <th>Sonic</th>\n",
       "      <th>SP</th>\n",
       "      <th>SW</th>\n",
       "      <th>VShale</th>\n",
       "      <th>Lithology</th>\n",
       "    </tr>\n",
       "  </thead>\n",
       "  <tbody>\n",
       "    <tr>\n",
       "      <th>0</th>\n",
       "      <td>700.0</td>\n",
       "      <td>NaN</td>\n",
       "      <td>NaN</td>\n",
       "      <td>NaN</td>\n",
       "      <td>NaN</td>\n",
       "      <td>NaN</td>\n",
       "      <td>NaN</td>\n",
       "      <td>0.34</td>\n",
       "      <td>NaN</td>\n",
       "      <td>NaN</td>\n",
       "      <td>NaN</td>\n",
       "      <td>13.50</td>\n",
       "      <td>12.64</td>\n",
       "      <td>507.64</td>\n",
       "      <td>NaN</td>\n",
       "      <td>570.34</td>\n",
       "      <td>NaN</td>\n",
       "      <td>NaN</td>\n",
       "      <td>NaN</td>\n",
       "    </tr>\n",
       "    <tr>\n",
       "      <th>1</th>\n",
       "      <td>700.5</td>\n",
       "      <td>NaN</td>\n",
       "      <td>NaN</td>\n",
       "      <td>NaN</td>\n",
       "      <td>NaN</td>\n",
       "      <td>NaN</td>\n",
       "      <td>55.64</td>\n",
       "      <td>0.38</td>\n",
       "      <td>NaN</td>\n",
       "      <td>NaN</td>\n",
       "      <td>NaN</td>\n",
       "      <td>13.28</td>\n",
       "      <td>12.71</td>\n",
       "      <td>507.64</td>\n",
       "      <td>NaN</td>\n",
       "      <td>570.54</td>\n",
       "      <td>NaN</td>\n",
       "      <td>NaN</td>\n",
       "      <td>NaN</td>\n",
       "    </tr>\n",
       "    <tr>\n",
       "      <th>2</th>\n",
       "      <td>701.0</td>\n",
       "      <td>NaN</td>\n",
       "      <td>NaN</td>\n",
       "      <td>NaN</td>\n",
       "      <td>NaN</td>\n",
       "      <td>NaN</td>\n",
       "      <td>55.12</td>\n",
       "      <td>0.38</td>\n",
       "      <td>NaN</td>\n",
       "      <td>NaN</td>\n",
       "      <td>NaN</td>\n",
       "      <td>12.98</td>\n",
       "      <td>12.51</td>\n",
       "      <td>507.77</td>\n",
       "      <td>NaN</td>\n",
       "      <td>570.83</td>\n",
       "      <td>NaN</td>\n",
       "      <td>NaN</td>\n",
       "      <td>NaN</td>\n",
       "    </tr>\n",
       "    <tr>\n",
       "      <th>3</th>\n",
       "      <td>701.5</td>\n",
       "      <td>NaN</td>\n",
       "      <td>NaN</td>\n",
       "      <td>NaN</td>\n",
       "      <td>NaN</td>\n",
       "      <td>NaN</td>\n",
       "      <td>55.32</td>\n",
       "      <td>0.37</td>\n",
       "      <td>NaN</td>\n",
       "      <td>NaN</td>\n",
       "      <td>NaN</td>\n",
       "      <td>12.37</td>\n",
       "      <td>11.93</td>\n",
       "      <td>507.36</td>\n",
       "      <td>NaN</td>\n",
       "      <td>570.27</td>\n",
       "      <td>NaN</td>\n",
       "      <td>NaN</td>\n",
       "      <td>NaN</td>\n",
       "    </tr>\n",
       "    <tr>\n",
       "      <th>4</th>\n",
       "      <td>702.0</td>\n",
       "      <td>NaN</td>\n",
       "      <td>NaN</td>\n",
       "      <td>NaN</td>\n",
       "      <td>2.09</td>\n",
       "      <td>NaN</td>\n",
       "      <td>57.05</td>\n",
       "      <td>0.38</td>\n",
       "      <td>15.97</td>\n",
       "      <td>NaN</td>\n",
       "      <td>NaN</td>\n",
       "      <td>11.41</td>\n",
       "      <td>11.03</td>\n",
       "      <td>517.59</td>\n",
       "      <td>NaN</td>\n",
       "      <td>569.14</td>\n",
       "      <td>NaN</td>\n",
       "      <td>NaN</td>\n",
       "      <td>NaN</td>\n",
       "    </tr>\n",
       "  </tbody>\n",
       "</table>\n",
       "</div>"
      ],
      "text/plain": [
       "   DEPTH  CALI  CPERM  CPOR  Density  Facies     GR  Neutron    PEF  Perm  \\\n",
       "0  700.0   NaN    NaN   NaN      NaN     NaN    NaN     0.34    NaN   NaN   \n",
       "1  700.5   NaN    NaN   NaN      NaN     NaN  55.64     0.38    NaN   NaN   \n",
       "2  701.0   NaN    NaN   NaN      NaN     NaN  55.12     0.38    NaN   NaN   \n",
       "3  701.5   NaN    NaN   NaN      NaN     NaN  55.32     0.37    NaN   NaN   \n",
       "4  702.0   NaN    NaN   NaN     2.09     NaN  57.05     0.38  15.97   NaN   \n",
       "\n",
       "   PHIE   RESD   RESM    RESS  Sonic      SP  SW  VShale  Lithology  \n",
       "0   NaN  13.50  12.64  507.64    NaN  570.34 NaN     NaN        NaN  \n",
       "1   NaN  13.28  12.71  507.64    NaN  570.54 NaN     NaN        NaN  \n",
       "2   NaN  12.98  12.51  507.77    NaN  570.83 NaN     NaN        NaN  \n",
       "3   NaN  12.37  11.93  507.36    NaN  570.27 NaN     NaN        NaN  \n",
       "4   NaN  11.41  11.03  517.59    NaN  569.14 NaN     NaN        NaN  "
      ]
     },
     "execution_count": 5,
     "metadata": {},
     "output_type": "execute_result"
    }
   ],
   "source": [
    "core_data.head()"
   ]
  },
  {
   "cell_type": "code",
   "execution_count": 6,
   "metadata": {},
   "outputs": [
    {
     "data": {
      "text/html": [
       "<div>\n",
       "<style scoped>\n",
       "    .dataframe tbody tr th:only-of-type {\n",
       "        vertical-align: middle;\n",
       "    }\n",
       "\n",
       "    .dataframe tbody tr th {\n",
       "        vertical-align: top;\n",
       "    }\n",
       "\n",
       "    .dataframe thead th {\n",
       "        text-align: right;\n",
       "    }\n",
       "</style>\n",
       "<table border=\"1\" class=\"dataframe\">\n",
       "  <thead>\n",
       "    <tr style=\"text-align: right;\">\n",
       "      <th></th>\n",
       "      <th>DEPTH</th>\n",
       "      <th>CALI</th>\n",
       "      <th>CPERM</th>\n",
       "      <th>CPOR</th>\n",
       "      <th>Density</th>\n",
       "      <th>Facies</th>\n",
       "      <th>GR</th>\n",
       "      <th>Neutron</th>\n",
       "      <th>PEF</th>\n",
       "      <th>Perm</th>\n",
       "      <th>PHIE</th>\n",
       "      <th>RESD</th>\n",
       "      <th>RESM</th>\n",
       "      <th>RESS</th>\n",
       "      <th>Sonic</th>\n",
       "      <th>SP</th>\n",
       "      <th>SW</th>\n",
       "      <th>VShale</th>\n",
       "      <th>Lithology</th>\n",
       "    </tr>\n",
       "  </thead>\n",
       "  <tbody>\n",
       "    <tr>\n",
       "      <th>count</th>\n",
       "      <td>5911.000000</td>\n",
       "      <td>5815.000000</td>\n",
       "      <td>44.000000</td>\n",
       "      <td>44.000000</td>\n",
       "      <td>5907.000000</td>\n",
       "      <td>5630.000000</td>\n",
       "      <td>5910.00000</td>\n",
       "      <td>5911.000000</td>\n",
       "      <td>5907.000000</td>\n",
       "      <td>5630.000000</td>\n",
       "      <td>5631.000000</td>\n",
       "      <td>5878.000000</td>\n",
       "      <td>5878.000000</td>\n",
       "      <td>5911.000000</td>\n",
       "      <td>5674.000000</td>\n",
       "      <td>5645.000000</td>\n",
       "      <td>5630.000000</td>\n",
       "      <td>5631.000000</td>\n",
       "      <td>5631.000000</td>\n",
       "    </tr>\n",
       "    <tr>\n",
       "      <th>mean</th>\n",
       "      <td>2177.500000</td>\n",
       "      <td>8.993415</td>\n",
       "      <td>20.080227</td>\n",
       "      <td>11.045455</td>\n",
       "      <td>2.514655</td>\n",
       "      <td>1.159325</td>\n",
       "      <td>115.32324</td>\n",
       "      <td>0.275471</td>\n",
       "      <td>3.417654</td>\n",
       "      <td>4.481940</td>\n",
       "      <td>0.062772</td>\n",
       "      <td>12.796633</td>\n",
       "      <td>13.562038</td>\n",
       "      <td>12.854884</td>\n",
       "      <td>88.103264</td>\n",
       "      <td>532.333848</td>\n",
       "      <td>0.949819</td>\n",
       "      <td>0.598831</td>\n",
       "      <td>0.452850</td>\n",
       "    </tr>\n",
       "    <tr>\n",
       "      <th>std</th>\n",
       "      <td>853.251526</td>\n",
       "      <td>0.449884</td>\n",
       "      <td>61.984399</td>\n",
       "      <td>2.391405</td>\n",
       "      <td>0.124044</td>\n",
       "      <td>1.949900</td>\n",
       "      <td>30.95617</td>\n",
       "      <td>0.109139</td>\n",
       "      <td>1.856973</td>\n",
       "      <td>33.037014</td>\n",
       "      <td>0.055468</td>\n",
       "      <td>9.971205</td>\n",
       "      <td>10.840201</td>\n",
       "      <td>34.177632</td>\n",
       "      <td>12.374108</td>\n",
       "      <td>35.853537</td>\n",
       "      <td>0.147465</td>\n",
       "      <td>0.294208</td>\n",
       "      <td>0.704872</td>\n",
       "    </tr>\n",
       "    <tr>\n",
       "      <th>min</th>\n",
       "      <td>700.000000</td>\n",
       "      <td>1.510000</td>\n",
       "      <td>0.020000</td>\n",
       "      <td>5.000000</td>\n",
       "      <td>1.890000</td>\n",
       "      <td>0.000000</td>\n",
       "      <td>25.53000</td>\n",
       "      <td>0.020000</td>\n",
       "      <td>1.350000</td>\n",
       "      <td>0.000000</td>\n",
       "      <td>0.000000</td>\n",
       "      <td>1.650000</td>\n",
       "      <td>1.710000</td>\n",
       "      <td>0.210000</td>\n",
       "      <td>55.420000</td>\n",
       "      <td>367.460000</td>\n",
       "      <td>0.220000</td>\n",
       "      <td>0.000000</td>\n",
       "      <td>0.000000</td>\n",
       "    </tr>\n",
       "    <tr>\n",
       "      <th>25%</th>\n",
       "      <td>1438.750000</td>\n",
       "      <td>8.800000</td>\n",
       "      <td>0.137500</td>\n",
       "      <td>9.000000</td>\n",
       "      <td>2.450000</td>\n",
       "      <td>0.000000</td>\n",
       "      <td>98.54000</td>\n",
       "      <td>0.210000</td>\n",
       "      <td>2.800000</td>\n",
       "      <td>0.000000</td>\n",
       "      <td>0.020000</td>\n",
       "      <td>7.670000</td>\n",
       "      <td>8.042500</td>\n",
       "      <td>6.180000</td>\n",
       "      <td>80.172500</td>\n",
       "      <td>525.450000</td>\n",
       "      <td>1.000000</td>\n",
       "      <td>0.390000</td>\n",
       "      <td>0.000000</td>\n",
       "    </tr>\n",
       "    <tr>\n",
       "      <th>50%</th>\n",
       "      <td>2177.500000</td>\n",
       "      <td>8.960000</td>\n",
       "      <td>0.230000</td>\n",
       "      <td>11.000000</td>\n",
       "      <td>2.510000</td>\n",
       "      <td>0.000000</td>\n",
       "      <td>124.03000</td>\n",
       "      <td>0.290000</td>\n",
       "      <td>3.250000</td>\n",
       "      <td>0.000000</td>\n",
       "      <td>0.050000</td>\n",
       "      <td>9.960000</td>\n",
       "      <td>10.750000</td>\n",
       "      <td>8.280000</td>\n",
       "      <td>89.870000</td>\n",
       "      <td>543.250000</td>\n",
       "      <td>1.000000</td>\n",
       "      <td>0.690000</td>\n",
       "      <td>0.000000</td>\n",
       "    </tr>\n",
       "    <tr>\n",
       "      <th>75%</th>\n",
       "      <td>2916.250000</td>\n",
       "      <td>9.130000</td>\n",
       "      <td>1.380000</td>\n",
       "      <td>13.000000</td>\n",
       "      <td>2.590000</td>\n",
       "      <td>2.000000</td>\n",
       "      <td>138.15750</td>\n",
       "      <td>0.340000</td>\n",
       "      <td>3.590000</td>\n",
       "      <td>0.010000</td>\n",
       "      <td>0.090000</td>\n",
       "      <td>13.760000</td>\n",
       "      <td>14.517500</td>\n",
       "      <td>11.715000</td>\n",
       "      <td>96.100000</td>\n",
       "      <td>552.120000</td>\n",
       "      <td>1.000000</td>\n",
       "      <td>0.830000</td>\n",
       "      <td>1.000000</td>\n",
       "    </tr>\n",
       "    <tr>\n",
       "      <th>max</th>\n",
       "      <td>3655.000000</td>\n",
       "      <td>12.290000</td>\n",
       "      <td>286.910000</td>\n",
       "      <td>17.000000</td>\n",
       "      <td>3.300000</td>\n",
       "      <td>8.000000</td>\n",
       "      <td>207.36000</td>\n",
       "      <td>0.700000</td>\n",
       "      <td>16.900000</td>\n",
       "      <td>611.210000</td>\n",
       "      <td>0.340000</td>\n",
       "      <td>146.200000</td>\n",
       "      <td>155.140000</td>\n",
       "      <td>517.590000</td>\n",
       "      <td>137.730000</td>\n",
       "      <td>586.200000</td>\n",
       "      <td>1.000000</td>\n",
       "      <td>1.000000</td>\n",
       "      <td>2.000000</td>\n",
       "    </tr>\n",
       "  </tbody>\n",
       "</table>\n",
       "</div>"
      ],
      "text/plain": [
       "             DEPTH         CALI       CPERM       CPOR      Density  \\\n",
       "count  5911.000000  5815.000000   44.000000  44.000000  5907.000000   \n",
       "mean   2177.500000     8.993415   20.080227  11.045455     2.514655   \n",
       "std     853.251526     0.449884   61.984399   2.391405     0.124044   \n",
       "min     700.000000     1.510000    0.020000   5.000000     1.890000   \n",
       "25%    1438.750000     8.800000    0.137500   9.000000     2.450000   \n",
       "50%    2177.500000     8.960000    0.230000  11.000000     2.510000   \n",
       "75%    2916.250000     9.130000    1.380000  13.000000     2.590000   \n",
       "max    3655.000000    12.290000  286.910000  17.000000     3.300000   \n",
       "\n",
       "            Facies          GR      Neutron          PEF         Perm  \\\n",
       "count  5630.000000  5910.00000  5911.000000  5907.000000  5630.000000   \n",
       "mean      1.159325   115.32324     0.275471     3.417654     4.481940   \n",
       "std       1.949900    30.95617     0.109139     1.856973    33.037014   \n",
       "min       0.000000    25.53000     0.020000     1.350000     0.000000   \n",
       "25%       0.000000    98.54000     0.210000     2.800000     0.000000   \n",
       "50%       0.000000   124.03000     0.290000     3.250000     0.000000   \n",
       "75%       2.000000   138.15750     0.340000     3.590000     0.010000   \n",
       "max       8.000000   207.36000     0.700000    16.900000   611.210000   \n",
       "\n",
       "              PHIE         RESD         RESM         RESS        Sonic  \\\n",
       "count  5631.000000  5878.000000  5878.000000  5911.000000  5674.000000   \n",
       "mean      0.062772    12.796633    13.562038    12.854884    88.103264   \n",
       "std       0.055468     9.971205    10.840201    34.177632    12.374108   \n",
       "min       0.000000     1.650000     1.710000     0.210000    55.420000   \n",
       "25%       0.020000     7.670000     8.042500     6.180000    80.172500   \n",
       "50%       0.050000     9.960000    10.750000     8.280000    89.870000   \n",
       "75%       0.090000    13.760000    14.517500    11.715000    96.100000   \n",
       "max       0.340000   146.200000   155.140000   517.590000   137.730000   \n",
       "\n",
       "                SP           SW       VShale    Lithology  \n",
       "count  5645.000000  5630.000000  5631.000000  5631.000000  \n",
       "mean    532.333848     0.949819     0.598831     0.452850  \n",
       "std      35.853537     0.147465     0.294208     0.704872  \n",
       "min     367.460000     0.220000     0.000000     0.000000  \n",
       "25%     525.450000     1.000000     0.390000     0.000000  \n",
       "50%     543.250000     1.000000     0.690000     0.000000  \n",
       "75%     552.120000     1.000000     0.830000     1.000000  \n",
       "max     586.200000     1.000000     1.000000     2.000000  "
      ]
     },
     "execution_count": 6,
     "metadata": {},
     "output_type": "execute_result"
    }
   ],
   "source": [
    "core_data.describe()"
   ]
  },
  {
   "cell_type": "markdown",
   "metadata": {},
   "source": [
    "## Plottting Porosity vs Permeability"
   ]
  },
  {
   "cell_type": "code",
   "execution_count": 7,
   "metadata": {},
   "outputs": [
    {
     "data": {
      "text/plain": [
       "<AxesSubplot:xlabel='CPOR', ylabel='CPERM'>"
      ]
     },
     "execution_count": 7,
     "metadata": {},
     "output_type": "execute_result"
    },
    {
     "data": {
      "image/png": "[encoded data removed]",
      "text/plain": [
       "<Figure size 432x288 with 1 Axes>"
      ]
     },
     "metadata": {
      "needs_background": "light"
     },
     "output_type": "display_data"
    }
   ],
   "source": [
    "core_data.plot(kind=\"scatter\", x=\"CPOR\", y=\"CPERM\")\n"
   ]
  },
  {
   "cell_type": "code",
   "execution_count": 8,
   "metadata": {},
   "outputs": [
    {
     "data": {
      "image/png": "[encoded data removed]",
      "text/plain": [
       "<Figure size 432x288 with 1 Axes>"
      ]
     },
     "metadata": {
      "needs_background": "light"
     },
     "output_type": "display_data"
    }
   ],
   "source": [
    "core_data.plot(kind=\"scatter\", x=\"CPOR\", y=\"CPERM\")\n",
    "plt.yscale('log')\n",
    "plt.grid(True)\n"
   ]
  },
  {
   "cell_type": "code",
   "execution_count": 28,
   "metadata": {},
   "outputs": [
    {
     "data": {
      "image/png": "[encoded data removed]",
      "text/plain": [
       "<Figure size 432x288 with 1 Axes>"
      ]
     },
     "metadata": {
      "needs_background": "light"
     },
     "output_type": "display_data"
    }
   ],
   "source": [
    "from matplotlib.ticker import FuncFormatter\n",
    "fig, ax = plt.subplots()\n",
    "\n",
    "ax.axis([0, 20, 0.01, 1000])\n",
    "ax.plot(core_data['CPOR'], core_data['CPERM'], 'bo')\n",
    "ax.set_yscale('log')\n",
    "ax.grid(True)\n",
    "ax.set_ylabel('Core Perm (mD)')\n",
    "ax.set_xlabel('Core Porosity')\n",
    "\n",
    "#Format the axes so that they show whole numbers\n",
    "for axis in [ax.yaxis, ax.xaxis]:\n",
    "    formatter = FuncFormatter(lambda y, _: '{:.16g}'.format(y))\n",
    "    axis.set_major_formatter(formatter)\n",
    "    \n",
    "plt.savefig('11-xplot-semi-log-fixed.png', dpi=300)"
   ]
  },
  {
   "cell_type": "markdown",
   "metadata": {},
   "source": [
    "## Deriving Relationship Between Porosity and Permeability\n"
   ]
  },
  {
   "cell_type": "code",
   "execution_count": 10,
   "metadata": {},
   "outputs": [],
   "source": [
    "poro_perm = core_data[['CPOR', 'CPERM']].copy()"
   ]
  },
  {
   "cell_type": "code",
   "execution_count": 11,
   "metadata": {},
   "outputs": [],
   "source": [
    "poro_perm.dropna(inplace=True)"
   ]
  },
  {
   "cell_type": "markdown",
   "metadata": {},
   "source": [
    "### Numpy polyfit()\n"
   ]
  },
  {
   "cell_type": "code",
   "execution_count": 12,
   "metadata": {},
   "outputs": [],
   "source": [
    "poro_perm_polyfit = np.polyfit(poro_perm['CPOR'], np.log10(poro_perm['CPERM']), 1)"
   ]
  },
  {
   "cell_type": "code",
   "execution_count": 13,
   "metadata": {},
   "outputs": [
    {
     "data": {
      "text/plain": [
       "array([ 0.23356423, -2.78915149])"
      ]
     },
     "execution_count": 13,
     "metadata": {},
     "output_type": "execute_result"
    }
   ],
   "source": [
    "poro_perm_polyfit"
   ]
  },
  {
   "cell_type": "code",
   "execution_count": 14,
   "metadata": {},
   "outputs": [
    {
     "name": "stderr",
     "output_type": "stream",
     "text": [
      "C:\\Users\\zl0423\\Anaconda3\\lib\\site-packages\\statsmodels\\tsa\\tsatools.py:142: FutureWarning: In a future version of pandas all arguments of concat except for the argument 'objs' will be keyword-only\n",
      "  x = pd.concat(x[::order], 1)\n"
     ]
    }
   ],
   "source": [
    "import statsmodels.api as sm\n",
    "\n",
    "x = core_data['CPOR']\n",
    "x = sm.add_constant(x)\n",
    "y = np.log10(core_data['CPERM'])"
   ]
  },
  {
   "cell_type": "code",
   "execution_count": 15,
   "metadata": {},
   "outputs": [],
   "source": [
    "model = sm.OLS(y, x, missing='drop')\n",
    "results = model.fit()"
   ]
  },
  {
   "cell_type": "code",
   "execution_count": 16,
   "metadata": {},
   "outputs": [
    {
     "data": {
      "text/html": [
       "<table class=\"simpletable\">\n",
       "<caption>OLS Regression Results</caption>\n",
       "<tr>\n",
       "  <th>Dep. Variable:</th>          <td>CPERM</td>      <th>  R-squared:         </th> <td>   0.280</td>\n",
       "</tr>\n",
       "<tr>\n",
       "  <th>Model:</th>                   <td>OLS</td>       <th>  Adj. R-squared:    </th> <td>   0.263</td>\n",
       "</tr>\n",
       "<tr>\n",
       "  <th>Method:</th>             <td>Least Squares</td>  <th>  F-statistic:       </th> <td>   16.35</td>\n",
       "</tr>\n",
       "<tr>\n",
       "  <th>Date:</th>             <td>Tue, 29 Mar 2022</td> <th>  Prob (F-statistic):</th> <td>0.000220</td>\n",
       "</tr>\n",
       "<tr>\n",
       "  <th>Time:</th>                 <td>08:24:28</td>     <th>  Log-Likelihood:    </th> <td> -57.057</td>\n",
       "</tr>\n",
       "<tr>\n",
       "  <th>No. Observations:</th>      <td>    44</td>      <th>  AIC:               </th> <td>   118.1</td>\n",
       "</tr>\n",
       "<tr>\n",
       "  <th>Df Residuals:</th>          <td>    42</td>      <th>  BIC:               </th> <td>   121.7</td>\n",
       "</tr>\n",
       "<tr>\n",
       "  <th>Df Model:</th>              <td>     1</td>      <th>                     </th>     <td> </td>   \n",
       "</tr>\n",
       "<tr>\n",
       "  <th>Covariance Type:</th>      <td>nonrobust</td>    <th>                     </th>     <td> </td>   \n",
       "</tr>\n",
       "</table>\n",
       "<table class=\"simpletable\">\n",
       "<tr>\n",
       "    <td></td>       <th>coef</th>     <th>std err</th>      <th>t</th>      <th>P>|t|</th>  <th>[0.025</th>    <th>0.975]</th>  \n",
       "</tr>\n",
       "<tr>\n",
       "  <th>const</th> <td>   -2.7892</td> <td>    0.652</td> <td>   -4.275</td> <td> 0.000</td> <td>   -4.106</td> <td>   -1.472</td>\n",
       "</tr>\n",
       "<tr>\n",
       "  <th>CPOR</th>  <td>    0.2336</td> <td>    0.058</td> <td>    4.044</td> <td> 0.000</td> <td>    0.117</td> <td>    0.350</td>\n",
       "</tr>\n",
       "</table>\n",
       "<table class=\"simpletable\">\n",
       "<tr>\n",
       "  <th>Omnibus:</th>       <td> 4.362</td> <th>  Durbin-Watson:     </th> <td>   0.595</td>\n",
       "</tr>\n",
       "<tr>\n",
       "  <th>Prob(Omnibus):</th> <td> 0.113</td> <th>  Jarque-Bera (JB):  </th> <td>   3.827</td>\n",
       "</tr>\n",
       "<tr>\n",
       "  <th>Skew:</th>          <td> 0.636</td> <th>  Prob(JB):          </th> <td>   0.148</td>\n",
       "</tr>\n",
       "<tr>\n",
       "  <th>Kurtosis:</th>      <td> 2.314</td> <th>  Cond. No.          </th> <td>    54.4</td>\n",
       "</tr>\n",
       "</table><br/><br/>Notes:<br/>[1] Standard Errors assume that the covariance matrix of the errors is correctly specified."
      ],
      "text/plain": [
       "<class 'statsmodels.iolib.summary.Summary'>\n",
       "\"\"\"\n",
       "                            OLS Regression Results                            \n",
       "==============================================================================\n",
       "Dep. Variable:                  CPERM   R-squared:                       0.280\n",
       "Model:                            OLS   Adj. R-squared:                  0.263\n",
       "Method:                 Least Squares   F-statistic:                     16.35\n",
       "Date:                Tue, 29 Mar 2022   Prob (F-statistic):           0.000220\n",
       "Time:                        08:24:28   Log-Likelihood:                -57.057\n",
       "No. Observations:                  44   AIC:                             118.1\n",
       "Df Residuals:                      42   BIC:                             121.7\n",
       "Df Model:                           1                                         \n",
       "Covariance Type:            nonrobust                                         \n",
       "==============================================================================\n",
       "                 coef    std err          t      P>|t|      [0.025      0.975]\n",
       "------------------------------------------------------------------------------\n",
       "const         -2.7892      0.652     -4.275      0.000      -4.106      -1.472\n",
       "CPOR           0.2336      0.058      4.044      0.000       0.117       0.350\n",
       "==============================================================================\n",
       "Omnibus:                        4.362   Durbin-Watson:                   0.595\n",
       "Prob(Omnibus):                  0.113   Jarque-Bera (JB):                3.827\n",
       "Skew:                           0.636   Prob(JB):                        0.148\n",
       "Kurtosis:                       2.314   Cond. No.                         54.4\n",
       "==============================================================================\n",
       "\n",
       "Notes:\n",
       "[1] Standard Errors assume that the covariance matrix of the errors is correctly specified.\n",
       "\"\"\""
      ]
     },
     "execution_count": 16,
     "metadata": {},
     "output_type": "execute_result"
    }
   ],
   "source": [
    "results.summary()"
   ]
  },
  {
   "cell_type": "code",
   "execution_count": 17,
   "metadata": {},
   "outputs": [
    {
     "data": {
      "text/plain": [
       "const   -2.789151\n",
       "CPOR     0.233564\n",
       "dtype: float64"
      ]
     },
     "execution_count": 17,
     "metadata": {},
     "output_type": "execute_result"
    }
   ],
   "source": [
    "results.params"
   ]
  },
  {
   "cell_type": "code",
   "execution_count": 18,
   "metadata": {},
   "outputs": [
    {
     "data": {
      "text/plain": [
       "0.2335642315467112"
      ]
     },
     "execution_count": 18,
     "metadata": {},
     "output_type": "execute_result"
    }
   ],
   "source": [
    "results.params[1]"
   ]
  },
  {
   "cell_type": "code",
   "execution_count": 27,
   "metadata": {},
   "outputs": [
    {
     "data": {
      "image/png": "[encoded data removed]",
      "text/plain": [
       "<Figure size 432x288 with 1 Axes>"
      ]
     },
     "metadata": {
      "needs_background": "light"
     },
     "output_type": "display_data"
    }
   ],
   "source": [
    "from matplotlib.ticker import FuncFormatter\n",
    "fig, ax = plt.subplots()\n",
    "\n",
    "ax.axis([0, 20, 0.01, 1000])\n",
    "ax.semilogy(core_data['CPOR'], core_data['CPERM'], 'bo')\n",
    "\n",
    "ax.grid(True)\n",
    "ax.set_ylabel('Core Perm (mD)')\n",
    "ax.set_xlabel('Core Porosity (%)')\n",
    "\n",
    "ax.semilogy(core_data['CPOR'], 10**(results.params[1] * core_data['CPOR'] + results.params[0]), 'r-')\n",
    "\n",
    "#Format the axes so that they show whole numbers\n",
    "for axis in [ax.yaxis, ax.xaxis]:\n",
    "    formatter = FuncFormatter(lambda y, _: '{:.16g}'.format(y))\n",
    "    axis.set_major_formatter(formatter)\n",
    "    \n",
    "plt.savefig('predicted_poro_perm_xplot.png', dpi=100)\n"
   ]
  },
  {
   "cell_type": "markdown",
   "metadata": {},
   "source": [
    "## Predicting a Continuous Permeability from Log Porosity\n"
   ]
  },
  {
   "cell_type": "code",
   "execution_count": 75,
   "metadata": {},
   "outputs": [],
   "source": [
    "#well = pd.read_csv('Data/B7-NC151.csv', skiprows=[1])"
   ]
  },
  {
   "cell_type": "code",
   "execution_count": 76,
   "metadata": {},
   "outputs": [],
   "source": [
    "#well.head()"
   ]
  },
  {
   "cell_type": "code",
   "execution_count": 77,
   "metadata": {},
   "outputs": [],
   "source": [
    "#well['Perm']= 10**(results.params[1] * (well['PHIE']*100) + results.params[0])"
   ]
  },
  {
   "cell_type": "code",
   "execution_count": 79,
   "metadata": {
    "scrolled": true
   },
   "outputs": [],
   "source": [
    "#well.head()"
   ]
  },
  {
   "cell_type": "markdown",
   "metadata": {},
   "source": [
    "## Visualising the Final Predicted Curve\n",
    "The final step in our workflow is to plot the PHIT curve and the predicted permeability curve on a log plot alongside the core measurements.  \n",
    "  \n",
    "  This generates a simple two track log plot with our core measurements represented by black dots and our continuous curves by blue lines."
   ]
  },
  {
   "cell_type": "code",
   "execution_count": 30,
   "metadata": {},
   "outputs": [
    {
     "data": {
      "image/png": "[encoded data removed]",
      "text/plain": [
       "<Figure size 360x720 with 2 Axes>"
      ]
     },
     "metadata": {
      "needs_background": "light"
     },
     "output_type": "display_data"
    }
   ],
   "source": [
    "fig, ax = plt.subplots(figsize=(5,10))\n",
    "ax1 = plt.subplot2grid((1,2), (0,0), rowspan=1, colspan = 1)\n",
    "ax2 = plt.subplot2grid((1,2), (0,1), rowspan=1, colspan = 1, sharey = ax1)\n",
    "\n",
    "# Porosity track\n",
    "ax1.plot(core_data[\"CPOR\"]/100, core_data['DEPTH'], color = \"black\", marker='.', linewidth=0)\n",
    "ax1.plot(core_data['PHIE'], core_data['DEPTH'], color ='blue', linewidth=0.5)\n",
    "ax1.set_xlabel(\"Porosity\")\n",
    "ax1.set_xlim(0.3, 0)\n",
    "ax1.xaxis.label.set_color(\"black\")\n",
    "ax1.tick_params(axis='x', colors=\"black\")\n",
    "ax1.spines[\"top\"].set_edgecolor(\"black\")\n",
    "ax1.set_xticks([0.3,  0.15, 0])\n",
    "\n",
    "# Permeability track\n",
    "ax2.plot(core_data[\"CPERM\"], core_data['DEPTH'], color = \"black\", marker='.', linewidth=0)\n",
    "ax2.plot(core_data['Perm'], core_data['DEPTH'], color ='blue', linewidth=0.5)\n",
    "ax2.set_xlabel(\"Permeability\")\n",
    "ax2.set_xlim(0.1, 1000)\n",
    "ax2.xaxis.label.set_color(\"black\")\n",
    "ax2.tick_params(axis='x', colors=\"black\")\n",
    "ax2.spines[\"top\"].set_edgecolor(\"black\")\n",
    "ax2.set_xticks([0.01, 1, 10, 100, 1000])\n",
    "ax2.semilogx()\n",
    "\n",
    "# Common functions for setting up the plot can be extracted into\n",
    "# a for loop. This saves repeating code.\n",
    "for ax in [ax1, ax2]:\n",
    "    ax.set_ylim(3500, 3300)\n",
    "    ax.grid(which='major', color='lightgrey', linestyle='-')\n",
    "    ax.xaxis.set_ticks_position(\"top\")\n",
    "    ax.xaxis.set_label_position(\"top\")\n",
    "    \n",
    "# Removes the y axis labels on the second track\n",
    "for ax in [ax2]:\n",
    "    plt.setp(ax.get_yticklabels(), visible = False)\n",
    "    \n",
    "plt.tight_layout()\n",
    "fig.subplots_adjust(wspace = 0.3)\n",
    "plt.savefig('final_track_plot.png', dpi=100)"
   ]
  },
  {
   "cell_type": "code",
   "execution_count": null,
   "metadata": {},
   "outputs": [],
   "source": []
  }
 ],
 "metadata": {
  "kernelspec": {
   "display_name": "Python 3 (ipykernel)",
   "language": "python",
   "name": "python3"
  },
  "language_info": {
   "codemirror_mode": {
    "name": "ipython",
    "version": 3
   },
   "file_extension": ".py",
   "mimetype": "text/x-python",
   "name": "python",
   "nbconvert_exporter": "python",
   "pygments_lexer": "ipython3",
   "version": "3.9.7"
  }
 },
 "nbformat": 4,
 "nbformat_minor": 2
}
