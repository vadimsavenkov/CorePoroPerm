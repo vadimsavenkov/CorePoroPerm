{
 "cells": [
  {
   "cell_type": "markdown",
   "metadata": {},
   "source": [
    "# KMean Clustering Test\n",
    "\n"
   ]
  },
  {
   "cell_type": "markdown",
   "metadata": {
    "collapsed": true
   },
   "source": [
    "**The required libraries are imported as below.**"
   ]
  },
  {
   "cell_type": "code",
   "execution_count": 4,
   "metadata": {},
   "outputs": [],
   "source": [
    "import pandas as pd\n",
    "import numpy as np\n",
    "import matplotlib.pyplot as plt\n",
    "import seaborn as sns\n",
    "sns.set_style('whitegrid')\n",
    "%matplotlib inline"
   ]
  },
  {
   "cell_type": "code",
   "execution_count": 5,
   "metadata": {},
   "outputs": [
    {
     "data": {
      "text/html": [
       "<div>\n",
       "<style scoped>\n",
       "    .dataframe tbody tr th:only-of-type {\n",
       "        vertical-align: middle;\n",
       "    }\n",
       "\n",
       "    .dataframe tbody tr th {\n",
       "        vertical-align: top;\n",
       "    }\n",
       "\n",
       "    .dataframe thead th {\n",
       "        text-align: right;\n",
       "    }\n",
       "</style>\n",
       "<table border=\"1\" class=\"dataframe\">\n",
       "  <thead>\n",
       "    <tr style=\"text-align: right;\">\n",
       "      <th></th>\n",
       "      <th>DEPTH</th>\n",
       "      <th>CPERM</th>\n",
       "      <th>CPOR</th>\n",
       "      <th>RQI</th>\n",
       "      <th>PHIZ</th>\n",
       "      <th>FZI</th>\n",
       "      <th>WELL</th>\n",
       "    </tr>\n",
       "  </thead>\n",
       "  <tbody>\n",
       "    <tr>\n",
       "      <th>174</th>\n",
       "      <td>3423.3</td>\n",
       "      <td>1.05</td>\n",
       "      <td>0.12</td>\n",
       "      <td>0.09</td>\n",
       "      <td>0.14</td>\n",
       "      <td>0.68</td>\n",
       "      <td>wb7</td>\n",
       "    </tr>\n",
       "    <tr>\n",
       "      <th>175</th>\n",
       "      <td>3424.7</td>\n",
       "      <td>0.20</td>\n",
       "      <td>0.08</td>\n",
       "      <td>0.05</td>\n",
       "      <td>0.09</td>\n",
       "      <td>0.57</td>\n",
       "      <td>wb7</td>\n",
       "    </tr>\n",
       "    <tr>\n",
       "      <th>176</th>\n",
       "      <td>3425.5</td>\n",
       "      <td>0.56</td>\n",
       "      <td>0.15</td>\n",
       "      <td>0.06</td>\n",
       "      <td>0.18</td>\n",
       "      <td>0.34</td>\n",
       "      <td>wb7</td>\n",
       "    </tr>\n",
       "    <tr>\n",
       "      <th>177</th>\n",
       "      <td>3426.5</td>\n",
       "      <td>0.13</td>\n",
       "      <td>0.12</td>\n",
       "      <td>0.03</td>\n",
       "      <td>0.14</td>\n",
       "      <td>0.24</td>\n",
       "      <td>wb7</td>\n",
       "    </tr>\n",
       "    <tr>\n",
       "      <th>178</th>\n",
       "      <td>3427.4</td>\n",
       "      <td>0.02</td>\n",
       "      <td>0.10</td>\n",
       "      <td>0.01</td>\n",
       "      <td>0.11</td>\n",
       "      <td>0.13</td>\n",
       "      <td>wb7</td>\n",
       "    </tr>\n",
       "    <tr>\n",
       "      <th>179</th>\n",
       "      <td>3428.4</td>\n",
       "      <td>0.10</td>\n",
       "      <td>0.13</td>\n",
       "      <td>0.03</td>\n",
       "      <td>0.15</td>\n",
       "      <td>0.18</td>\n",
       "      <td>wb7</td>\n",
       "    </tr>\n",
       "    <tr>\n",
       "      <th>180</th>\n",
       "      <td>3429.3</td>\n",
       "      <td>0.01</td>\n",
       "      <td>0.07</td>\n",
       "      <td>0.01</td>\n",
       "      <td>0.08</td>\n",
       "      <td>0.16</td>\n",
       "      <td>wb7</td>\n",
       "    </tr>\n",
       "    <tr>\n",
       "      <th>181</th>\n",
       "      <td>3430.7</td>\n",
       "      <td>0.01</td>\n",
       "      <td>0.04</td>\n",
       "      <td>0.02</td>\n",
       "      <td>0.04</td>\n",
       "      <td>0.38</td>\n",
       "      <td>wb7</td>\n",
       "    </tr>\n",
       "    <tr>\n",
       "      <th>182</th>\n",
       "      <td>3431.6</td>\n",
       "      <td>0.21</td>\n",
       "      <td>0.12</td>\n",
       "      <td>0.04</td>\n",
       "      <td>0.14</td>\n",
       "      <td>0.30</td>\n",
       "      <td>wb7</td>\n",
       "    </tr>\n",
       "    <tr>\n",
       "      <th>183</th>\n",
       "      <td>3432.5</td>\n",
       "      <td>0.22</td>\n",
       "      <td>0.11</td>\n",
       "      <td>0.04</td>\n",
       "      <td>0.12</td>\n",
       "      <td>0.36</td>\n",
       "      <td>wb7</td>\n",
       "    </tr>\n",
       "    <tr>\n",
       "      <th>184</th>\n",
       "      <td>3433.4</td>\n",
       "      <td>0.29</td>\n",
       "      <td>0.09</td>\n",
       "      <td>0.06</td>\n",
       "      <td>0.10</td>\n",
       "      <td>0.57</td>\n",
       "      <td>wb7</td>\n",
       "    </tr>\n",
       "    <tr>\n",
       "      <th>185</th>\n",
       "      <td>3434.9</td>\n",
       "      <td>0.32</td>\n",
       "      <td>0.12</td>\n",
       "      <td>0.05</td>\n",
       "      <td>0.14</td>\n",
       "      <td>0.38</td>\n",
       "      <td>wb7</td>\n",
       "    </tr>\n",
       "    <tr>\n",
       "      <th>186</th>\n",
       "      <td>3435.8</td>\n",
       "      <td>0.48</td>\n",
       "      <td>0.12</td>\n",
       "      <td>0.06</td>\n",
       "      <td>0.14</td>\n",
       "      <td>0.46</td>\n",
       "      <td>wb7</td>\n",
       "    </tr>\n",
       "    <tr>\n",
       "      <th>187</th>\n",
       "      <td>3436.7</td>\n",
       "      <td>1.42</td>\n",
       "      <td>0.11</td>\n",
       "      <td>0.11</td>\n",
       "      <td>0.12</td>\n",
       "      <td>0.91</td>\n",
       "      <td>wb7</td>\n",
       "    </tr>\n",
       "    <tr>\n",
       "      <th>188</th>\n",
       "      <td>3437.8</td>\n",
       "      <td>2.25</td>\n",
       "      <td>0.12</td>\n",
       "      <td>0.14</td>\n",
       "      <td>0.14</td>\n",
       "      <td>1.00</td>\n",
       "      <td>wb7</td>\n",
       "    </tr>\n",
       "    <tr>\n",
       "      <th>189</th>\n",
       "      <td>3438.8</td>\n",
       "      <td>0.32</td>\n",
       "      <td>0.09</td>\n",
       "      <td>0.06</td>\n",
       "      <td>0.10</td>\n",
       "      <td>0.60</td>\n",
       "      <td>wb7</td>\n",
       "    </tr>\n",
       "    <tr>\n",
       "      <th>190</th>\n",
       "      <td>3439.4</td>\n",
       "      <td>0.09</td>\n",
       "      <td>0.09</td>\n",
       "      <td>0.03</td>\n",
       "      <td>0.10</td>\n",
       "      <td>0.32</td>\n",
       "      <td>wb7</td>\n",
       "    </tr>\n",
       "    <tr>\n",
       "      <th>191</th>\n",
       "      <td>3440.8</td>\n",
       "      <td>0.05</td>\n",
       "      <td>0.08</td>\n",
       "      <td>0.02</td>\n",
       "      <td>0.09</td>\n",
       "      <td>0.29</td>\n",
       "      <td>wb7</td>\n",
       "    </tr>\n",
       "    <tr>\n",
       "      <th>192</th>\n",
       "      <td>3443.4</td>\n",
       "      <td>0.04</td>\n",
       "      <td>0.08</td>\n",
       "      <td>0.02</td>\n",
       "      <td>0.09</td>\n",
       "      <td>0.26</td>\n",
       "      <td>wb7</td>\n",
       "    </tr>\n",
       "    <tr>\n",
       "      <th>193</th>\n",
       "      <td>3444.0</td>\n",
       "      <td>0.08</td>\n",
       "      <td>0.10</td>\n",
       "      <td>0.03</td>\n",
       "      <td>0.11</td>\n",
       "      <td>0.25</td>\n",
       "      <td>wb7</td>\n",
       "    </tr>\n",
       "  </tbody>\n",
       "</table>\n",
       "</div>"
      ],
      "text/plain": [
       "      DEPTH  CPERM  CPOR   RQI  PHIZ   FZI WELL\n",
       "174  3423.3   1.05  0.12  0.09  0.14  0.68  wb7\n",
       "175  3424.7   0.20  0.08  0.05  0.09  0.57  wb7\n",
       "176  3425.5   0.56  0.15  0.06  0.18  0.34  wb7\n",
       "177  3426.5   0.13  0.12  0.03  0.14  0.24  wb7\n",
       "178  3427.4   0.02  0.10  0.01  0.11  0.13  wb7\n",
       "179  3428.4   0.10  0.13  0.03  0.15  0.18  wb7\n",
       "180  3429.3   0.01  0.07  0.01  0.08  0.16  wb7\n",
       "181  3430.7   0.01  0.04  0.02  0.04  0.38  wb7\n",
       "182  3431.6   0.21  0.12  0.04  0.14  0.30  wb7\n",
       "183  3432.5   0.22  0.11  0.04  0.12  0.36  wb7\n",
       "184  3433.4   0.29  0.09  0.06  0.10  0.57  wb7\n",
       "185  3434.9   0.32  0.12  0.05  0.14  0.38  wb7\n",
       "186  3435.8   0.48  0.12  0.06  0.14  0.46  wb7\n",
       "187  3436.7   1.42  0.11  0.11  0.12  0.91  wb7\n",
       "188  3437.8   2.25  0.12  0.14  0.14  1.00  wb7\n",
       "189  3438.8   0.32  0.09  0.06  0.10  0.60  wb7\n",
       "190  3439.4   0.09  0.09  0.03  0.10  0.32  wb7\n",
       "191  3440.8   0.05  0.08  0.02  0.09  0.29  wb7\n",
       "192  3443.4   0.04  0.08  0.02  0.09  0.26  wb7\n",
       "193  3444.0   0.08  0.10  0.03  0.11  0.25  wb7"
      ]
     },
     "execution_count": 5,
     "metadata": {},
     "output_type": "execute_result"
    }
   ],
   "source": [
    "df = pd.read_csv('Wells_Core.csv')\n",
    "df.tail(20)"
   ]
  },
  {
   "cell_type": "code",
   "execution_count": 6,
   "metadata": {},
   "outputs": [
    {
     "data": {
      "text/html": [
       "<div>\n",
       "<style scoped>\n",
       "    .dataframe tbody tr th:only-of-type {\n",
       "        vertical-align: middle;\n",
       "    }\n",
       "\n",
       "    .dataframe tbody tr th {\n",
       "        vertical-align: top;\n",
       "    }\n",
       "\n",
       "    .dataframe thead th {\n",
       "        text-align: right;\n",
       "    }\n",
       "</style>\n",
       "<table border=\"1\" class=\"dataframe\">\n",
       "  <thead>\n",
       "    <tr style=\"text-align: right;\">\n",
       "      <th></th>\n",
       "      <th>DEPTH</th>\n",
       "      <th>CPERM</th>\n",
       "      <th>CPOR</th>\n",
       "      <th>RQI</th>\n",
       "      <th>PHIZ</th>\n",
       "      <th>FZI</th>\n",
       "      <th>WELL</th>\n",
       "      <th>HFU</th>\n",
       "    </tr>\n",
       "  </thead>\n",
       "  <tbody>\n",
       "    <tr>\n",
       "      <th>0</th>\n",
       "      <td>3545.0</td>\n",
       "      <td>0.70</td>\n",
       "      <td>0.04</td>\n",
       "      <td>0.13</td>\n",
       "      <td>0.04</td>\n",
       "      <td>3.15</td>\n",
       "      <td>wb1</td>\n",
       "      <td>HFU3</td>\n",
       "    </tr>\n",
       "    <tr>\n",
       "      <th>1</th>\n",
       "      <td>3547.0</td>\n",
       "      <td>2.20</td>\n",
       "      <td>0.10</td>\n",
       "      <td>0.15</td>\n",
       "      <td>0.11</td>\n",
       "      <td>1.33</td>\n",
       "      <td>wb1</td>\n",
       "      <td>HFU2</td>\n",
       "    </tr>\n",
       "    <tr>\n",
       "      <th>2</th>\n",
       "      <td>3548.0</td>\n",
       "      <td>1.10</td>\n",
       "      <td>0.10</td>\n",
       "      <td>0.10</td>\n",
       "      <td>0.11</td>\n",
       "      <td>0.94</td>\n",
       "      <td>wb1</td>\n",
       "      <td>HFU2</td>\n",
       "    </tr>\n",
       "    <tr>\n",
       "      <th>3</th>\n",
       "      <td>3550.0</td>\n",
       "      <td>1.30</td>\n",
       "      <td>0.10</td>\n",
       "      <td>0.11</td>\n",
       "      <td>0.11</td>\n",
       "      <td>1.02</td>\n",
       "      <td>wb1</td>\n",
       "      <td>HFU2</td>\n",
       "    </tr>\n",
       "    <tr>\n",
       "      <th>4</th>\n",
       "      <td>3552.0</td>\n",
       "      <td>1.00</td>\n",
       "      <td>0.07</td>\n",
       "      <td>0.12</td>\n",
       "      <td>0.08</td>\n",
       "      <td>1.58</td>\n",
       "      <td>wb1</td>\n",
       "      <td>HFU2</td>\n",
       "    </tr>\n",
       "    <tr>\n",
       "      <th>...</th>\n",
       "      <td>...</td>\n",
       "      <td>...</td>\n",
       "      <td>...</td>\n",
       "      <td>...</td>\n",
       "      <td>...</td>\n",
       "      <td>...</td>\n",
       "      <td>...</td>\n",
       "      <td>...</td>\n",
       "    </tr>\n",
       "    <tr>\n",
       "      <th>189</th>\n",
       "      <td>3438.8</td>\n",
       "      <td>0.32</td>\n",
       "      <td>0.09</td>\n",
       "      <td>0.06</td>\n",
       "      <td>0.10</td>\n",
       "      <td>0.60</td>\n",
       "      <td>wb7</td>\n",
       "      <td>HFU2</td>\n",
       "    </tr>\n",
       "    <tr>\n",
       "      <th>190</th>\n",
       "      <td>3439.4</td>\n",
       "      <td>0.09</td>\n",
       "      <td>0.09</td>\n",
       "      <td>0.03</td>\n",
       "      <td>0.10</td>\n",
       "      <td>0.32</td>\n",
       "      <td>wb7</td>\n",
       "      <td>HFU1</td>\n",
       "    </tr>\n",
       "    <tr>\n",
       "      <th>191</th>\n",
       "      <td>3440.8</td>\n",
       "      <td>0.05</td>\n",
       "      <td>0.08</td>\n",
       "      <td>0.02</td>\n",
       "      <td>0.09</td>\n",
       "      <td>0.29</td>\n",
       "      <td>wb7</td>\n",
       "      <td>HFU1</td>\n",
       "    </tr>\n",
       "    <tr>\n",
       "      <th>192</th>\n",
       "      <td>3443.4</td>\n",
       "      <td>0.04</td>\n",
       "      <td>0.08</td>\n",
       "      <td>0.02</td>\n",
       "      <td>0.09</td>\n",
       "      <td>0.26</td>\n",
       "      <td>wb7</td>\n",
       "      <td>HFU1</td>\n",
       "    </tr>\n",
       "    <tr>\n",
       "      <th>193</th>\n",
       "      <td>3444.0</td>\n",
       "      <td>0.08</td>\n",
       "      <td>0.10</td>\n",
       "      <td>0.03</td>\n",
       "      <td>0.11</td>\n",
       "      <td>0.25</td>\n",
       "      <td>wb7</td>\n",
       "      <td>HFU1</td>\n",
       "    </tr>\n",
       "  </tbody>\n",
       "</table>\n",
       "<p>194 rows × 8 columns</p>\n",
       "</div>"
      ],
      "text/plain": [
       "      DEPTH  CPERM  CPOR   RQI  PHIZ   FZI WELL   HFU\n",
       "0    3545.0   0.70  0.04  0.13  0.04  3.15  wb1  HFU3\n",
       "1    3547.0   2.20  0.10  0.15  0.11  1.33  wb1  HFU2\n",
       "2    3548.0   1.10  0.10  0.10  0.11  0.94  wb1  HFU2\n",
       "3    3550.0   1.30  0.10  0.11  0.11  1.02  wb1  HFU2\n",
       "4    3552.0   1.00  0.07  0.12  0.08  1.58  wb1  HFU2\n",
       "..      ...    ...   ...   ...   ...   ...  ...   ...\n",
       "189  3438.8   0.32  0.09  0.06  0.10  0.60  wb7  HFU2\n",
       "190  3439.4   0.09  0.09  0.03  0.10  0.32  wb7  HFU1\n",
       "191  3440.8   0.05  0.08  0.02  0.09  0.29  wb7  HFU1\n",
       "192  3443.4   0.04  0.08  0.02  0.09  0.26  wb7  HFU1\n",
       "193  3444.0   0.08  0.10  0.03  0.11  0.25  wb7  HFU1\n",
       "\n",
       "[194 rows x 8 columns]"
      ]
     },
     "execution_count": 6,
     "metadata": {},
     "output_type": "execute_result"
    }
   ],
   "source": [
    "\n",
    "def myfunc(value):\n",
    "   \n",
    "    if value['FZI'] < 0.45:\n",
    "        return 'HFU1'\n",
    "    elif value['FZI'] >= 0.45 and value['FZI'] < 2.0:\n",
    "        return 'HFU2'\n",
    "    else:\n",
    "        return 'HFU3'\n",
    "\n",
    "df['HFU'] = df.apply(lambda x : myfunc(x), axis=1)\n",
    "df"
   ]
  },
  {
   "cell_type": "markdown",
   "metadata": {},
   "source": [
    "**How many entries we have in the dataset?**"
   ]
  },
  {
   "cell_type": "code",
   "execution_count": 7,
   "metadata": {},
   "outputs": [
    {
     "name": "stdout",
     "output_type": "stream",
     "text": [
      "<class 'pandas.core.frame.DataFrame'>\n",
      "RangeIndex: 194 entries, 0 to 193\n",
      "Data columns (total 8 columns):\n",
      " #   Column  Non-Null Count  Dtype  \n",
      "---  ------  --------------  -----  \n",
      " 0   DEPTH   194 non-null    float64\n",
      " 1   CPERM   194 non-null    float64\n",
      " 2   CPOR    194 non-null    float64\n",
      " 3   RQI     194 non-null    float64\n",
      " 4   PHIZ    194 non-null    float64\n",
      " 5   FZI     194 non-null    float64\n",
      " 6   WELL    194 non-null    object \n",
      " 7   HFU     194 non-null    object \n",
      "dtypes: float64(6), object(2)\n",
      "memory usage: 12.2+ KB\n"
     ]
    }
   ],
   "source": [
    "df.info()"
   ]
  },
  {
   "cell_type": "markdown",
   "metadata": {},
   "source": [
    "**Display the basic statistics, mean, std, max etc....**"
   ]
  },
  {
   "cell_type": "code",
   "execution_count": 8,
   "metadata": {},
   "outputs": [],
   "source": [
    "# Code here please so that you don't lose the output"
   ]
  },
  {
   "cell_type": "code",
   "execution_count": 9,
   "metadata": {},
   "outputs": [
    {
     "data": {
      "text/html": [
       "<div>\n",
       "<style scoped>\n",
       "    .dataframe tbody tr th:only-of-type {\n",
       "        vertical-align: middle;\n",
       "    }\n",
       "\n",
       "    .dataframe tbody tr th {\n",
       "        vertical-align: top;\n",
       "    }\n",
       "\n",
       "    .dataframe thead th {\n",
       "        text-align: right;\n",
       "    }\n",
       "</style>\n",
       "<table border=\"1\" class=\"dataframe\">\n",
       "  <thead>\n",
       "    <tr style=\"text-align: right;\">\n",
       "      <th></th>\n",
       "      <th>DEPTH</th>\n",
       "      <th>CPERM</th>\n",
       "      <th>CPOR</th>\n",
       "      <th>RQI</th>\n",
       "      <th>PHIZ</th>\n",
       "      <th>FZI</th>\n",
       "    </tr>\n",
       "  </thead>\n",
       "  <tbody>\n",
       "    <tr>\n",
       "      <th>count</th>\n",
       "      <td>194.000000</td>\n",
       "      <td>194.000000</td>\n",
       "      <td>194.000000</td>\n",
       "      <td>194.000000</td>\n",
       "      <td>194.000000</td>\n",
       "      <td>194.000000</td>\n",
       "    </tr>\n",
       "    <tr>\n",
       "      <th>mean</th>\n",
       "      <td>3863.741753</td>\n",
       "      <td>24.798918</td>\n",
       "      <td>0.088351</td>\n",
       "      <td>0.196598</td>\n",
       "      <td>0.099845</td>\n",
       "      <td>1.401495</td>\n",
       "    </tr>\n",
       "    <tr>\n",
       "      <th>std</th>\n",
       "      <td>829.790697</td>\n",
       "      <td>69.713818</td>\n",
       "      <td>0.043824</td>\n",
       "      <td>0.348808</td>\n",
       "      <td>0.054024</td>\n",
       "      <td>2.092895</td>\n",
       "    </tr>\n",
       "    <tr>\n",
       "      <th>min</th>\n",
       "      <td>1170.800000</td>\n",
       "      <td>0.000000</td>\n",
       "      <td>0.010000</td>\n",
       "      <td>0.000000</td>\n",
       "      <td>0.010000</td>\n",
       "      <td>0.000000</td>\n",
       "    </tr>\n",
       "    <tr>\n",
       "      <th>25%</th>\n",
       "      <td>3379.900000</td>\n",
       "      <td>0.020000</td>\n",
       "      <td>0.060000</td>\n",
       "      <td>0.020000</td>\n",
       "      <td>0.060000</td>\n",
       "      <td>0.180000</td>\n",
       "    </tr>\n",
       "    <tr>\n",
       "      <th>50%</th>\n",
       "      <td>3428.850000</td>\n",
       "      <td>0.200000</td>\n",
       "      <td>0.090000</td>\n",
       "      <td>0.050000</td>\n",
       "      <td>0.100000</td>\n",
       "      <td>0.450000</td>\n",
       "    </tr>\n",
       "    <tr>\n",
       "      <th>75%</th>\n",
       "      <td>4884.500000</td>\n",
       "      <td>1.362500</td>\n",
       "      <td>0.120000</td>\n",
       "      <td>0.120000</td>\n",
       "      <td>0.140000</td>\n",
       "      <td>1.330000</td>\n",
       "    </tr>\n",
       "    <tr>\n",
       "      <th>max</th>\n",
       "      <td>4972.500000</td>\n",
       "      <td>488.890000</td>\n",
       "      <td>0.210000</td>\n",
       "      <td>1.560000</td>\n",
       "      <td>0.270000</td>\n",
       "      <td>10.460000</td>\n",
       "    </tr>\n",
       "  </tbody>\n",
       "</table>\n",
       "</div>"
      ],
      "text/plain": [
       "             DEPTH       CPERM        CPOR         RQI        PHIZ         FZI\n",
       "count   194.000000  194.000000  194.000000  194.000000  194.000000  194.000000\n",
       "mean   3863.741753   24.798918    0.088351    0.196598    0.099845    1.401495\n",
       "std     829.790697   69.713818    0.043824    0.348808    0.054024    2.092895\n",
       "min    1170.800000    0.000000    0.010000    0.000000    0.010000    0.000000\n",
       "25%    3379.900000    0.020000    0.060000    0.020000    0.060000    0.180000\n",
       "50%    3428.850000    0.200000    0.090000    0.050000    0.100000    0.450000\n",
       "75%    4884.500000    1.362500    0.120000    0.120000    0.140000    1.330000\n",
       "max    4972.500000  488.890000    0.210000    1.560000    0.270000   10.460000"
      ]
     },
     "execution_count": 9,
     "metadata": {},
     "output_type": "execute_result"
    }
   ],
   "source": [
    "df.dropna().describe()"
   ]
  },
  {
   "cell_type": "markdown",
   "metadata": {
    "scrolled": false
   },
   "source": [
    "## Exploratory Data Analysis\n",
    "\n",
    "Let's do some EDA here, always good to know your data!\n",
    "\n",
    "**How the area 'A' is related to the compactness 'C', create a scatter plot please. Luckily, we have the target values, pass it as hue argument!** Any comments on clusters!"
   ]
  },
  {
   "cell_type": "code",
   "execution_count": 10,
   "metadata": {},
   "outputs": [],
   "source": [
    "# Code here please so that you don't lose the output"
   ]
  },
  {
   "cell_type": "code",
   "execution_count": 11,
   "metadata": {},
   "outputs": [
    {
     "data": {
      "text/plain": [
       "<seaborn.axisgrid.FacetGrid at 0x14c2efe1190>"
      ]
     },
     "execution_count": 11,
     "metadata": {},
     "output_type": "execute_result"
    },
    {
     "data": {
      "image/png": "[encoded data removed]",
      "text/plain": [
       "<Figure size 782x360 with 1 Axes>"
      ]
     },
     "metadata": {
      "needs_background": "light"
     },
     "output_type": "display_data"
    }
   ],
   "source": [
    "sns.lmplot(x='PHIZ', y='RQI',data=df, hue = 'HFU',\n",
    "           palette='Set1', height=5, aspect=2, fit_reg=False)"
   ]
  },
  {
   "cell_type": "code",
   "execution_count": 12,
   "metadata": {},
   "outputs": [
    {
     "data": {
      "text/plain": [
       "10.46"
      ]
     },
     "execution_count": 12,
     "metadata": {},
     "output_type": "execute_result"
    }
   ],
   "source": [
    "df['FZI'].max()"
   ]
  },
  {
   "cell_type": "code",
   "execution_count": 13,
   "metadata": {},
   "outputs": [
    {
     "data": {
      "image/png": "[encoded data removed]",
      "text/plain": [
       "<Figure size 864x432 with 1 Axes>"
      ]
     },
     "metadata": {
      "needs_background": "light"
     },
     "output_type": "display_data"
    }
   ],
   "source": [
    "g = sns.FacetGrid(df,hue='HFU',palette='Set1',height=6, aspect=2)\n",
    "g = g.map(plt.hist,'FZI',bins=20,alpha=0.5)"
   ]
  },
  {
   "cell_type": "code",
   "execution_count": 14,
   "metadata": {},
   "outputs": [
    {
     "data": {
      "text/plain": [
       "[Text(0.5, 0, 'PHiZ'), Text(0, 0.5, 'RQI')]"
      ]
     },
     "execution_count": 14,
     "metadata": {},
     "output_type": "execute_result"
    },
    {
     "data": {
      "image/png": "[encoded data removed]",
      "text/plain": [
       "<Figure size 720x504 with 1 Axes>"
      ]
     },
     "metadata": {
      "needs_background": "light"
     },
     "output_type": "display_data"
    }
   ],
   "source": [
    "#from matplotlib.ticker import FuncFormatter\n",
    "f, ax = plt.subplots(figsize=(10, 7))\n",
    "\n",
    "sns.scatterplot(x=\"PHIZ\", y=\"RQI\", hue='HFU', data=df)\n",
    "ax.set(xscale=\"log\", yscale=\"log\")\n",
    "ax.grid(True)\n",
    "ax.axis([0.005, 1, 0.005, 10])\n",
    "#ax.set_xticks([0.005,0.1,1])\n",
    "#ax.set_yticks([0.005,5,10])\n",
    "ax.set(xlabel=\"PHiZ\", ylabel=\"RQI\")\n",
    "\n"
   ]
  },
  {
   "cell_type": "code",
   "execution_count": 20,
   "metadata": {},
   "outputs": [
    {
     "data": {
      "text/plain": [
       "[Text(0.5, 0, 'Core Porosity'), Text(0, 0.5, 'Core Permeability')]"
      ]
     },
     "execution_count": 20,
     "metadata": {},
     "output_type": "execute_result"
    },
    {
     "data": {
      "image/png": "[encoded data removed]",
      "text/plain": [
       "<Figure size 720x504 with 1 Axes>"
      ]
     },
     "metadata": {
      "needs_background": "light"
     },
     "output_type": "display_data"
    }
   ],
   "source": [
    "f, ax = plt.subplots(figsize=(10, 7))\n",
    "\n",
    "sns.scatterplot(x=\"CPOR\", y=\"CPERM\", hue='HFU', data=df)\n",
    "ax.set(yscale=\"log\")\n",
    "ax.grid(True)\n",
    "ax.axis([0.005, 0.25, 0.005, 1000])\n",
    "#ax.set_xticks([0.005,0.1,1])\n",
    "#ax.set_yticks([0.005,5,10])\n",
    "ax.set(xlabel=\"Core Porosity\", ylabel=\"Core Permeability\")"
   ]
  },
  {
   "cell_type": "markdown",
   "metadata": {},
   "source": [
    "**To create the plot below (a stacked histogram) use [sns.FacetGrid](https://stanford.edu/~mwaskom/software/seaborn/generated/seaborn.FacetGrid.html).**"
   ]
  },
  {
   "cell_type": "code",
   "execution_count": 16,
   "metadata": {},
   "outputs": [],
   "source": [
    "# Code here please so that you don't lose the output"
   ]
  },
  {
   "cell_type": "code",
   "execution_count": 18,
   "metadata": {},
   "outputs": [
    {
     "data": {
      "text/plain": [
       "<seaborn.axisgrid.FacetGrid at 0x14c2fe8ce80>"
      ]
     },
     "execution_count": 18,
     "metadata": {},
     "output_type": "execute_result"
    },
    {
     "data": {
      "image/png": "[encoded data removed]",
      "text/plain": [
       "<Figure size 1310.4x252 with 8 Axes>"
      ]
     },
     "metadata": {
      "needs_background": "light"
     },
     "output_type": "display_data"
    }
   ],
   "source": [
    "g = sns.FacetGrid(df, col=\"WELL\", height=3.5, aspect=.65)\n",
    "g.map(sns.histplot, \"RQI\")"
   ]
  },
  {
   "cell_type": "code",
   "execution_count": 246,
   "metadata": {},
   "outputs": [
    {
     "data": {
      "text/html": [
       "<div>\n",
       "<style scoped>\n",
       "    .dataframe tbody tr th:only-of-type {\n",
       "        vertical-align: middle;\n",
       "    }\n",
       "\n",
       "    .dataframe tbody tr th {\n",
       "        vertical-align: top;\n",
       "    }\n",
       "\n",
       "    .dataframe thead th {\n",
       "        text-align: right;\n",
       "    }\n",
       "</style>\n",
       "<table border=\"1\" class=\"dataframe\">\n",
       "  <thead>\n",
       "    <tr style=\"text-align: right;\">\n",
       "      <th></th>\n",
       "      <th>DEPTH</th>\n",
       "      <th>CPERM</th>\n",
       "      <th>CPOR</th>\n",
       "      <th>RQI</th>\n",
       "      <th>PHIZ</th>\n",
       "      <th>FZI</th>\n",
       "      <th>Facies</th>\n",
       "      <th>PHIE</th>\n",
       "      <th>RESD</th>\n",
       "      <th>RESM</th>\n",
       "      <th>RESS</th>\n",
       "      <th>WELL</th>\n",
       "      <th>HFU</th>\n",
       "    </tr>\n",
       "  </thead>\n",
       "  <tbody>\n",
       "    <tr>\n",
       "      <th>14</th>\n",
       "      <td>3357.0</td>\n",
       "      <td>5.89</td>\n",
       "      <td>0.08</td>\n",
       "      <td>0.27</td>\n",
       "      <td>0.09</td>\n",
       "      <td>3.13</td>\n",
       "      <td>6</td>\n",
       "      <td>0.105</td>\n",
       "      <td>58.466</td>\n",
       "      <td>79.595</td>\n",
       "      <td>11.849</td>\n",
       "      <td>wb7</td>\n",
       "      <td>HFU3</td>\n",
       "    </tr>\n",
       "    <tr>\n",
       "      <th>18</th>\n",
       "      <td>3359.0</td>\n",
       "      <td>8.48</td>\n",
       "      <td>0.08</td>\n",
       "      <td>0.33</td>\n",
       "      <td>0.08</td>\n",
       "      <td>3.89</td>\n",
       "      <td>4</td>\n",
       "      <td>0.080</td>\n",
       "      <td>39.998</td>\n",
       "      <td>54.358</td>\n",
       "      <td>20.112</td>\n",
       "      <td>wb7</td>\n",
       "      <td>HFU3</td>\n",
       "    </tr>\n",
       "    <tr>\n",
       "      <th>99</th>\n",
       "      <td>3399.5</td>\n",
       "      <td>286.91</td>\n",
       "      <td>0.17</td>\n",
       "      <td>1.29</td>\n",
       "      <td>0.20</td>\n",
       "      <td>6.37</td>\n",
       "      <td>8</td>\n",
       "      <td>0.168</td>\n",
       "      <td>54.805</td>\n",
       "      <td>45.661</td>\n",
       "      <td>4.760</td>\n",
       "      <td>wb7</td>\n",
       "      <td>HFU3</td>\n",
       "    </tr>\n",
       "    <tr>\n",
       "      <th>100</th>\n",
       "      <td>3400.0</td>\n",
       "      <td>265.51</td>\n",
       "      <td>0.16</td>\n",
       "      <td>1.28</td>\n",
       "      <td>0.19</td>\n",
       "      <td>6.77</td>\n",
       "      <td>8</td>\n",
       "      <td>0.166</td>\n",
       "      <td>48.100</td>\n",
       "      <td>41.655</td>\n",
       "      <td>3.990</td>\n",
       "      <td>wb7</td>\n",
       "      <td>HFU3</td>\n",
       "    </tr>\n",
       "    <tr>\n",
       "      <th>104</th>\n",
       "      <td>3402.0</td>\n",
       "      <td>21.46</td>\n",
       "      <td>0.13</td>\n",
       "      <td>0.41</td>\n",
       "      <td>0.15</td>\n",
       "      <td>2.82</td>\n",
       "      <td>8</td>\n",
       "      <td>0.133</td>\n",
       "      <td>67.813</td>\n",
       "      <td>61.878</td>\n",
       "      <td>13.128</td>\n",
       "      <td>wb7</td>\n",
       "      <td>HFU3</td>\n",
       "    </tr>\n",
       "    <tr>\n",
       "      <th>105</th>\n",
       "      <td>3402.5</td>\n",
       "      <td>43.63</td>\n",
       "      <td>0.14</td>\n",
       "      <td>0.55</td>\n",
       "      <td>0.16</td>\n",
       "      <td>3.42</td>\n",
       "      <td>8</td>\n",
       "      <td>0.117</td>\n",
       "      <td>70.086</td>\n",
       "      <td>63.670</td>\n",
       "      <td>17.186</td>\n",
       "      <td>wb7</td>\n",
       "      <td>HFU3</td>\n",
       "    </tr>\n",
       "    <tr>\n",
       "      <th>107</th>\n",
       "      <td>3403.5</td>\n",
       "      <td>132.98</td>\n",
       "      <td>0.13</td>\n",
       "      <td>1.01</td>\n",
       "      <td>0.15</td>\n",
       "      <td>6.81</td>\n",
       "      <td>5</td>\n",
       "      <td>0.110</td>\n",
       "      <td>54.423</td>\n",
       "      <td>51.469</td>\n",
       "      <td>13.729</td>\n",
       "      <td>wb7</td>\n",
       "      <td>HFU3</td>\n",
       "    </tr>\n",
       "    <tr>\n",
       "      <th>116</th>\n",
       "      <td>3408.0</td>\n",
       "      <td>99.64</td>\n",
       "      <td>0.14</td>\n",
       "      <td>0.84</td>\n",
       "      <td>0.16</td>\n",
       "      <td>5.25</td>\n",
       "      <td>4</td>\n",
       "      <td>0.093</td>\n",
       "      <td>25.259</td>\n",
       "      <td>29.986</td>\n",
       "      <td>28.010</td>\n",
       "      <td>wb7</td>\n",
       "      <td>HFU3</td>\n",
       "    </tr>\n",
       "  </tbody>\n",
       "</table>\n",
       "</div>"
      ],
      "text/plain": [
       "      DEPTH   CPERM  CPOR   RQI  PHIZ   FZI  Facies   PHIE    RESD    RESM  \\\n",
       "14   3357.0    5.89  0.08  0.27  0.09  3.13       6  0.105  58.466  79.595   \n",
       "18   3359.0    8.48  0.08  0.33  0.08  3.89       4  0.080  39.998  54.358   \n",
       "99   3399.5  286.91  0.17  1.29  0.20  6.37       8  0.168  54.805  45.661   \n",
       "100  3400.0  265.51  0.16  1.28  0.19  6.77       8  0.166  48.100  41.655   \n",
       "104  3402.0   21.46  0.13  0.41  0.15  2.82       8  0.133  67.813  61.878   \n",
       "105  3402.5   43.63  0.14  0.55  0.16  3.42       8  0.117  70.086  63.670   \n",
       "107  3403.5  132.98  0.13  1.01  0.15  6.81       5  0.110  54.423  51.469   \n",
       "116  3408.0   99.64  0.14  0.84  0.16  5.25       4  0.093  25.259  29.986   \n",
       "\n",
       "       RESS WELL   HFU  \n",
       "14   11.849  wb7  HFU3  \n",
       "18   20.112  wb7  HFU3  \n",
       "99    4.760  wb7  HFU3  \n",
       "100   3.990  wb7  HFU3  \n",
       "104  13.128  wb7  HFU3  \n",
       "105  17.186  wb7  HFU3  \n",
       "107  13.729  wb7  HFU3  \n",
       "116  28.010  wb7  HFU3  "
      ]
     },
     "execution_count": 246,
     "metadata": {},
     "output_type": "execute_result"
    }
   ],
   "source": [
    "# Code here please so that you don't lose the output\n",
    "df2 = df[df['HFU'] == 'HFU3'].dropna()\n",
    "df2"
   ]
  },
  {
   "cell_type": "code",
   "execution_count": 247,
   "metadata": {},
   "outputs": [
    {
     "data": {
      "text/plain": [
       "[Text(0.5, 0, 'Core Porosity'), Text(0, 0.5, 'Core Permeability')]"
      ]
     },
     "execution_count": 247,
     "metadata": {},
     "output_type": "execute_result"
    },
    {
     "data": {
      "image/png": "[encoded data removed]",
      "text/plain": [
       "<Figure size 500x300 with 1 Axes>"
      ]
     },
     "metadata": {},
     "output_type": "display_data"
    }
   ],
   "source": [
    "# Code here please so that you don't lose the output\n",
    "f, ax = plt.subplots(figsize=(5, 3))\n",
    "\n",
    "sns.scatterplot(x=\"CPOR\", y=\"CPERM\", data=df2)\n",
    "ax.set(yscale=\"log\")\n",
    "ax.grid(True)\n",
    "ax.axis([0.06, 0.20, 1, 1000])\n",
    "#ax.set_xticks([0.005,0.1,1])\n",
    "#ax.set_yticks([0.005,5,10])\n",
    "ax.set(xlabel=\"Core Porosity\", ylabel=\"Core Permeability\")"
   ]
  },
  {
   "cell_type": "code",
   "execution_count": 248,
   "metadata": {},
   "outputs": [
    {
     "name": "stdout",
     "output_type": "stream",
     "text": [
      "(8, 1) (8,)\n"
     ]
    }
   ],
   "source": [
    "#preprocessing\n",
    "features = ['CPOR']\n",
    "target = 'CPERM'\n",
    "\n",
    "X = df2[features].values.reshape(-1, len(features))\n",
    "y = np.log(df2[target].values)\n",
    "print(X.shape, y.shape)"
   ]
  },
  {
   "cell_type": "code",
   "execution_count": 249,
   "metadata": {},
   "outputs": [],
   "source": [
    "#Ordinary Least Squares\n",
    "from sklearn import linear_model\n",
    "ols = linear_model.LinearRegression()\n",
    "model = ols.fit(X, y)"
   ]
  },
  {
   "cell_type": "code",
   "execution_count": 250,
   "metadata": {},
   "outputs": [
    {
     "name": "stdout",
     "output_type": "stream",
     "text": [
      "[41.80786208] -1.4470765324424617\n"
     ]
    }
   ],
   "source": [
    "#linear regression coefficient and the y-intercept \n",
    "print(model.coef_, model.intercept_)"
   ]
  },
  {
   "cell_type": "markdown",
   "metadata": {},
   "source": [
    "## The HFU 3 permeability  can be predicted from porosity, with the following linear model:\n",
    "The result of the regression is: $10^{(41.80786208  * CPOR -1.4470765324424617)}$"
   ]
  },
  {
   "cell_type": "code",
   "execution_count": 251,
   "metadata": {},
   "outputs": [
    {
     "data": {
      "text/plain": [
       "0.8545234262657919"
      ]
     },
     "execution_count": 251,
     "metadata": {},
     "output_type": "execute_result"
    }
   ],
   "source": [
    "#Accuracy assessment: R2\n",
    "model.score(X, y)"
   ]
  },
  {
   "cell_type": "code",
   "execution_count": 252,
   "metadata": {},
   "outputs": [
    {
     "data": {
      "text/plain": [
       "array([4.40602416, 6.07833864])"
      ]
     },
     "execution_count": 252,
     "metadata": {},
     "output_type": "execute_result"
    }
   ],
   "source": [
    "#assume CPOR = 14% and 18%\n",
    "x_pred = np.array([0.14, 0.18])\n",
    "x_pred = x_pred.reshape(-1, len(features))  # preprocessing required by scikit-learn functions\n",
    "model.predict(x_pred)"
   ]
  },
  {
   "cell_type": "code",
   "execution_count": 253,
   "metadata": {},
   "outputs": [],
   "source": [
    "x_pred = np.linspace(0, 0.20, 200)            # 200 data points between 0 ~ 40\n",
    "x_pred = x_pred.reshape(-1, len(features))  # preprocessing required by scikit-learn functions\n",
    "y_pred = model.predict(x_pred)"
   ]
  },
  {
   "cell_type": "code",
   "execution_count": 256,
   "metadata": {},
   "outputs": [
    {
     "data": {
      "image/png": "[encoded data removed]",
      "text/plain": [
       "<Figure size 800x500 with 1 Axes>"
      ]
     },
     "metadata": {},
     "output_type": "display_data"
    }
   ],
   "source": [
    "plt.style.use('default')\n",
    "plt.style.use('ggplot')\n",
    "\n",
    "fig, ax = plt.subplots(figsize=(8, 5))\n",
    "\n",
    "ax.plot(x_pred, y_pred, color='r', label='Regression model')\n",
    "ax.scatter(X, y, edgecolor='k', facecolor='blue', alpha=0.7, label='HFU3 actual data')\n",
    "ax.set_ylabel('Permeability (Md)', fontsize=10)\n",
    "ax.set_xlabel('Porosity (vol/vol)', fontsize=10)\n",
    "#ax.set(yscale=\"log\")\n",
    "ax.axis([0.06, 0.20, 0, 10])\n",
    "ax.legend(facecolor='white', fontsize=11)\n",
    "ax.text(0.05, 0.72, '$y = %.2f CPOR - %.2f $' % (model.coef_[0], abs(model.intercept_)), fontsize=17, transform=ax.transAxes)\n",
    "\n",
    "fig.tight_layout()"
   ]
  },
  {
   "cell_type": "code",
   "execution_count": 257,
   "metadata": {},
   "outputs": [
    {
     "data": {
      "text/html": [
       "<div>\n",
       "<style scoped>\n",
       "    .dataframe tbody tr th:only-of-type {\n",
       "        vertical-align: middle;\n",
       "    }\n",
       "\n",
       "    .dataframe tbody tr th {\n",
       "        vertical-align: top;\n",
       "    }\n",
       "\n",
       "    .dataframe thead th {\n",
       "        text-align: right;\n",
       "    }\n",
       "</style>\n",
       "<table border=\"1\" class=\"dataframe\">\n",
       "  <thead>\n",
       "    <tr style=\"text-align: right;\">\n",
       "      <th></th>\n",
       "      <th>DEPTH</th>\n",
       "      <th>CPERM</th>\n",
       "      <th>CPOR</th>\n",
       "      <th>RQI</th>\n",
       "      <th>PHIZ</th>\n",
       "      <th>FZI</th>\n",
       "      <th>Facies</th>\n",
       "      <th>PHIE</th>\n",
       "      <th>RESD</th>\n",
       "      <th>RESM</th>\n",
       "      <th>RESS</th>\n",
       "      <th>WELL</th>\n",
       "      <th>HFU</th>\n",
       "    </tr>\n",
       "  </thead>\n",
       "  <tbody>\n",
       "    <tr>\n",
       "      <th>28</th>\n",
       "      <td>3364.0</td>\n",
       "      <td>0.25</td>\n",
       "      <td>0.05</td>\n",
       "      <td>0.07</td>\n",
       "      <td>0.05</td>\n",
       "      <td>1.37</td>\n",
       "      <td>0</td>\n",
       "      <td>0.044</td>\n",
       "      <td>27.796</td>\n",
       "      <td>34.115</td>\n",
       "      <td>29.115</td>\n",
       "      <td>wb7</td>\n",
       "      <td>HFU2</td>\n",
       "    </tr>\n",
       "    <tr>\n",
       "      <th>31</th>\n",
       "      <td>3365.5</td>\n",
       "      <td>0.01</td>\n",
       "      <td>0.03</td>\n",
       "      <td>0.02</td>\n",
       "      <td>0.03</td>\n",
       "      <td>0.52</td>\n",
       "      <td>3</td>\n",
       "      <td>0.049</td>\n",
       "      <td>38.146</td>\n",
       "      <td>43.957</td>\n",
       "      <td>22.301</td>\n",
       "      <td>wb7</td>\n",
       "      <td>HFU2</td>\n",
       "    </tr>\n",
       "    <tr>\n",
       "      <th>83</th>\n",
       "      <td>3391.5</td>\n",
       "      <td>0.96</td>\n",
       "      <td>0.10</td>\n",
       "      <td>0.10</td>\n",
       "      <td>0.11</td>\n",
       "      <td>0.95</td>\n",
       "      <td>3</td>\n",
       "      <td>0.088</td>\n",
       "      <td>45.792</td>\n",
       "      <td>46.510</td>\n",
       "      <td>51.392</td>\n",
       "      <td>wb7</td>\n",
       "      <td>HFU2</td>\n",
       "    </tr>\n",
       "    <tr>\n",
       "      <th>109</th>\n",
       "      <td>3404.5</td>\n",
       "      <td>6.71</td>\n",
       "      <td>0.14</td>\n",
       "      <td>0.22</td>\n",
       "      <td>0.16</td>\n",
       "      <td>1.34</td>\n",
       "      <td>4</td>\n",
       "      <td>0.106</td>\n",
       "      <td>45.479</td>\n",
       "      <td>46.958</td>\n",
       "      <td>30.773</td>\n",
       "      <td>wb7</td>\n",
       "      <td>HFU2</td>\n",
       "    </tr>\n",
       "    <tr>\n",
       "      <th>126</th>\n",
       "      <td>3413.0</td>\n",
       "      <td>1.38</td>\n",
       "      <td>0.13</td>\n",
       "      <td>0.10</td>\n",
       "      <td>0.15</td>\n",
       "      <td>0.68</td>\n",
       "      <td>4</td>\n",
       "      <td>0.126</td>\n",
       "      <td>40.787</td>\n",
       "      <td>38.565</td>\n",
       "      <td>22.315</td>\n",
       "      <td>wb7</td>\n",
       "      <td>HFU2</td>\n",
       "    </tr>\n",
       "  </tbody>\n",
       "</table>\n",
       "</div>"
      ],
      "text/plain": [
       "      DEPTH  CPERM  CPOR   RQI  PHIZ   FZI  Facies   PHIE    RESD    RESM  \\\n",
       "28   3364.0   0.25  0.05  0.07  0.05  1.37       0  0.044  27.796  34.115   \n",
       "31   3365.5   0.01  0.03  0.02  0.03  0.52       3  0.049  38.146  43.957   \n",
       "83   3391.5   0.96  0.10  0.10  0.11  0.95       3  0.088  45.792  46.510   \n",
       "109  3404.5   6.71  0.14  0.22  0.16  1.34       4  0.106  45.479  46.958   \n",
       "126  3413.0   1.38  0.13  0.10  0.15  0.68       4  0.126  40.787  38.565   \n",
       "\n",
       "       RESS WELL   HFU  \n",
       "28   29.115  wb7  HFU2  \n",
       "31   22.301  wb7  HFU2  \n",
       "83   51.392  wb7  HFU2  \n",
       "109  30.773  wb7  HFU2  \n",
       "126  22.315  wb7  HFU2  "
      ]
     },
     "execution_count": 257,
     "metadata": {},
     "output_type": "execute_result"
    }
   ],
   "source": [
    "df3 = df[df['HFU'] == 'HFU2'].dropna()\n",
    "df3.head(5)"
   ]
  },
  {
   "cell_type": "code",
   "execution_count": 258,
   "metadata": {},
   "outputs": [
    {
     "data": {
      "text/plain": [
       "[Text(0.5, 0, 'Core Porosity'), Text(0, 0.5, 'Core Permeability')]"
      ]
     },
     "execution_count": 258,
     "metadata": {},
     "output_type": "execute_result"
    },
    {
     "data": {
      "image/png": "[encoded data removed]",
      "text/plain": [
       "<Figure size 500x300 with 1 Axes>"
      ]
     },
     "metadata": {},
     "output_type": "display_data"
    }
   ],
   "source": [
    "# Code here please so that you don't lose the output\n",
    "f, ax = plt.subplots(figsize=(5, 3))\n",
    "\n",
    "sns.scatterplot(x=\"CPOR\", y=\"CPERM\", data=df3)\n",
    "ax.set(yscale=\"log\")\n",
    "ax.grid(True)\n",
    "ax.axis([0.001, 0.15, 0.005, 50])\n",
    "#ax.set_xticks([0.005,0.1,1])\n",
    "#ax.set_yticks([0.005,5,10])\n",
    "ax.set(xlabel=\"Core Porosity\", ylabel=\"Core Permeability\")"
   ]
  },
  {
   "cell_type": "code",
   "execution_count": 259,
   "metadata": {},
   "outputs": [
    {
     "name": "stdout",
     "output_type": "stream",
     "text": [
      "(24, 1) (24,)\n"
     ]
    }
   ],
   "source": [
    "#preprocessing\n",
    "features = ['CPOR']\n",
    "target = 'CPERM'\n",
    "\n",
    "X = df3[features].values.reshape(-1, len(features))\n",
    "y = np.log(df3[target].values)\n",
    "print(X.shape, y.shape)"
   ]
  },
  {
   "cell_type": "code",
   "execution_count": 260,
   "metadata": {},
   "outputs": [
    {
     "name": "stdout",
     "output_type": "stream",
     "text": [
      "[44.87998396] -4.690650768532301\n"
     ]
    }
   ],
   "source": [
    "#Ordinary Least Squares\n",
    "from sklearn import linear_model\n",
    "ols = linear_model.LinearRegression()\n",
    "model = ols.fit(X, y)#linear regression coefficient and the y-intercept \n",
    "print(model.coef_, model.intercept_)"
   ]
  },
  {
   "cell_type": "markdown",
   "metadata": {},
   "source": [
    "## The HFU 2 permeability  can be predicted from porosity, with the following linear model:\n",
    "The result of the regression is: $10^{(44.87998396  * CPOR -4.690650768532301)}$"
   ]
  },
  {
   "cell_type": "code",
   "execution_count": 261,
   "metadata": {},
   "outputs": [
    {
     "data": {
      "text/plain": [
       "0.7812779885358434"
      ]
     },
     "execution_count": 261,
     "metadata": {},
     "output_type": "execute_result"
    }
   ],
   "source": [
    "#Accuracy assessment: R2\n",
    "model.score(X, y)"
   ]
  },
  {
   "cell_type": "code",
   "execution_count": 262,
   "metadata": {},
   "outputs": [],
   "source": [
    "x_pred = np.linspace(0, 0.15, 200)            # 200 data points between 0 ~ 40\n",
    "x_pred = x_pred.reshape(-1, len(features))  # preprocessing required by scikit-learn functions\n",
    "y_pred = model.predict(x_pred)"
   ]
  },
  {
   "cell_type": "code",
   "execution_count": 265,
   "metadata": {},
   "outputs": [
    {
     "data": {
      "image/png": "[encoded data removed]",
      "text/plain": [
       "<Figure size 800x500 with 1 Axes>"
      ]
     },
     "metadata": {},
     "output_type": "display_data"
    }
   ],
   "source": [
    "plt.style.use('default')\n",
    "plt.style.use('ggplot')\n",
    "\n",
    "fig, ax = plt.subplots(figsize=(8, 5))\n",
    "\n",
    "ax.plot(x_pred, y_pred, color='r', label='Regression model')\n",
    "ax.scatter(X, y, edgecolor='k', facecolor='blue', alpha=0.7, label='HFU2 actual data')\n",
    "ax.set_ylabel('Permeability (Md)', fontsize=10)\n",
    "ax.set_xlabel('Porosity (vol/vol)', fontsize=10)\n",
    "#ax.set(yscale=\"log\")\n",
    "ax.axis([0.0, 0.16, -5.75, 5])\n",
    "ax.legend(facecolor='white', fontsize=11)\n",
    "ax.text(0.05, 0.72, '$y = %.2f CPOR - %.2f $' % (model.coef_[0], abs(model.intercept_)), fontsize=17, transform=ax.transAxes)\n",
    "\n",
    "fig.tight_layout()"
   ]
  },
  {
   "cell_type": "code",
   "execution_count": null,
   "metadata": {},
   "outputs": [],
   "source": []
  },
  {
   "cell_type": "code",
   "execution_count": null,
   "metadata": {},
   "outputs": [],
   "source": []
  },
  {
   "cell_type": "code",
   "execution_count": null,
   "metadata": {},
   "outputs": [],
   "source": []
  },
  {
   "cell_type": "code",
   "execution_count": null,
   "metadata": {},
   "outputs": [],
   "source": []
  },
  {
   "cell_type": "code",
   "execution_count": null,
   "metadata": {},
   "outputs": [],
   "source": []
  },
  {
   "cell_type": "code",
   "execution_count": null,
   "metadata": {},
   "outputs": [],
   "source": []
  },
  {
   "cell_type": "code",
   "execution_count": null,
   "metadata": {},
   "outputs": [],
   "source": []
  },
  {
   "cell_type": "code",
   "execution_count": null,
   "metadata": {},
   "outputs": [],
   "source": []
  },
  {
   "cell_type": "code",
   "execution_count": null,
   "metadata": {},
   "outputs": [],
   "source": []
  },
  {
   "cell_type": "code",
   "execution_count": null,
   "metadata": {},
   "outputs": [],
   "source": []
  },
  {
   "cell_type": "code",
   "execution_count": null,
   "metadata": {},
   "outputs": [],
   "source": []
  }
 ],
 "metadata": {
  "kernelspec": {
   "display_name": "Python 3 (ipykernel)",
   "language": "python",
   "name": "python3"
  },
  "language_info": {
   "codemirror_mode": {
    "name": "ipython",
    "version": 3
   },
   "file_extension": ".py",
   "mimetype": "text/x-python",
   "name": "python",
   "nbconvert_exporter": "python",
   "pygments_lexer": "ipython3",
   "version": "3.9.7"
  }
 },
 "nbformat": 4,
 "nbformat_minor": 2
}
